{
 "cells": [
  {
   "cell_type": "code",
   "execution_count": 1,
   "metadata": {},
   "outputs": [],
   "source": [
    "from loader_ref import ExcelLoader"
   ]
  },
  {
   "cell_type": "code",
   "execution_count": 2,
   "metadata": {},
   "outputs": [],
   "source": [
    "from language_ref import Language"
   ]
  },
  {
   "cell_type": "code",
   "execution_count": 3,
   "metadata": {},
   "outputs": [],
   "source": [
    "loader=ExcelLoader(\"/workspaces/de.uke.iam.automapping/src/automapping/VM_Fragebögen_HCHS_10000_20210708.xlsx\", 'Kurzname', 'Langname')"
   ]
  },
  {
   "cell_type": "code",
   "execution_count": 4,
   "metadata": {},
   "outputs": [],
   "source": [
    "sample = loader.load(Language.GERMAN)[0]"
   ]
  },
  {
   "cell_type": "code",
   "execution_count": 5,
   "metadata": {},
   "outputs": [
    {
     "name": "stderr",
     "output_type": "stream",
     "text": [
      "/opt/conda/lib/python3.8/site-packages/tqdm/auto.py:22: TqdmWarning: IProgress not found. Please update jupyter and ipywidgets. See https://ipywidgets.readthedocs.io/en/stable/user_install.html\n",
      "  from .autonotebook import tqdm as notebook_tqdm\n"
     ]
    }
   ],
   "source": [
    "from translator_ref import HuggingFace"
   ]
  },
  {
   "cell_type": "code",
   "execution_count": 6,
   "metadata": {},
   "outputs": [],
   "source": [
    "model_translator = HuggingFace(Language.GERMAN, Language.ENGLISH)"
   ]
  },
  {
   "cell_type": "code",
   "execution_count": 7,
   "metadata": {},
   "outputs": [],
   "source": [
    "sample = model_translator.translate(sample)"
   ]
  },
  {
   "cell_type": "code",
   "execution_count": 8,
   "metadata": {},
   "outputs": [
    {
     "name": "stdout",
     "output_type": "stream",
     "text": [
      "Sample(id='E0', content='Have you been feeding yourself meatless in the past 12 months?', language=<Language.ENGLISH: 'en'>, concepts=[])\n"
     ]
    }
   ],
   "source": [
    "print(sample)"
   ]
  },
  {
   "cell_type": "code",
   "execution_count": 9,
   "metadata": {},
   "outputs": [],
   "source": [
    "from preprocessor_ref import SpacyPreprocessor"
   ]
  },
  {
   "cell_type": "code",
   "execution_count": 10,
   "metadata": {},
   "outputs": [],
   "source": [
    "model_spacy=SpacyPreprocessor([\"lowercase\", \"stopwords\", \"punctuation\", \"lemmatization\"])"
   ]
  },
  {
   "cell_type": "code",
   "execution_count": 11,
   "metadata": {},
   "outputs": [
    {
     "data": {
      "text/plain": [
       "Sample(id='E0', content='feeding meatless past 12 months', language=<Language.ENGLISH: 'en'>, concepts=[])"
      ]
     },
     "execution_count": 11,
     "metadata": {},
     "output_type": "execute_result"
    }
   ],
   "source": [
    "model_spacy.transform(sample)"
   ]
  },
  {
   "cell_type": "code",
   "execution_count": 12,
   "metadata": {},
   "outputs": [
    {
     "data": {
      "text/plain": [
       "Sample(id='E0', content='feeding meatless past 12 months', language=<Language.ENGLISH: 'en'>, concepts=[])"
      ]
     },
     "execution_count": 12,
     "metadata": {},
     "output_type": "execute_result"
    }
   ],
   "source": [
    "sample"
   ]
  },
  {
   "attachments": {},
   "cell_type": "markdown",
   "metadata": {},
   "source": [
    "## Concepts"
   ]
  },
  {
   "cell_type": "code",
   "execution_count": 13,
   "metadata": {},
   "outputs": [],
   "source": [
    "from concepts_ref import Concepts"
   ]
  },
  {
   "cell_type": "code",
   "execution_count": 14,
   "metadata": {},
   "outputs": [],
   "source": [
    "import pandas as pd"
   ]
  },
  {
   "cell_type": "code",
   "execution_count": 15,
   "metadata": {},
   "outputs": [],
   "source": [
    "concepts = pd.read_csv('/workspaces/de.uke.iam.automapping/src/automapping/CONCEPT.csv', on_bad_lines=\"skip\", delimiter=\"\\t\", low_memory=False)"
   ]
  },
  {
   "cell_type": "code",
   "execution_count": 16,
   "metadata": {},
   "outputs": [],
   "source": [
    "synonyms = pd.read_csv('/workspaces/de.uke.iam.automapping/src/automapping/CONCEPT_SYNONYM.csv', on_bad_lines=\"skip\", delimiter=\"\\t\", low_memory=False)"
   ]
  },
  {
   "cell_type": "code",
   "execution_count": 17,
   "metadata": {},
   "outputs": [],
   "source": [
    "vocabulary = pd.read_csv('/workspaces/de.uke.iam.automapping/src/automapping/VOCABULARY.csv',on_bad_lines='skip', delimiter='\\t')"
   ]
  },
  {
   "cell_type": "code",
   "execution_count": 18,
   "metadata": {},
   "outputs": [
    {
     "name": "stderr",
     "output_type": "stream",
     "text": [
      "/workspaces/de.uke.iam.automapping/src/automapping_ref/concepts_ref.py:36: SettingWithCopyWarning: \n",
      "A value is trying to be set on a copy of a slice from a DataFrame.\n",
      "Try using .loc[row_indexer,col_indexer] = value instead\n",
      "\n",
      "See the caveats in the documentation: https://pandas.pydata.org/pandas-docs/stable/user_guide/indexing.html#returning-a-view-versus-a-copy\n",
      "  concepts[\"concept_name\"] = (\n"
     ]
    }
   ],
   "source": [
    "concepts = Concepts.concatenate_concept_with_their_synonyms(concepts, synonyms, vocabulary, 'SNOMED')\n"
   ]
  },
  {
   "cell_type": "code",
   "execution_count": 19,
   "metadata": {},
   "outputs": [],
   "source": [
    "from mapper_ref import TfIdf"
   ]
  },
  {
   "cell_type": "code",
   "execution_count": 20,
   "metadata": {},
   "outputs": [],
   "source": [
    "model_tfidf = TfIdf(concepts)\n"
   ]
  },
  {
   "cell_type": "code",
   "execution_count": 21,
   "metadata": {},
   "outputs": [],
   "source": [
    "sample = model_tfidf(sample)"
   ]
  },
  {
   "cell_type": "code",
   "execution_count": 22,
   "metadata": {},
   "outputs": [
    {
     "data": {
      "text/plain": [
       "Sample(id='E0', content='feeding meatless past 12 months', language=<Language.ENGLISH: 'en'>, concepts=[Prediction(concept=Concept(name='past', concept_id=4132507, concept_code='410513005', domain_id='Observation', voc_version='2020-07-31 SNOMED CT International Edition; 2020-09-01 SNOMED CT US Edition; 2020-10-28 SNOMED CT UK Edition'), score=0.5975503830827499), Prediction(concept=Concept(name='infant feeding at 4 months', concept_id=4217242, concept_code='417489001', domain_id='Observation', voc_version='2020-07-31 SNOMED CT International Edition; 2020-09-01 SNOMED CT US Edition; 2020-10-28 SNOMED CT UK Edition'), score=0.5100337248064811), Prediction(concept=Concept(name='infant feeding at 9 months', concept_id=4014595, concept_code='169990005', domain_id='Synonym', voc_version='2020-07-31 SNOMED CT International Edition; 2020-09-01 SNOMED CT US Edition; 2020-10-28 SNOMED CT UK Edition'), score=0.5100337248064811), Prediction(concept=Concept(name='infant feeding at 6 months', concept_id=4014725, concept_code='169983000', domain_id='Synonym', voc_version='2020-07-31 SNOMED CT International Edition; 2020-09-01 SNOMED CT US Edition; 2020-10-28 SNOMED CT UK Edition'), score=0.5100337248064811), Prediction(concept=Concept(name='infant feeding at 3 months', concept_id=4016066, concept_code='169977003', domain_id='Synonym', voc_version='2020-07-31 SNOMED CT International Edition; 2020-09-01 SNOMED CT US Edition; 2020-10-28 SNOMED CT UK Edition'), score=0.5100337248064811), Prediction(concept=Concept(name='feeding', concept_id=4043372, concept_code='129007004', domain_id='Observation', voc_version='2020-07-31 SNOMED CT International Edition; 2020-09-01 SNOMED CT US Edition; 2020-10-28 SNOMED CT UK Edition'), score=0.5059330215515212), Prediction(concept=Concept(name='feeding', concept_id=4327347, concept_code='75118006', domain_id='Synonym', voc_version='2020-07-31 SNOMED CT International Edition; 2020-09-01 SNOMED CT US Edition; 2020-10-28 SNOMED CT UK Edition'), score=0.5059330215515212), Prediction(concept=Concept(name='infant feeding at 3 months - finding', concept_id=4264999, concept_code='364772001', domain_id='Observation', voc_version='2020-07-31 SNOMED CT International Edition; 2020-09-01 SNOMED CT US Edition; 2020-10-28 SNOMED CT UK Edition'), score=0.4926137638396175), Prediction(concept=Concept(name='infant feeding at 6 months - finding', concept_id=4271780, concept_code='364773006', domain_id='Observation', voc_version='2020-07-31 SNOMED CT International Edition; 2020-09-01 SNOMED CT US Edition; 2020-10-28 SNOMED CT UK Edition'), score=0.4926137638396175), Prediction(concept=Concept(name='infant feeding at 9 months - finding', concept_id=4266776, concept_code='364775004', domain_id='Observation', voc_version='2020-07-31 SNOMED CT International Edition; 2020-09-01 SNOMED CT US Edition; 2020-10-28 SNOMED CT UK Edition'), score=0.4926137638396175), Prediction(concept=Concept(name='infant feeding at 4 months (finding)', concept_id=4217242, concept_code='417489001', domain_id='Synonym', voc_version='2020-07-31 SNOMED CT International Edition; 2020-09-01 SNOMED CT US Edition; 2020-10-28 SNOMED CT UK Edition'), score=0.4926137638396175), Prediction(concept=Concept(name='finding of infant feeding at 3 months', concept_id=4264999, concept_code='364772001', domain_id='Synonym', voc_version='2020-07-31 SNOMED CT International Edition; 2020-09-01 SNOMED CT US Edition; 2020-10-28 SNOMED CT UK Edition'), score=0.48662847031297407), Prediction(concept=Concept(name='finding of infant feeding at 9 months', concept_id=4266776, concept_code='364775004', domain_id='Synonym', voc_version='2020-07-31 SNOMED CT International Edition; 2020-09-01 SNOMED CT US Edition; 2020-10-28 SNOMED CT UK Edition'), score=0.48662847031297407), Prediction(concept=Concept(name='finding of infant feeding at 6 months', concept_id=4271780, concept_code='364773006', domain_id='Synonym', voc_version='2020-07-31 SNOMED CT International Edition; 2020-09-01 SNOMED CT US Edition; 2020-10-28 SNOMED CT UK Edition'), score=0.48662847031297407), Prediction(concept=Concept(name='past medication', concept_id=4214707, concept_code='394829006', domain_id='Observation', voc_version='2020-07-31 SNOMED CT International Edition; 2020-09-01 SNOMED CT US Edition; 2020-10-28 SNOMED CT UK Edition'), score=0.4784325096502756), Prediction(concept=Concept(name='past medical history', concept_id=4214956, concept_code='417662000', domain_id='Synonym', voc_version='2020-07-31 SNOMED CT International Edition; 2020-09-01 SNOMED CT US Edition; 2020-10-28 SNOMED CT UK Edition'), score=0.4774571951172934), Prediction(concept=Concept(name='past history of procedure', concept_id=4215685, concept_code='416940007', domain_id='Observation', voc_version='2020-07-31 SNOMED CT International Edition; 2020-09-01 SNOMED CT US Edition; 2020-10-28 SNOMED CT UK Edition'), score=0.47281894513842687), Prediction(concept=Concept(name='sexually active in past six months', concept_id=37017762, concept_code='714093000', domain_id='Synonym', voc_version='2020-07-31 SNOMED CT International Edition; 2020-09-01 SNOMED CT US Edition; 2020-10-28 SNOMED CT UK Edition'), score=0.4685828609825592), Prediction(concept=Concept(name='in the past', concept_id=4132507, concept_code='410513005', domain_id='Synonym', voc_version='2020-07-31 SNOMED CT International Edition; 2020-09-01 SNOMED CT US Edition; 2020-10-28 SNOMED CT UK Edition'), score=0.4668556177272766), Prediction(concept=Concept(name='infant feeding method at 3 months', concept_id=4016066, concept_code='169977003', domain_id='Observation', voc_version='2020-07-31 SNOMED CT International Edition; 2020-09-01 SNOMED CT US Edition; 2020-10-28 SNOMED CT UK Edition'), score=0.45867835160740933), Prediction(concept=Concept(name='infant feeding method at 6 months', concept_id=4014725, concept_code='169983000', domain_id='Observation', voc_version='2020-07-31 SNOMED CT International Edition; 2020-09-01 SNOMED CT US Edition; 2020-10-28 SNOMED CT UK Edition'), score=0.45867835160740933), Prediction(concept=Concept(name='infant feeding method at 9 months', concept_id=4014595, concept_code='169990005', domain_id='Observation', voc_version='2020-07-31 SNOMED CT International Edition; 2020-09-01 SNOMED CT US Edition; 2020-10-28 SNOMED CT UK Edition'), score=0.45867835160740933), Prediction(concept=Concept(name='number of visits to general practitioner due to falls in past 12 months', concept_id=46287206, concept_code='963001000000101', domain_id='Observation', voc_version='2020-07-31 SNOMED CT International Edition; 2020-09-01 SNOMED CT US Edition; 2020-10-28 SNOMED CT UK Edition'), score=0.45502709018252563), Prediction(concept=Concept(name='feeding finding', concept_id=4128820, concept_code='289156007', domain_id='Observation', voc_version='2020-07-31 SNOMED CT International Edition; 2020-09-01 SNOMED CT US Edition; 2020-10-28 SNOMED CT UK Edition'), score=0.4542112799777315), Prediction(concept=Concept(name='assessment of past history', concept_id=4161191, concept_code='371580005', domain_id='Procedure', voc_version='2020-07-31 SNOMED CT International Edition; 2020-09-01 SNOMED CT US Edition; 2020-10-28 SNOMED CT UK Edition'), score=0.44521055694879513), Prediction(concept=Concept(name='finding of infant feeding at 3 months (finding)', concept_id=4264999, concept_code='364772001', domain_id='Synonym', voc_version='2020-07-31 SNOMED CT International Edition; 2020-09-01 SNOMED CT US Edition; 2020-10-28 SNOMED CT UK Edition'), score=0.4448666034616801), Prediction(concept=Concept(name='finding of infant feeding at 9 months (finding)', concept_id=4266776, concept_code='364775004', domain_id='Synonym', voc_version='2020-07-31 SNOMED CT International Edition; 2020-09-01 SNOMED CT US Edition; 2020-10-28 SNOMED CT UK Edition'), score=0.4448666034616801), Prediction(concept=Concept(name='finding of infant feeding at 6 months (finding)', concept_id=4271780, concept_code='364773006', domain_id='Synonym', voc_version='2020-07-31 SNOMED CT International Edition; 2020-09-01 SNOMED CT US Edition; 2020-10-28 SNOMED CT UK Edition'), score=0.4448666034616801), Prediction(concept=Concept(name='number of visits to general practitioner due to falls in past 12 months (observable entity)', concept_id=46287206, concept_code='963001000000101', domain_id='Synonym', voc_version='2020-07-31 SNOMED CT International Edition; 2020-09-01 SNOMED CT US Edition; 2020-10-28 SNOMED CT UK Edition'), score=0.4387411423995492), Prediction(concept=Concept(name='past - specified', concept_id=4253744, concept_code='410587003', domain_id='Observation', voc_version='2020-07-31 SNOMED CT International Edition; 2020-09-01 SNOMED CT US Edition; 2020-10-28 SNOMED CT UK Edition'), score=0.43744461714310323), Prediction(concept=Concept(name='no past history of', concept_id=4030249, concept_code='138009', domain_id='Observation', voc_version='2020-07-31 SNOMED CT International Edition; 2020-09-01 SNOMED CT US Edition; 2020-10-28 SNOMED CT UK Edition'), score=0.4325796890179541), Prediction(concept=Concept(name='child development: 12 months', concept_id=4224127, concept_code='404956005', domain_id='Synonym', voc_version='2020-07-31 SNOMED CT International Edition; 2020-09-01 SNOMED CT US Edition; 2020-10-28 SNOMED CT UK Edition'), score=0.4299370403909183), Prediction(concept=Concept(name='past medication (situation)', concept_id=4214707, concept_code='394829006', domain_id='Synonym', voc_version='2020-07-31 SNOMED CT International Edition; 2020-09-01 SNOMED CT US Edition; 2020-10-28 SNOMED CT UK Edition'), score=0.4298121917775347), Prediction(concept=Concept(name='feeding observable', concept_id=4271673, concept_code='364660001', domain_id='Observation', voc_version='2020-07-31 SNOMED CT International Edition; 2020-09-01 SNOMED CT US Edition; 2020-10-28 SNOMED CT UK Edition'), score=0.4285756486143844), Prediction(concept=Concept(name='assessment of past history (procedure)', concept_id=4161191, concept_code='371580005', domain_id='Synonym', voc_version='2020-07-31 SNOMED CT International Edition; 2020-09-01 SNOMED CT US Edition; 2020-10-28 SNOMED CT UK Edition'), score=0.427828314755984), Prediction(concept=Concept(name='feeding catheter', concept_id=4238126, concept_code='9129003', domain_id='Device', voc_version='2020-07-31 SNOMED CT International Edition; 2020-09-01 SNOMED CT US Edition; 2020-10-28 SNOMED CT UK Edition'), score=0.4275003299101057), Prediction(concept=Concept(name='past history of procedure (situation)', concept_id=4215685, concept_code='416940007', domain_id='Synonym', voc_version='2020-07-31 SNOMED CT International Edition; 2020-09-01 SNOMED CT US Edition; 2020-10-28 SNOMED CT UK Edition'), score=0.42572820122474503), Prediction(concept=Concept(name='silk leggings 9-12 months', concept_id=45963650, concept_code='17028011000001107', domain_id='Device', voc_version='2020-07-31 SNOMED CT International Edition; 2020-09-01 SNOMED CT US Edition; 2020-10-28 SNOMED CT UK Edition'), score=0.4252867140663402), Prediction(concept=Concept(name='seizure free > 12 months', concept_id=4253183, concept_code='407585000', domain_id='Condition', voc_version='2020-07-31 SNOMED CT International Edition; 2020-09-01 SNOMED CT US Edition; 2020-10-28 SNOMED CT UK Edition'), score=0.42406818193924023), Prediction(concept=Concept(name='history of past delivery', concept_id=4156063, concept_code='272058002', domain_id='Observation', voc_version='2020-07-31 SNOMED CT International Edition; 2020-09-01 SNOMED CT US Edition; 2020-10-28 SNOMED CT UK Edition'), score=0.421142127377329), Prediction(concept=Concept(name='infant feeding method at 9 months (observable entity)', concept_id=4014595, concept_code='169990005', domain_id='Synonym', voc_version='2020-07-31 SNOMED CT International Edition; 2020-09-01 SNOMED CT US Edition; 2020-10-28 SNOMED CT UK Edition'), score=0.4202918395307998), Prediction(concept=Concept(name='infant feeding method at 6 months (observable entity)', concept_id=4014725, concept_code='169983000', domain_id='Synonym', voc_version='2020-07-31 SNOMED CT International Edition; 2020-09-01 SNOMED CT US Edition; 2020-10-28 SNOMED CT UK Edition'), score=0.4202918395307998), Prediction(concept=Concept(name='infant feeding method at 3 months (observable entity)', concept_id=4016066, concept_code='169977003', domain_id='Synonym', voc_version='2020-07-31 SNOMED CT International Edition; 2020-09-01 SNOMED CT US Edition; 2020-10-28 SNOMED CT UK Edition'), score=0.4202918395307998), Prediction(concept=Concept(name='current or past', concept_id=4132506, concept_code='410511007', domain_id='Observation', voc_version='2020-07-31 SNOMED CT International Edition; 2020-09-01 SNOMED CT US Edition; 2020-10-28 SNOMED CT UK Edition'), score=0.41956484803843525), Prediction(concept=Concept(name='silk leggings 9-12 months 1 device', concept_id=46084645, concept_code='17005411000001101', domain_id='Device', voc_version='2020-07-31 SNOMED CT International Edition; 2020-09-01 SNOMED CT US Edition; 2020-10-28 SNOMED CT UK Edition'), score=0.4170727727416961), Prediction(concept=Concept(name='no past history of procedure', concept_id=4166732, concept_code='416128008', domain_id='Synonym', voc_version='2020-07-31 SNOMED CT International Edition; 2020-09-01 SNOMED CT US Edition; 2020-10-28 SNOMED CT UK Edition'), score=0.416583565709545), Prediction(concept=Concept(name='past pregnancy outcome', concept_id=4144408, concept_code='267013003', domain_id='Observation', voc_version='2020-07-31 SNOMED CT International Edition; 2020-09-01 SNOMED CT US Edition; 2020-10-28 SNOMED CT UK Edition'), score=0.4150349879933812), Prediction(concept=Concept(name='past - unspecified', concept_id=4259627, concept_code='410588008', domain_id='Observation', voc_version='2020-07-31 SNOMED CT International Edition; 2020-09-01 SNOMED CT US Edition; 2020-10-28 SNOMED CT UK Edition'), score=0.41483087572780664), Prediction(concept=Concept(name='silk leggings 12-18 months', concept_id=45967635, concept_code='11739611000001107', domain_id='Device', voc_version='2020-07-31 SNOMED CT International Edition; 2020-09-01 SNOMED CT US Edition; 2020-10-28 SNOMED CT UK Edition'), score=0.413926753575506), Prediction(concept=Concept(name='3/12', concept_id=4126546, concept_code='260283004', domain_id='Condition', voc_version='2020-07-31 SNOMED CT International Edition; 2020-09-01 SNOMED CT US Edition; 2020-10-28 SNOMED CT UK Edition'), score=0.4135650756684842), Prediction(concept=Concept(name='0.12', concept_id=37115826, concept_code='732338005', domain_id='Meas Value', voc_version='2020-07-31 SNOMED CT International Edition; 2020-09-01 SNOMED CT US Edition; 2020-10-28 SNOMED CT UK Edition'), score=0.4135650756684842), Prediction(concept=Concept(name='12.4', concept_id=37115924, concept_code='732469005', domain_id='Meas Value', voc_version='2020-07-31 SNOMED CT International Edition; 2020-09-01 SNOMED CT US Edition; 2020-10-28 SNOMED CT UK Edition'), score=0.4135650756684842), Prediction(concept=Concept(name='12.5', concept_id=37115925, concept_code='732470006', domain_id='Meas Value', voc_version='2020-07-31 SNOMED CT International Edition; 2020-09-01 SNOMED CT US Edition; 2020-10-28 SNOMED CT UK Edition'), score=0.4135650756684842), Prediction(concept=Concept(name='12.6', concept_id=37115926, concept_code='732471005', domain_id='Meas Value', voc_version='2020-07-31 SNOMED CT International Edition; 2020-09-01 SNOMED CT US Edition; 2020-10-28 SNOMED CT UK Edition'), score=0.4135650756684842), Prediction(concept=Concept(name='12.7', concept_id=37117690, concept_code='732472003', domain_id='Meas Value', voc_version='2020-07-31 SNOMED CT International Edition; 2020-09-01 SNOMED CT US Edition; 2020-10-28 SNOMED CT UK Edition'), score=0.4135650756684842), Prediction(concept=Concept(name='12.8', concept_id=37115927, concept_code='732473008', domain_id='Meas Value', voc_version='2020-07-31 SNOMED CT International Edition; 2020-09-01 SNOMED CT US Edition; 2020-10-28 SNOMED CT UK Edition'), score=0.4135650756684842), Prediction(concept=Concept(name='12.3', concept_id=37203901, concept_code='784305001', domain_id='Meas Value', voc_version='2020-07-31 SNOMED CT International Edition; 2020-09-01 SNOMED CT US Edition; 2020-10-28 SNOMED CT UK Edition'), score=0.4135650756684842), Prediction(concept=Concept(name='12', concept_id=4221536, concept_code='82809009', domain_id='Meas Value', voc_version='2020-07-31 SNOMED CT International Edition; 2020-09-01 SNOMED CT US Edition; 2020-10-28 SNOMED CT UK Edition'), score=0.4135650756684842), Prediction(concept=Concept(name='6/12', concept_id=4126543, concept_code='260274009', domain_id='Synonym', voc_version='2020-07-31 SNOMED CT International Edition; 2020-09-01 SNOMED CT US Edition; 2020-10-28 SNOMED CT UK Edition'), score=0.4135650756684842), Prediction(concept=Concept(name='breast feeding', concept_id=37208366, concept_code='1104211000000107', domain_id='Procedure', voc_version='2020-07-31 SNOMED CT International Edition; 2020-09-01 SNOMED CT US Edition; 2020-10-28 SNOMED CT UK Edition'), score=0.4133472656452589), Prediction(concept=Concept(name='silk leggings 9-12 months (physical object)', concept_id=45963650, concept_code='17028011000001107', domain_id='Synonym', voc_version='2020-07-31 SNOMED CT International Edition; 2020-09-01 SNOMED CT US Edition; 2020-10-28 SNOMED CT UK Edition'), score=0.41147749940971606), Prediction(concept=Concept(name='feeding tube', concept_id=4095054, concept_code='25062003', domain_id='Device', voc_version='2020-07-31 SNOMED CT International Edition; 2020-09-01 SNOMED CT US Edition; 2020-10-28 SNOMED CT UK Edition'), score=0.4093951894124105), Prediction(concept=Concept(name='tube feeding', concept_id=4263536, concept_code='61420007', domain_id='Synonym', voc_version='2020-07-31 SNOMED CT International Edition; 2020-09-01 SNOMED CT US Edition; 2020-10-28 SNOMED CT UK Edition'), score=0.4093951894124105), Prediction(concept=Concept(name='seizure free > 12 months (finding)', concept_id=4253183, concept_code='407585000', domain_id='Synonym', voc_version='2020-07-31 SNOMED CT International Edition; 2020-09-01 SNOMED CT US Edition; 2020-10-28 SNOMED CT UK Edition'), score=0.40919883975646415), Prediction(concept=Concept(name='feeding catheter, device', concept_id=4238126, concept_code='9129003', domain_id='Synonym', voc_version='2020-07-31 SNOMED CT International Edition; 2020-09-01 SNOMED CT US Edition; 2020-10-28 SNOMED CT UK Edition'), score=0.40912291862081607), Prediction(concept=Concept(name='silk leggings 12-18 months 1 device', concept_id=46089997, concept_code='11705511000001102', domain_id='Device', voc_version='2020-07-31 SNOMED CT International Edition; 2020-09-01 SNOMED CT US Edition; 2020-10-28 SNOMED CT UK Edition'), score=0.4063420928102519), Prediction(concept=Concept(name='silk leggings 9-12 months 1 device (physical object)', concept_id=46084645, concept_code='17005411000001101', domain_id='Synonym', voc_version='2020-07-31 SNOMED CT International Edition; 2020-09-01 SNOMED CT US Edition; 2020-10-28 SNOMED CT UK Edition'), score=0.40402427912517347), Prediction(concept=Concept(name='past history of clinical finding', concept_id=4214956, concept_code='417662000', domain_id='Synonym', voc_version='2020-07-31 SNOMED CT International Edition; 2020-09-01 SNOMED CT US Edition; 2020-10-28 SNOMED CT UK Edition'), score=0.40259592886642553), Prediction(concept=Concept(name='silk leggings 12-18 months (physical object)', concept_id=45967635, concept_code='11739611000001107', domain_id='Synonym', voc_version='2020-07-31 SNOMED CT International Edition; 2020-09-01 SNOMED CT US Edition; 2020-10-28 SNOMED CT UK Edition'), score=0.40116240672344117), Prediction(concept=Concept(name='child development 8-12 months assessment', concept_id=46285091, concept_code='962571000000105', domain_id='Observation', voc_version='2020-07-31 SNOMED CT International Edition; 2020-09-01 SNOMED CT US Edition; 2020-10-28 SNOMED CT UK Edition'), score=0.3999021955682559), Prediction(concept=Concept(name='in the past (qualifier value)', concept_id=4132507, concept_code='410513005', domain_id='Synonym', voc_version='2020-07-31 SNOMED CT International Edition; 2020-09-01 SNOMED CT US Edition; 2020-10-28 SNOMED CT UK Edition'), score=0.39952678596483776), Prediction(concept=Concept(name='feeding patient', concept_id=4327347, concept_code='75118006', domain_id='Procedure', voc_version='2020-07-31 SNOMED CT International Edition; 2020-09-01 SNOMED CT US Edition; 2020-10-28 SNOMED CT UK Edition'), score=0.3994710668102267), Prediction(concept=Concept(name='feeding regime', concept_id=4171081, concept_code='418995006', domain_id='Procedure', voc_version='2020-07-31 SNOMED CT International Edition; 2020-09-01 SNOMED CT US Edition; 2020-10-28 SNOMED CT UK Edition'), score=0.39599628471141973), Prediction(concept=Concept(name='silk leggings 12-18 months 1 device (physical object)', concept_id=46089997, concept_code='11705511000001102', domain_id='Synonym', voc_version='2020-07-31 SNOMED CT International Edition; 2020-09-01 SNOMED CT US Edition; 2020-10-28 SNOMED CT UK Edition'), score=0.3942465259078989), Prediction(concept=Concept(name='feeding ability', concept_id=4013694, concept_code='165221002', domain_id='Observation', voc_version='2020-07-31 SNOMED CT International Edition; 2020-09-01 SNOMED CT US Edition; 2020-10-28 SNOMED CT UK Edition'), score=0.39403519275302645), Prediction(concept=Concept(name='feeding tube, device', concept_id=4095054, concept_code='25062003', domain_id='Synonym', voc_version='2020-07-31 SNOMED CT International Edition; 2020-09-01 SNOMED CT US Edition; 2020-10-28 SNOMED CT UK Edition'), score=0.39316965327506803), Prediction(concept=Concept(name='past medical history unknown', concept_id=4287024, concept_code='396782006', domain_id='Synonym', voc_version='2020-07-31 SNOMED CT International Edition; 2020-09-01 SNOMED CT US Edition; 2020-10-28 SNOMED CT UK Edition'), score=0.3930672585150029), Prediction(concept=Concept(name='last past urine', concept_id=4088671, concept_code='251411003', domain_id='Synonym', voc_version='2020-07-31 SNOMED CT International Edition; 2020-09-01 SNOMED CT US Edition; 2020-10-28 SNOMED CT UK Edition'), score=0.3906998049283552), Prediction(concept=Concept(name='silk body suit 9-12 months', concept_id=45963647, concept_code='17027911000001105', domain_id='Device', voc_version='2020-07-31 SNOMED CT International Edition; 2020-09-01 SNOMED CT US Edition; 2020-10-28 SNOMED CT UK Edition'), score=0.38971018774130484), Prediction(concept=Concept(name='past pointing', concept_id=4177820, concept_code='49768006', domain_id='Condition', voc_version='2020-07-31 SNOMED CT International Edition; 2020-09-01 SNOMED CT US Edition; 2020-10-28 SNOMED CT UK Edition'), score=0.3889400339376143), Prediction(concept=Concept(name='o/e - past pointing', concept_id=4062602, concept_code='163772009', domain_id='Synonym', voc_version='2020-07-31 SNOMED CT International Edition; 2020-09-01 SNOMED CT US Edition; 2020-10-28 SNOMED CT UK Edition'), score=0.3889400339376143), Prediction(concept=Concept(name='all times past', concept_id=4256487, concept_code='410589000', domain_id='Observation', voc_version='2020-07-31 SNOMED CT International Edition; 2020-09-01 SNOMED CT US Edition; 2020-10-28 SNOMED CT UK Edition'), score=0.3869003110176076), Prediction(concept=Concept(name='history of past delivery (situation)', concept_id=4156063, concept_code='272058002', domain_id='Synonym', voc_version='2020-07-31 SNOMED CT International Edition; 2020-09-01 SNOMED CT US Edition; 2020-10-28 SNOMED CT UK Edition'), score=0.38683866691821606), Prediction(concept=Concept(name='number of days absent from school due to asthma in past 6 months', concept_id=44806236, concept_code='811151000000105', domain_id='Observation', voc_version='2020-07-31 SNOMED CT International Edition; 2020-09-01 SNOMED CT US Edition; 2020-10-28 SNOMED CT UK Edition'), score=0.3853986091806463), Prediction(concept=Concept(name='silk body suit 9-12 months 1 device', concept_id=46084648, concept_code='17001911000001107', domain_id='Device', voc_version='2020-07-31 SNOMED CT International Edition; 2020-09-01 SNOMED CT US Edition; 2020-10-28 SNOMED CT UK Edition'), score=0.3833606650937653), Prediction(concept=Concept(name='feeding catheter, device (physical object)', concept_id=4238126, concept_code='9129003', domain_id='Synonym', voc_version='2020-07-31 SNOMED CT International Edition; 2020-09-01 SNOMED CT US Edition; 2020-10-28 SNOMED CT UK Edition'), score=0.3824509039663219), Prediction(concept=Concept(name='silk body suit 12-18 months', concept_id=45967629, concept_code='11738411000001101', domain_id='Device', voc_version='2020-07-31 SNOMED CT International Edition; 2020-09-01 SNOMED CT US Edition; 2020-10-28 SNOMED CT UK Edition'), score=0.3809132385294578), Prediction(concept=Concept(name='past - time specified', concept_id=4253744, concept_code='410587003', domain_id='Synonym', voc_version='2020-07-31 SNOMED CT International Edition; 2020-09-01 SNOMED CT US Edition; 2020-10-28 SNOMED CT UK Edition'), score=0.37922265423118096), Prediction(concept=Concept(name='silk body suit 9-12 months (physical object)', concept_id=45963647, concept_code='17027911000001105', domain_id='Synonym', voc_version='2020-07-31 SNOMED CT International Edition; 2020-09-01 SNOMED CT US Edition; 2020-10-28 SNOMED CT UK Edition'), score=0.379001928059281), Prediction(concept=Concept(name='within past year', concept_id=765460, concept_code='2511000175103', domain_id='Observation', voc_version='2020-07-31 SNOMED CT International Edition; 2020-09-01 SNOMED CT US Edition; 2020-10-28 SNOMED CT UK Edition'), score=0.3786395801611732), Prediction(concept=Concept(name='feeding (observable entity)', concept_id=4043372, concept_code='129007004', domain_id='Synonym', voc_version='2020-07-31 SNOMED CT International Edition; 2020-09-01 SNOMED CT US Edition; 2020-10-28 SNOMED CT UK Edition'), score=0.37816812911059555), Prediction(concept=Concept(name='silk hat 3-12 months', concept_id=45960453, concept_code='28290211000001106', domain_id='Device', voc_version='2020-07-31 SNOMED CT International Edition; 2020-09-01 SNOMED CT US Edition; 2020-10-28 SNOMED CT UK Edition'), score=0.3781554031195301), Prediction(concept=Concept(name='past pointing (finding)', concept_id=4177820, concept_code='49768006', domain_id='Synonym', voc_version='2020-07-31 SNOMED CT International Edition; 2020-09-01 SNOMED CT US Edition; 2020-10-28 SNOMED CT UK Edition'), score=0.3754581532301708), Prediction(concept=Concept(name='silk body suit 12-18 months 1 device', concept_id=46090003, concept_code='11703711000001106', domain_id='Device', voc_version='2020-07-31 SNOMED CT International Edition; 2020-09-01 SNOMED CT US Edition; 2020-10-28 SNOMED CT UK Edition'), score=0.37497762650538424), Prediction(concept=Concept(name='normal breast feeding', concept_id=4289014, concept_code='69840006', domain_id='Observation', voc_version='2020-07-31 SNOMED CT International Edition; 2020-09-01 SNOMED CT US Edition; 2020-10-28 SNOMED CT UK Edition'), score=0.3741430057541946), Prediction(concept=Concept(name='feeding reflex', concept_id=4222486, concept_code='84152008', domain_id='Observation', voc_version='2020-07-31 SNOMED CT International Edition; 2020-09-01 SNOMED CT US Edition; 2020-10-28 SNOMED CT UK Edition'), score=0.37403127590204527), Prediction(concept=Concept(name='silk body suit 9-12 months 1 device (physical object)', concept_id=46084648, concept_code='17001911000001107', domain_id='Synonym', voc_version='2020-07-31 SNOMED CT International Edition; 2020-09-01 SNOMED CT US Edition; 2020-10-28 SNOMED CT UK Edition'), score=0.37315385666879475), Prediction(concept=Concept(name='infant milestone: 12 months', concept_id=4224127, concept_code='404956005', domain_id='Observation', voc_version='2020-07-31 SNOMED CT International Edition; 2020-09-01 SNOMED CT US Edition; 2020-10-28 SNOMED CT UK Edition'), score=0.3729260860951503), Prediction(concept=Concept(name='silk hat 3-12 months 1 device', concept_id=46078154, concept_code='28290311000001103', domain_id='Device', voc_version='2020-07-31 SNOMED CT International Edition; 2020-09-01 SNOMED CT US Edition; 2020-10-28 SNOMED CT UK Edition'), score=0.3723458334707076), Prediction(concept=Concept(name='feeding problem', concept_id=4299954, concept_code='78164000', domain_id='Observation', voc_version='2020-07-31 SNOMED CT International Edition; 2020-09-01 SNOMED CT US Edition; 2020-10-28 SNOMED CT UK Edition'), score=0.37215355094012254)])"
      ]
     },
     "execution_count": 22,
     "metadata": {},
     "output_type": "execute_result"
    }
   ],
   "source": [
    "sample"
   ]
  },
  {
   "cell_type": "code",
   "execution_count": 23,
   "metadata": {},
   "outputs": [],
   "source": [
    "from detection_ref import Predictions"
   ]
  },
  {
   "cell_type": "code",
   "execution_count": 24,
   "metadata": {},
   "outputs": [],
   "source": [
    "predictions = Predictions(sample)"
   ]
  },
  {
   "cell_type": "code",
   "execution_count": 25,
   "metadata": {},
   "outputs": [
    {
     "data": {
      "text/html": [
       "<div>\n",
       "<style scoped>\n",
       "    .dataframe tbody tr th:only-of-type {\n",
       "        vertical-align: middle;\n",
       "    }\n",
       "\n",
       "    .dataframe tbody tr th {\n",
       "        vertical-align: top;\n",
       "    }\n",
       "\n",
       "    .dataframe thead th {\n",
       "        text-align: right;\n",
       "    }\n",
       "</style>\n",
       "<table border=\"1\" class=\"dataframe\">\n",
       "  <thead>\n",
       "    <tr style=\"text-align: right;\">\n",
       "      <th></th>\n",
       "      <th>SourceID</th>\n",
       "      <th>SourceName</th>\n",
       "      <th>targetConceptName</th>\n",
       "      <th>targetConceptID</th>\n",
       "      <th>targetConceptCode</th>\n",
       "      <th>targetDomainID</th>\n",
       "      <th>targetVocabularyVersion</th>\n",
       "      <th>MatchScore</th>\n",
       "    </tr>\n",
       "  </thead>\n",
       "  <tbody>\n",
       "    <tr>\n",
       "      <th>0</th>\n",
       "      <td>E0</td>\n",
       "      <td>feeding meatless past 12 months</td>\n",
       "      <td>past</td>\n",
       "      <td>4132507</td>\n",
       "      <td>410513005</td>\n",
       "      <td>Observation</td>\n",
       "      <td>2020-07-31 SNOMED CT International Edition; 20...</td>\n",
       "      <td>0.597550</td>\n",
       "    </tr>\n",
       "    <tr>\n",
       "      <th>1</th>\n",
       "      <td>E0</td>\n",
       "      <td>feeding meatless past 12 months</td>\n",
       "      <td>infant feeding at 4 months</td>\n",
       "      <td>4217242</td>\n",
       "      <td>417489001</td>\n",
       "      <td>Observation</td>\n",
       "      <td>2020-07-31 SNOMED CT International Edition; 20...</td>\n",
       "      <td>0.510034</td>\n",
       "    </tr>\n",
       "    <tr>\n",
       "      <th>2</th>\n",
       "      <td>E0</td>\n",
       "      <td>feeding meatless past 12 months</td>\n",
       "      <td>infant feeding at 9 months</td>\n",
       "      <td>4014595</td>\n",
       "      <td>169990005</td>\n",
       "      <td>Synonym</td>\n",
       "      <td>2020-07-31 SNOMED CT International Edition; 20...</td>\n",
       "      <td>0.510034</td>\n",
       "    </tr>\n",
       "    <tr>\n",
       "      <th>3</th>\n",
       "      <td>E0</td>\n",
       "      <td>feeding meatless past 12 months</td>\n",
       "      <td>infant feeding at 6 months</td>\n",
       "      <td>4014725</td>\n",
       "      <td>169983000</td>\n",
       "      <td>Synonym</td>\n",
       "      <td>2020-07-31 SNOMED CT International Edition; 20...</td>\n",
       "      <td>0.510034</td>\n",
       "    </tr>\n",
       "    <tr>\n",
       "      <th>4</th>\n",
       "      <td>E0</td>\n",
       "      <td>feeding meatless past 12 months</td>\n",
       "      <td>infant feeding at 3 months</td>\n",
       "      <td>4016066</td>\n",
       "      <td>169977003</td>\n",
       "      <td>Synonym</td>\n",
       "      <td>2020-07-31 SNOMED CT International Edition; 20...</td>\n",
       "      <td>0.510034</td>\n",
       "    </tr>\n",
       "  </tbody>\n",
       "</table>\n",
       "</div>"
      ],
      "text/plain": [
       "  SourceID                       SourceName           targetConceptName  \\\n",
       "0       E0  feeding meatless past 12 months                        past   \n",
       "1       E0  feeding meatless past 12 months  infant feeding at 4 months   \n",
       "2       E0  feeding meatless past 12 months  infant feeding at 9 months   \n",
       "3       E0  feeding meatless past 12 months  infant feeding at 6 months   \n",
       "4       E0  feeding meatless past 12 months  infant feeding at 3 months   \n",
       "\n",
       "   targetConceptID targetConceptCode targetDomainID  \\\n",
       "0          4132507         410513005    Observation   \n",
       "1          4217242         417489001    Observation   \n",
       "2          4014595         169990005        Synonym   \n",
       "3          4014725         169983000        Synonym   \n",
       "4          4016066         169977003        Synonym   \n",
       "\n",
       "                             targetVocabularyVersion  MatchScore  \n",
       "0  2020-07-31 SNOMED CT International Edition; 20...    0.597550  \n",
       "1  2020-07-31 SNOMED CT International Edition; 20...    0.510034  \n",
       "2  2020-07-31 SNOMED CT International Edition; 20...    0.510034  \n",
       "3  2020-07-31 SNOMED CT International Edition; 20...    0.510034  \n",
       "4  2020-07-31 SNOMED CT International Edition; 20...    0.510034  "
      ]
     },
     "execution_count": 25,
     "metadata": {},
     "output_type": "execute_result"
    }
   ],
   "source": [
    "Predictions.to_df(predictions, 5)"
   ]
  }
 ],
 "metadata": {
  "kernelspec": {
   "display_name": "base",
   "language": "python",
   "name": "python3"
  },
  "language_info": {
   "codemirror_mode": {
    "name": "ipython",
    "version": 3
   },
   "file_extension": ".py",
   "mimetype": "text/x-python",
   "name": "python",
   "nbconvert_exporter": "python",
   "pygments_lexer": "ipython3",
   "version": "3.8.13"
  },
  "orig_nbformat": 4
 },
 "nbformat": 4,
 "nbformat_minor": 2
}
