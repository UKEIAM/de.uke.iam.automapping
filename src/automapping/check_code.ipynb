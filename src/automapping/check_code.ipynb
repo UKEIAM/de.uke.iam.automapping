{
 "cells": [
  {
   "cell_type": "code",
   "execution_count": 1,
   "metadata": {},
   "outputs": [],
   "source": [
    "from m5_pipeline import M5"
   ]
  },
  {
   "cell_type": "code",
   "execution_count": 2,
   "metadata": {},
   "outputs": [],
   "source": [
    "from language import Language"
   ]
  },
  {
   "cell_type": "code",
   "execution_count": 3,
   "metadata": {},
   "outputs": [],
   "source": [
    "configuration=M5('localhost:8081', 'HCHS', 1, 'anamnese')"
   ]
  },
  {
   "cell_type": "code",
   "execution_count": 4,
   "metadata": {},
   "outputs": [],
   "source": [
    "list_elements=[]"
   ]
  },
  {
   "cell_type": "code",
   "execution_count": 5,
   "metadata": {},
   "outputs": [
    {
     "name": "stdout",
     "output_type": "stream",
     "text": [
      "hch_anam0001\n",
      "Wird die Anamnese durchgeführt?\n",
      "hch_anam0002\n",
      "Warum wird die Anamnese nicht durchgeführt?\n",
      "hch_anam0003\n",
      "Alter zwischen 45 und 74 Jahren\n",
      "hch_anam0004\n",
      "Einwohner/in der Stadt Hamburg\n"
     ]
    }
   ],
   "source": [
    "for i, j in configuration.loader(Language.GERMAN):\n",
    "    print(i)\n",
    "    list_elements.append(i) \n",
    "    print(j)"
   ]
  },
  {
   "cell_type": "code",
   "execution_count": 6,
   "metadata": {},
   "outputs": [],
   "source": [
    "translated_variables=['Is the medical history taken?', 'Why is the anamnesis not performed?',\n",
    "'Age between 45 and 74 years',\n",
    "'Resident of the city of Hamburg']"
   ]
  },
  {
   "cell_type": "code",
   "execution_count": 7,
   "metadata": {},
   "outputs": [
    {
     "name": "stderr",
     "output_type": "stream",
     "text": [
      "INFO:root:hch_anam0001 updated\n",
      "INFO:root:hch_anam0002 updated\n",
      "INFO:root:hch_anam0003 updated\n",
      "INFO:root:hch_anam0004 updated\n"
     ]
    }
   ],
   "source": [
    "configuration.translation_uploader(list_elements, translated_variables, Language.ENGLISH)"
   ]
  },
  {
   "cell_type": "markdown",
   "metadata": {},
   "source": [
    "Concept loading"
   ]
  },
  {
   "cell_type": "code",
   "execution_count": 8,
   "metadata": {},
   "outputs": [],
   "source": [
    "import pandas as pd"
   ]
  },
  {
   "cell_type": "code",
   "execution_count": 13,
   "metadata": {},
   "outputs": [],
   "source": [
    "df=pd.read_excel('C://Users/admin/OneDrive/Desktop/work_project/de.uke.iam.automapping/src/automapping/2022_11_16_hchs_description_snomed.xlsx')"
   ]
  },
  {
   "cell_type": "code",
   "execution_count": 16,
   "metadata": {},
   "outputs": [],
   "source": [
    "df_small=df[50:55]"
   ]
  },
  {
   "cell_type": "code",
   "execution_count": 17,
   "metadata": {},
   "outputs": [
    {
     "data": {
      "text/html": [
       "<div>\n",
       "<style scoped>\n",
       "    .dataframe tbody tr th:only-of-type {\n",
       "        vertical-align: middle;\n",
       "    }\n",
       "\n",
       "    .dataframe tbody tr th {\n",
       "        vertical-align: top;\n",
       "    }\n",
       "\n",
       "    .dataframe thead th {\n",
       "        text-align: right;\n",
       "    }\n",
       "</style>\n",
       "<table border=\"1\" class=\"dataframe\">\n",
       "  <thead>\n",
       "    <tr style=\"text-align: right;\">\n",
       "      <th></th>\n",
       "      <th>Unnamed: 0</th>\n",
       "      <th>SourceName</th>\n",
       "      <th>targetConceptName</th>\n",
       "      <th>targetConceptID</th>\n",
       "      <th>targetDomainID</th>\n",
       "      <th>MatchScore</th>\n",
       "    </tr>\n",
       "  </thead>\n",
       "  <tbody>\n",
       "    <tr>\n",
       "      <th>50</th>\n",
       "      <td>50</td>\n",
       "      <td>adjunct pleura</td>\n",
       "      <td>adjunct - intent</td>\n",
       "      <td>4227509</td>\n",
       "      <td>Observation</td>\n",
       "      <td>0.707481</td>\n",
       "    </tr>\n",
       "    <tr>\n",
       "      <th>51</th>\n",
       "      <td>51</td>\n",
       "      <td>adjunct pleura</td>\n",
       "      <td>pleura</td>\n",
       "      <td>4150673</td>\n",
       "      <td>Synonym</td>\n",
       "      <td>0.575821</td>\n",
       "    </tr>\n",
       "    <tr>\n",
       "      <th>52</th>\n",
       "      <td>52</td>\n",
       "      <td>adjunct pleura</td>\n",
       "      <td>poisoning by pharmaceutical adjunct</td>\n",
       "      <td>4186783</td>\n",
       "      <td>Condition</td>\n",
       "      <td>0.569787</td>\n",
       "    </tr>\n",
       "    <tr>\n",
       "      <th>53</th>\n",
       "      <td>53</td>\n",
       "      <td>adjunct pleura</td>\n",
       "      <td>sedation with analgesic adjunct</td>\n",
       "      <td>4083088</td>\n",
       "      <td>Procedure</td>\n",
       "      <td>0.534084</td>\n",
       "    </tr>\n",
       "    <tr>\n",
       "      <th>54</th>\n",
       "      <td>54</td>\n",
       "      <td>adjunct pleura</td>\n",
       "      <td>pleura finding</td>\n",
       "      <td>4116786</td>\n",
       "      <td>Condition</td>\n",
       "      <td>0.520927</td>\n",
       "    </tr>\n",
       "  </tbody>\n",
       "</table>\n",
       "</div>"
      ],
      "text/plain": [
       "    Unnamed: 0      SourceName                    targetConceptName  \\\n",
       "50          50  adjunct pleura                     adjunct - intent   \n",
       "51          51  adjunct pleura                               pleura   \n",
       "52          52  adjunct pleura  poisoning by pharmaceutical adjunct   \n",
       "53          53  adjunct pleura      sedation with analgesic adjunct   \n",
       "54          54  adjunct pleura                       pleura finding   \n",
       "\n",
       "    targetConceptID targetDomainID  MatchScore  \n",
       "50          4227509    Observation    0.707481  \n",
       "51          4150673        Synonym    0.575821  \n",
       "52          4186783      Condition    0.569787  \n",
       "53          4083088      Procedure    0.534084  \n",
       "54          4116786      Condition    0.520927  "
      ]
     },
     "execution_count": 17,
     "metadata": {},
     "output_type": "execute_result"
    }
   ],
   "source": [
    "df_small"
   ]
  },
  {
   "cell_type": "code",
   "execution_count": 24,
   "metadata": {},
   "outputs": [
    {
     "name": "stderr",
     "output_type": "stream",
     "text": [
      "C:\\Users\\admin\\AppData\\Local\\Temp\\ipykernel_20160\\897399409.py:1: DtypeWarning: Columns (6,9) have mixed types. Specify dtype option on import or set low_memory=False.\n",
      "  df_concept=pd.read_csv('C://Users/admin/OneDrive/Desktop/work_project/de.uke.iam.automapping/src/automapping/CONCEPT.csv', on_bad_lines='skip', delimiter='\\t')\n"
     ]
    }
   ],
   "source": [
    "df_concept=pd.read_csv('C://Users/admin/OneDrive/Desktop/work_project/de.uke.iam.automapping/src/automapping/CONCEPT.csv', on_bad_lines='skip', delimiter='\\t')"
   ]
  },
  {
   "cell_type": "code",
   "execution_count": 27,
   "metadata": {},
   "outputs": [],
   "source": [
    "df_concept = df_concept[\n",
    "            (df_concept[\"vocabulary_id\"].isin(['SNOMED']))\n",
    "            & (df_concept[\"standard_concept\"] == \"S\")\n",
    "        ]"
   ]
  },
  {
   "cell_type": "code",
   "execution_count": 35,
   "metadata": {},
   "outputs": [
    {
     "data": {
      "text/plain": [
       "421974008"
      ]
     },
     "execution_count": 35,
     "metadata": {},
     "output_type": "execute_result"
    }
   ],
   "source": [
    "df_concept[df_concept['concept_id']==4227509].iloc[0]['concept']"
   ]
  },
  {
   "cell_type": "code",
   "execution_count": 38,
   "metadata": {},
   "outputs": [],
   "source": [
    "df_small=df_small.merge(df_concept, left_on='targetConceptID', right_on='concept_id', how='left')"
   ]
  },
  {
   "cell_type": "code",
   "execution_count": 39,
   "metadata": {},
   "outputs": [
    {
     "data": {
      "text/html": [
       "<div>\n",
       "<style scoped>\n",
       "    .dataframe tbody tr th:only-of-type {\n",
       "        vertical-align: middle;\n",
       "    }\n",
       "\n",
       "    .dataframe tbody tr th {\n",
       "        vertical-align: top;\n",
       "    }\n",
       "\n",
       "    .dataframe thead th {\n",
       "        text-align: right;\n",
       "    }\n",
       "</style>\n",
       "<table border=\"1\" class=\"dataframe\">\n",
       "  <thead>\n",
       "    <tr style=\"text-align: right;\">\n",
       "      <th></th>\n",
       "      <th>Unnamed: 0</th>\n",
       "      <th>SourceName</th>\n",
       "      <th>targetConceptName</th>\n",
       "      <th>targetConceptID</th>\n",
       "      <th>targetDomainID</th>\n",
       "      <th>MatchScore</th>\n",
       "      <th>concept_id</th>\n",
       "      <th>concept_name</th>\n",
       "      <th>domain_id</th>\n",
       "      <th>vocabulary_id</th>\n",
       "      <th>concept_class_id</th>\n",
       "      <th>standard_concept</th>\n",
       "      <th>concept_code</th>\n",
       "      <th>valid_start_date</th>\n",
       "      <th>valid_end_date</th>\n",
       "      <th>invalid_reason</th>\n",
       "    </tr>\n",
       "  </thead>\n",
       "  <tbody>\n",
       "    <tr>\n",
       "      <th>0</th>\n",
       "      <td>50</td>\n",
       "      <td>adjunct pleura</td>\n",
       "      <td>adjunct - intent</td>\n",
       "      <td>4227509</td>\n",
       "      <td>Observation</td>\n",
       "      <td>0.707481</td>\n",
       "      <td>4227509</td>\n",
       "      <td>Adjunct - intent</td>\n",
       "      <td>Observation</td>\n",
       "      <td>SNOMED</td>\n",
       "      <td>Qualifier Value</td>\n",
       "      <td>S</td>\n",
       "      <td>421974008</td>\n",
       "      <td>20060731</td>\n",
       "      <td>20991231</td>\n",
       "      <td>NaN</td>\n",
       "    </tr>\n",
       "    <tr>\n",
       "      <th>1</th>\n",
       "      <td>51</td>\n",
       "      <td>adjunct pleura</td>\n",
       "      <td>pleura</td>\n",
       "      <td>4150673</td>\n",
       "      <td>Synonym</td>\n",
       "      <td>0.575821</td>\n",
       "      <td>4150673</td>\n",
       "      <td>Pleural structure</td>\n",
       "      <td>Spec Anatomic Site</td>\n",
       "      <td>SNOMED</td>\n",
       "      <td>Body Structure</td>\n",
       "      <td>S</td>\n",
       "      <td>3120008</td>\n",
       "      <td>20020131</td>\n",
       "      <td>20991231</td>\n",
       "      <td>NaN</td>\n",
       "    </tr>\n",
       "    <tr>\n",
       "      <th>2</th>\n",
       "      <td>52</td>\n",
       "      <td>adjunct pleura</td>\n",
       "      <td>poisoning by pharmaceutical adjunct</td>\n",
       "      <td>4186783</td>\n",
       "      <td>Condition</td>\n",
       "      <td>0.569787</td>\n",
       "      <td>4186783</td>\n",
       "      <td>Poisoning by pharmaceutical adjunct</td>\n",
       "      <td>Condition</td>\n",
       "      <td>SNOMED</td>\n",
       "      <td>Clinical Finding</td>\n",
       "      <td>S</td>\n",
       "      <td>46571000</td>\n",
       "      <td>20020131</td>\n",
       "      <td>20991231</td>\n",
       "      <td>NaN</td>\n",
       "    </tr>\n",
       "    <tr>\n",
       "      <th>3</th>\n",
       "      <td>53</td>\n",
       "      <td>adjunct pleura</td>\n",
       "      <td>sedation with analgesic adjunct</td>\n",
       "      <td>4083088</td>\n",
       "      <td>Procedure</td>\n",
       "      <td>0.534084</td>\n",
       "      <td>4083088</td>\n",
       "      <td>Sedation with analgesic adjunct</td>\n",
       "      <td>Procedure</td>\n",
       "      <td>SNOMED</td>\n",
       "      <td>Procedure</td>\n",
       "      <td>S</td>\n",
       "      <td>241712003</td>\n",
       "      <td>20020131</td>\n",
       "      <td>20991231</td>\n",
       "      <td>NaN</td>\n",
       "    </tr>\n",
       "    <tr>\n",
       "      <th>4</th>\n",
       "      <td>54</td>\n",
       "      <td>adjunct pleura</td>\n",
       "      <td>pleura finding</td>\n",
       "      <td>4116786</td>\n",
       "      <td>Condition</td>\n",
       "      <td>0.520927</td>\n",
       "      <td>4116786</td>\n",
       "      <td>Pleura finding</td>\n",
       "      <td>Condition</td>\n",
       "      <td>SNOMED</td>\n",
       "      <td>Clinical Finding</td>\n",
       "      <td>S</td>\n",
       "      <td>301256004</td>\n",
       "      <td>20020131</td>\n",
       "      <td>20991231</td>\n",
       "      <td>NaN</td>\n",
       "    </tr>\n",
       "  </tbody>\n",
       "</table>\n",
       "</div>"
      ],
      "text/plain": [
       "   Unnamed: 0      SourceName                    targetConceptName  \\\n",
       "0          50  adjunct pleura                     adjunct - intent   \n",
       "1          51  adjunct pleura                               pleura   \n",
       "2          52  adjunct pleura  poisoning by pharmaceutical adjunct   \n",
       "3          53  adjunct pleura      sedation with analgesic adjunct   \n",
       "4          54  adjunct pleura                       pleura finding   \n",
       "\n",
       "   targetConceptID targetDomainID  MatchScore  concept_id  \\\n",
       "0          4227509    Observation    0.707481     4227509   \n",
       "1          4150673        Synonym    0.575821     4150673   \n",
       "2          4186783      Condition    0.569787     4186783   \n",
       "3          4083088      Procedure    0.534084     4083088   \n",
       "4          4116786      Condition    0.520927     4116786   \n",
       "\n",
       "                          concept_name           domain_id vocabulary_id  \\\n",
       "0                     Adjunct - intent         Observation        SNOMED   \n",
       "1                    Pleural structure  Spec Anatomic Site        SNOMED   \n",
       "2  Poisoning by pharmaceutical adjunct           Condition        SNOMED   \n",
       "3      Sedation with analgesic adjunct           Procedure        SNOMED   \n",
       "4                       Pleura finding           Condition        SNOMED   \n",
       "\n",
       "   concept_class_id standard_concept concept_code  valid_start_date  \\\n",
       "0   Qualifier Value                S    421974008          20060731   \n",
       "1    Body Structure                S      3120008          20020131   \n",
       "2  Clinical Finding                S     46571000          20020131   \n",
       "3         Procedure                S    241712003          20020131   \n",
       "4  Clinical Finding                S    301256004          20020131   \n",
       "\n",
       "   valid_end_date invalid_reason  \n",
       "0        20991231            NaN  \n",
       "1        20991231            NaN  \n",
       "2        20991231            NaN  \n",
       "3        20991231            NaN  \n",
       "4        20991231            NaN  "
      ]
     },
     "execution_count": 39,
     "metadata": {},
     "output_type": "execute_result"
    }
   ],
   "source": [
    "df_small"
   ]
  },
  {
   "cell_type": "code",
   "execution_count": 40,
   "metadata": {},
   "outputs": [],
   "source": [
    "df_small=df_small[['vocabulary_id', 'concept_code', 'MatchScore']]"
   ]
  },
  {
   "cell_type": "code",
   "execution_count": 44,
   "metadata": {},
   "outputs": [],
   "source": [
    "df_voc=pd.read_csv('C://Users/admin/OneDrive/Desktop/work_project/de.uke.iam.automapping/src/automapping/VOCABULARY (1).csv',on_bad_lines='skip', delimiter='\\t')"
   ]
  },
  {
   "cell_type": "code",
   "execution_count": 46,
   "metadata": {},
   "outputs": [
    {
     "data": {
      "text/plain": [
       "'2020-07-31 SNOMED CT International Edition; 2020-09-01 SNOMED CT US Edition; 2020-10-28 SNOMED CT UK Edition'"
      ]
     },
     "execution_count": 46,
     "metadata": {},
     "output_type": "execute_result"
    }
   ],
   "source": [
    "df_voc[df_voc['vocabulary_id']=='SNOMED'].iloc[0]['vocabulary_version']"
   ]
  },
  {
   "cell_type": "code",
   "execution_count": 47,
   "metadata": {},
   "outputs": [
    {
     "name": "stderr",
     "output_type": "stream",
     "text": [
      "C:\\Users\\admin\\AppData\\Local\\Temp\\ipykernel_20160\\2334258289.py:1: SettingWithCopyWarning: \n",
      "A value is trying to be set on a copy of a slice from a DataFrame.\n",
      "Try using .loc[row_indexer,col_indexer] = value instead\n",
      "\n",
      "See the caveats in the documentation: https://pandas.pydata.org/pandas-docs/stable/user_guide/indexing.html#returning-a-view-versus-a-copy\n",
      "  df_small['Version']=df_voc[df_voc['vocabulary_id']=='SNOMED'].iloc[0]['vocabulary_version']\n"
     ]
    }
   ],
   "source": [
    "df_small['Version']=df_voc[df_voc['vocabulary_id']=='SNOMED'].iloc[0]['vocabulary_version']"
   ]
  },
  {
   "cell_type": "code",
   "execution_count": 48,
   "metadata": {},
   "outputs": [
    {
     "data": {
      "text/html": [
       "<div>\n",
       "<style scoped>\n",
       "    .dataframe tbody tr th:only-of-type {\n",
       "        vertical-align: middle;\n",
       "    }\n",
       "\n",
       "    .dataframe tbody tr th {\n",
       "        vertical-align: top;\n",
       "    }\n",
       "\n",
       "    .dataframe thead th {\n",
       "        text-align: right;\n",
       "    }\n",
       "</style>\n",
       "<table border=\"1\" class=\"dataframe\">\n",
       "  <thead>\n",
       "    <tr style=\"text-align: right;\">\n",
       "      <th></th>\n",
       "      <th>vocabulary_id</th>\n",
       "      <th>concept_code</th>\n",
       "      <th>MatchScore</th>\n",
       "      <th>Version</th>\n",
       "    </tr>\n",
       "  </thead>\n",
       "  <tbody>\n",
       "    <tr>\n",
       "      <th>0</th>\n",
       "      <td>SNOMED</td>\n",
       "      <td>421974008</td>\n",
       "      <td>0.707481</td>\n",
       "      <td>2020-07-31 SNOMED CT International Edition; 20...</td>\n",
       "    </tr>\n",
       "    <tr>\n",
       "      <th>1</th>\n",
       "      <td>SNOMED</td>\n",
       "      <td>3120008</td>\n",
       "      <td>0.575821</td>\n",
       "      <td>2020-07-31 SNOMED CT International Edition; 20...</td>\n",
       "    </tr>\n",
       "    <tr>\n",
       "      <th>2</th>\n",
       "      <td>SNOMED</td>\n",
       "      <td>46571000</td>\n",
       "      <td>0.569787</td>\n",
       "      <td>2020-07-31 SNOMED CT International Edition; 20...</td>\n",
       "    </tr>\n",
       "    <tr>\n",
       "      <th>3</th>\n",
       "      <td>SNOMED</td>\n",
       "      <td>241712003</td>\n",
       "      <td>0.534084</td>\n",
       "      <td>2020-07-31 SNOMED CT International Edition; 20...</td>\n",
       "    </tr>\n",
       "    <tr>\n",
       "      <th>4</th>\n",
       "      <td>SNOMED</td>\n",
       "      <td>301256004</td>\n",
       "      <td>0.520927</td>\n",
       "      <td>2020-07-31 SNOMED CT International Edition; 20...</td>\n",
       "    </tr>\n",
       "  </tbody>\n",
       "</table>\n",
       "</div>"
      ],
      "text/plain": [
       "  vocabulary_id concept_code  MatchScore  \\\n",
       "0        SNOMED    421974008    0.707481   \n",
       "1        SNOMED      3120008    0.575821   \n",
       "2        SNOMED     46571000    0.569787   \n",
       "3        SNOMED    241712003    0.534084   \n",
       "4        SNOMED    301256004    0.520927   \n",
       "\n",
       "                                             Version  \n",
       "0  2020-07-31 SNOMED CT International Edition; 20...  \n",
       "1  2020-07-31 SNOMED CT International Edition; 20...  \n",
       "2  2020-07-31 SNOMED CT International Edition; 20...  \n",
       "3  2020-07-31 SNOMED CT International Edition; 20...  \n",
       "4  2020-07-31 SNOMED CT International Edition; 20...  "
      ]
     },
     "execution_count": 48,
     "metadata": {},
     "output_type": "execute_result"
    }
   ],
   "source": [
    "df_small"
   ]
  },
  {
   "cell_type": "code",
   "execution_count": 49,
   "metadata": {},
   "outputs": [],
   "source": [
    "import requests"
   ]
  },
  {
   "cell_type": "code",
   "execution_count": 50,
   "metadata": {},
   "outputs": [],
   "source": [
    "body = requests.get('http://localhost:8081/m5.rest/api/HCHS/1/anamnese/hch_anam0003', timeout=10).json()"
   ]
  },
  {
   "cell_type": "code",
   "execution_count": 65,
   "metadata": {},
   "outputs": [],
   "source": [
    "body['concepts']=[]\n",
    "for i, data in df_small.iterrows():\n",
    "    body['concepts'].append(\n",
    "    {\n",
    "        \"conceptType\": data['vocabulary_id'],\n",
    "        \"conceptCode\": data['concept_code'],\n",
    "        \"conceptVersion\": data['Version'],\n",
    "        \"conceptScore\": data[\"MatchScore\"],\n",
    "        \"verified\": 'false'\n",
    "    }\n",
    ")"
   ]
  },
  {
   "cell_type": "code",
   "execution_count": 66,
   "metadata": {},
   "outputs": [
    {
     "data": {
      "text/plain": [
       "{'name': 'hch_anam0003',\n",
       " 'labels': [{'language': 'EN',\n",
       "   'value': 'Age between 45 and 74 years',\n",
       "   'type': 'PREFERED'},\n",
       "  {'language': 'DE',\n",
       "   'value': 'Alter zwischen 45 und 74 Jahren',\n",
       "   'type': 'PREFERED'}],\n",
       " 'definitions': {'DE': 'Alter zwischen 45 und 74 Jahren',\n",
       "  'EN': 'Age between 45 and 74 years'},\n",
       " 'valueDomain': {'ValueDomain': 'EnumeratedValueDomain'},\n",
       " 'dataType': 'CATALOG',\n",
       " '_links': {'self': {'href': 'http://localhost:8081/m5.rest/api/HCHS/1/anamnese/hch_anam0003'}},\n",
       " 'concepts': [{'conceptType': 'SNOMED',\n",
       "   'conceptCode': 421974008,\n",
       "   'conceptVersion': '2020-07-31 SNOMED CT International Edition; 2020-09-01 SNOMED CT US Edition; 2020-10-28 SNOMED CT UK Edition',\n",
       "   'conceptScore': 0.707480636634564,\n",
       "   'verified': 'false'},\n",
       "  {'conceptType': 'SNOMED',\n",
       "   'conceptCode': 3120008,\n",
       "   'conceptVersion': '2020-07-31 SNOMED CT International Edition; 2020-09-01 SNOMED CT US Edition; 2020-10-28 SNOMED CT UK Edition',\n",
       "   'conceptScore': 0.5758211255842259,\n",
       "   'verified': 'false'},\n",
       "  {'conceptType': 'SNOMED',\n",
       "   'conceptCode': 46571000,\n",
       "   'conceptVersion': '2020-07-31 SNOMED CT International Edition; 2020-09-01 SNOMED CT US Edition; 2020-10-28 SNOMED CT UK Edition',\n",
       "   'conceptScore': 0.569786821984982,\n",
       "   'verified': 'false'},\n",
       "  {'conceptType': 'SNOMED',\n",
       "   'conceptCode': 241712003,\n",
       "   'conceptVersion': '2020-07-31 SNOMED CT International Edition; 2020-09-01 SNOMED CT US Edition; 2020-10-28 SNOMED CT UK Edition',\n",
       "   'conceptScore': 0.5340835983769765,\n",
       "   'verified': 'false'},\n",
       "  {'conceptType': 'SNOMED',\n",
       "   'conceptCode': 301256004,\n",
       "   'conceptVersion': '2020-07-31 SNOMED CT International Edition; 2020-09-01 SNOMED CT US Edition; 2020-10-28 SNOMED CT UK Edition',\n",
       "   'conceptScore': 0.520926567585095,\n",
       "   'verified': 'false'}]}"
      ]
     },
     "execution_count": 66,
     "metadata": {},
     "output_type": "execute_result"
    }
   ],
   "source": [
    "body"
   ]
  },
  {
   "cell_type": "code",
   "execution_count": 67,
   "metadata": {},
   "outputs": [],
   "source": [
    "header = {\"Content-type\": \"application/json\", \"Accept\": \"application/json\"}"
   ]
  },
  {
   "cell_type": "code",
   "execution_count": 68,
   "metadata": {},
   "outputs": [
    {
     "data": {
      "text/plain": [
       "<Response [200]>"
      ]
     },
     "execution_count": 68,
     "metadata": {},
     "output_type": "execute_result"
    }
   ],
   "source": [
    "requests.patch('http://localhost:8081/m5.rest/api/HCHS/1/anamnese/hch_anam0003', json=body, headers=header, timeout=10)"
   ]
  }
 ],
 "metadata": {
  "kernelspec": {
   "display_name": "Python 3.11.0 64-bit",
   "language": "python",
   "name": "python3"
  },
  "language_info": {
   "codemirror_mode": {
    "name": "ipython",
    "version": 3
   },
   "file_extension": ".py",
   "mimetype": "text/x-python",
   "name": "python",
   "nbconvert_exporter": "python",
   "pygments_lexer": "ipython3",
   "version": "3.11.0"
  },
  "orig_nbformat": 4,
  "vscode": {
   "interpreter": {
    "hash": "1682e5d06a6d97c1b1cf6bb4ae6cf16223e994936ddb1d53664597d7d46101fa"
   }
  }
 },
 "nbformat": 4,
 "nbformat_minor": 2
}
