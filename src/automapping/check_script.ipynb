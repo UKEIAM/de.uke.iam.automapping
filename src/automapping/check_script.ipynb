{
 "cells": [
  {
   "cell_type": "code",
   "execution_count": 4,
   "metadata": {},
   "outputs": [],
   "source": [
    "from loader import M5Loader\n",
    "from language import Language"
   ]
  },
  {
   "cell_type": "code",
   "execution_count": 5,
   "metadata": {},
   "outputs": [],
   "source": [
    "data=list(M5Loader('HCHS', 1, 'anamnese', Language.GERMAN))"
   ]
  },
  {
   "cell_type": "code",
   "execution_count": 6,
   "metadata": {},
   "outputs": [
    {
     "data": {
      "text/plain": [
       "['Wird die Anamnese durchgeführt?',\n",
       " 'Warum wird die Anamnese nicht durchgeführt?',\n",
       " 'Alter zwischen 45 und 74 Jahren',\n",
       " 'Einwohner/in der Stadt Hamburg']"
      ]
     },
     "execution_count": 6,
     "metadata": {},
     "output_type": "execute_result"
    }
   ],
   "source": [
    "data"
   ]
  },
  {
   "cell_type": "code",
   "execution_count": 24,
   "metadata": {},
   "outputs": [],
   "source": [
    "data_translated=['Is the medical history being taken?',\n",
    " 'Why is the medical history not being taken?',\n",
    " 'Resident of the city of Hamburg']"
   ]
  },
  {
   "cell_type": "code",
   "execution_count": null,
   "metadata": {},
   "outputs": [],
   "source": [
    "class M5Loader(Loader):\n",
    "    \"\"\"\n",
    "    Load elements from M5\n",
    "    \"\"\"\n",
    "\n",
    "    def __init__(\n",
    "        self, data_dictionary: str, version: int, table: str, language: Language\n",
    "    ):\n",
    "        super().__init__(language)\n",
    "        self.data_dictionary = data_dictionary\n",
    "        self.version = version\n",
    "        self.table = table\n",
    "        self.url = f\"http://localhost:8081/m5.rest/api/{self.data_dictionary}/{self.version}/{self.table}\"\n",
    "\n",
    "    def __iter__(self) -> Iterable[str]:\n",
    "        data_json = requests.Session().get(url=self.url).json()\n",
    "        for element in data_json[\"elements\"]:\n",
    "            if element[\"labels\"][0][\"language\"] == self.language.value.upper():\n",
    "                yield element[\"labels\"][0][\"value\"]"
   ]
  },
  {
   "cell_type": "code",
   "execution_count": 20,
   "metadata": {},
   "outputs": [],
   "source": [
    "list_values=[]\n",
    "list_names=[]"
   ]
  },
  {
   "cell_type": "code",
   "execution_count": 21,
   "metadata": {},
   "outputs": [],
   "source": [
    "data_json = re.Session().get('http://localhost:8081/m5.rest/api/HCHS/1/anamnese').json()\n",
    "for element in data_json[\"elements\"]:\n",
    "    if element[\"labels\"][0][\"language\"] == 'DE':\n",
    "        list_names.append(element['name'])\n",
    "        list_values.append(element[\"labels\"][0][\"value\"])"
   ]
  },
  {
   "cell_type": "code",
   "execution_count": 22,
   "metadata": {},
   "outputs": [
    {
     "data": {
      "text/plain": [
       "['hch_anam0001', 'hch_anam0003', 'hch_anam0004']"
      ]
     },
     "execution_count": 22,
     "metadata": {},
     "output_type": "execute_result"
    }
   ],
   "source": [
    "list_names"
   ]
  },
  {
   "cell_type": "code",
   "execution_count": 23,
   "metadata": {},
   "outputs": [
    {
     "data": {
      "text/plain": [
       "['Wird die Anamnese durchgeführt?',\n",
       " 'Alter zwischen 45 und 74 Jahren',\n",
       " 'Einwohner/in der Stadt Hamburg']"
      ]
     },
     "execution_count": 23,
     "metadata": {},
     "output_type": "execute_result"
    }
   ],
   "source": [
    "list_values"
   ]
  },
  {
   "cell_type": "code",
   "execution_count": 25,
   "metadata": {},
   "outputs": [
    {
     "data": {
      "text/plain": [
       "['Is the medical history being taken?',\n",
       " 'Why is the medical history not being taken?',\n",
       " 'Resident of the city of Hamburg']"
      ]
     },
     "execution_count": 25,
     "metadata": {},
     "output_type": "execute_result"
    }
   ],
   "source": [
    "data_translated"
   ]
  },
  {
   "cell_type": "code",
   "execution_count": 60,
   "metadata": {},
   "outputs": [],
   "source": [
    "body=re.get('http://localhost:8081/m5.rest/api/HCHS/1/anamnese/'+list_names[1]).json()"
   ]
  },
  {
   "cell_type": "code",
   "execution_count": 44,
   "metadata": {},
   "outputs": [],
   "source": [
    "body['labels'].append({'language':\"EN\", \"value\":data_translated[1], \"type\": 'PREFERED'})"
   ]
  },
  {
   "cell_type": "code",
   "execution_count": 38,
   "metadata": {},
   "outputs": [],
   "source": [
    "body['labels'].append({'language':\"EN\", \"value\":data_translated[1], \"type\": 'PREFERED'})"
   ]
  },
  {
   "cell_type": "code",
   "execution_count": 45,
   "metadata": {},
   "outputs": [
    {
     "data": {
      "text/plain": [
       "[{'language': 'DE',\n",
       "  'value': 'Alter zwischen 45 und 74 Jahren',\n",
       "  'type': 'PREFERED'},\n",
       " {'language': 'EN',\n",
       "  'value': 'Why is the medical history not being taken?',\n",
       "  'type': 'PREFERED'}]"
      ]
     },
     "execution_count": 45,
     "metadata": {},
     "output_type": "execute_result"
    }
   ],
   "source": [
    "body['labels']#if already translated??"
   ]
  },
  {
   "cell_type": "code",
   "execution_count": 48,
   "metadata": {},
   "outputs": [],
   "source": [
    "body[\"definitions\"][\"EN\"]=\"Why is the medical history not being taken?\""
   ]
  },
  {
   "cell_type": "code",
   "execution_count": 61,
   "metadata": {},
   "outputs": [
    {
     "name": "stdout",
     "output_type": "stream",
     "text": [
      "privet\n"
     ]
    }
   ],
   "source": [
    "if 'EN' not in body[\"definitions\"].keys():\n",
    "    print(\"privet\")"
   ]
  },
  {
   "cell_type": "code",
   "execution_count": 91,
   "metadata": {},
   "outputs": [],
   "source": [
    "headers = {\n",
    "    'Content-type':'application/json', \n",
    "    'Accept':'application/json'\n",
    "}"
   ]
  },
  {
   "cell_type": "code",
   "execution_count": 94,
   "metadata": {},
   "outputs": [
    {
     "name": "stdout",
     "output_type": "stream",
     "text": [
      "{'name': 'hch_anam0001', 'concepts': [{'conceptType': 'SNOMED', 'conceptCode': '126', 'conceptVersion': None, 'conceptScore': '0.82', 'verified': True}, {'conceptType': 'SNOMED', 'conceptCode': '1235', 'conceptVersion': None, 'conceptScore': '0.83', 'verified': True}], 'labels': [{'language': 'EN', 'value': 'Is the medical history taken?', 'type': 'PREFERED'}, {'language': 'DE', 'value': 'Wird die Anamnese durchgeführt?', 'type': 'PREFERED'}], 'definitions': {'DE': 'Wird die Anamnese durchgeführt?', 'EN': 'Is the medical history taken?'}, 'valueDomain': {'ValueDomain': 'EnumeratedValueDomain'}, 'dataType': 'CATALOG', '_links': {'self': {'href': 'http://localhost:8081/m5.rest/api/HCHS/1/anamnese/hch_anam0001'}}}\n",
      "{'name': 'hch_anam0003', 'labels': [{'language': 'DE', 'value': 'Alter zwischen 45 und 74 Jahren', 'type': 'PREFERED'}, {'language': 'EN', 'value': 'Why is the medical history not being taken?', 'type': 'PREFERED'}], 'definitions': {'DE': 'Alter zwischen 45 und 74 Jahren', 'EN': 'Why is the medical history not being taken?'}, 'valueDomain': {'ValueDomain': 'EnumeratedValueDomain'}, 'dataType': 'CATALOG', '_links': {'self': {'href': 'http://localhost:8081/m5.rest/api/HCHS/1/anamnese/hch_anam0003'}}}\n",
      "{'name': 'hch_anam0004', 'labels': [{'language': 'DE', 'value': 'Einwohner/in der Stadt Hamburg', 'type': 'PREFERED'}, {'language': 'EN', 'value': 'Resident of the city of Hamburg', 'type': 'PREFERED'}], 'definitions': {'DE': 'Einwohner/in der Stadt Hamburg', 'EN': 'Resident of the city of Hamburg'}, 'valueDomain': {'ValueDomain': 'EnumeratedValueDomain'}, 'dataType': 'CATALOG', '_links': {'self': {'href': 'http://localhost:8081/m5.rest/api/HCHS/1/anamnese/hch_anam0004'}}}\n"
     ]
    }
   ],
   "source": [
    "for i in range(len(list_names)):\n",
    "    body=re.get('http://localhost:8081/m5.rest/api/HCHS/1/anamnese/'+list_names[i]).json()\n",
    "    if 'EN' not in body[\"definitions\"].keys():\n",
    "        body['labels'].append({'language':\"EN\", \"value\":data_translated[i], \"type\": 'PREFERED'})\n",
    "        body[\"definitions\"][\"EN\"]=data_translated[i]\n",
    "    print(body)\n",
    "    upd=re.patch('http://localhost:8081/m5.rest/api/HCHS/1/anamnese/'+list_names[i], json=body, headers=headers)"
   ]
  },
  {
   "cell_type": "code",
   "execution_count": 95,
   "metadata": {},
   "outputs": [
    {
     "data": {
      "text/plain": [
       "<Response [200]>"
      ]
     },
     "execution_count": 95,
     "metadata": {},
     "output_type": "execute_result"
    }
   ],
   "source": [
    "upd"
   ]
  },
  {
   "cell_type": "code",
   "execution_count": 90,
   "metadata": {},
   "outputs": [
    {
     "data": {
      "text/plain": [
       "<Response [415]>"
      ]
     },
     "execution_count": 90,
     "metadata": {},
     "output_type": "execute_result"
    }
   ],
   "source": [
    "upd"
   ]
  },
  {
   "cell_type": "code",
   "execution_count": 85,
   "metadata": {},
   "outputs": [
    {
     "data": {
      "text/plain": [
       "<Response [415]>"
      ]
     },
     "execution_count": 85,
     "metadata": {},
     "output_type": "execute_result"
    }
   ],
   "source": [
    "requests.patch(\"http://localhost:8081/m5.rest/api/HCHS/1/anamnese/hch_anam0004\", {'labels': \"[{'language': 'DE', 'value': 'Einwohner/in der Stadt Hamburg', 'type': 'PREFERED'}, {'language': 'EN', 'value': 'Resident of the city of Hamburg','type': 'PREFERED'}]\"})"
   ]
  },
  {
   "cell_type": "code",
   "execution_count": 80,
   "metadata": {},
   "outputs": [],
   "source": [
    "data={'name': 'hch_anam0004', 'labels': [{'language': 'DE', 'value': 'Einwohner/in der Stadt Hamburg', 'type': 'PREFERED'}, {'language': 'EN', 'value': 'Resident of the city of Hamburg', 'type': 'PREFERED'}], 'definitions': {'DE': 'Einwohner/in der Stadt Hamburg', 'EN': 'Resident of the city of Hamburg'}, 'valueDomain': {'ValueDomain': 'EnumeratedValueDomain'}, 'dataType': 'CATALOG', '_links': {'self': {'href': 'http://localhost:8081/m5.rest/api/HCHS/1/anamnese/hch_anam0004'}}}"
   ]
  },
  {
   "cell_type": "code",
   "execution_count": 82,
   "metadata": {},
   "outputs": [
    {
     "data": {
      "text/plain": [
       "{'name': 'hch_anam0004',\n",
       " 'labels': [{'language': 'DE',\n",
       "   'value': 'Einwohner/in der Stadt Hamburg',\n",
       "   'type': 'PREFERED'},\n",
       "  {'language': 'EN',\n",
       "   'value': 'Resident of the city of Hamburg',\n",
       "   'type': 'PREFERED'}],\n",
       " 'definitions': {'DE': 'Einwohner/in der Stadt Hamburg',\n",
       "  'EN': 'Resident of the city of Hamburg'},\n",
       " 'valueDomain': {'ValueDomain': 'EnumeratedValueDomain'},\n",
       " 'dataType': 'CATALOG',\n",
       " '_links': {'self': {'href': 'http://localhost:8081/m5.rest/api/HCHS/1/anamnese/hch_anam0004'}}}"
      ]
     },
     "execution_count": 82,
     "metadata": {},
     "output_type": "execute_result"
    }
   ],
   "source": [
    "data"
   ]
  },
  {
   "cell_type": "code",
   "execution_count": 77,
   "metadata": {},
   "outputs": [
    {
     "data": {
      "text/plain": [
       "{'definitions': {'DE': 'Einwohner/in der Stadt Hamburg',\n",
       "  'EN': 'Resident of the city of Hamburg'}}"
      ]
     },
     "execution_count": 77,
     "metadata": {},
     "output_type": "execute_result"
    }
   ],
   "source": [
    "{\"definitions\": body['definitions']}"
   ]
  },
  {
   "cell_type": "code",
   "execution_count": 70,
   "metadata": {},
   "outputs": [
    {
     "data": {
      "text/plain": [
       "<Response [415]>"
      ]
     },
     "execution_count": 70,
     "metadata": {},
     "output_type": "execute_result"
    }
   ],
   "source": [
    "upd"
   ]
  },
  {
   "cell_type": "code",
   "execution_count": 68,
   "metadata": {},
   "outputs": [
    {
     "data": {
      "text/plain": [
       "{'name': 'hch_anam0004',\n",
       " 'labels': [{'language': 'DE',\n",
       "   'value': 'Einwohner/in der Stadt Hamburg',\n",
       "   'type': 'PREFERED'},\n",
       "  {'language': 'EN',\n",
       "   'value': 'Resident of the city of Hamburg',\n",
       "   'type': 'PREFERED'}],\n",
       " 'definitions': {'DE': 'Einwohner/in der Stadt Hamburg',\n",
       "  'EN': 'Resident of the city of Hamburg'},\n",
       " 'valueDomain': {'ValueDomain': 'EnumeratedValueDomain'},\n",
       " 'dataType': 'CATALOG',\n",
       " '_links': {'self': {'href': 'http://localhost:8081/m5.rest/api/HCHS/1/anamnese/hch_anam0004'}}}"
      ]
     },
     "execution_count": 68,
     "metadata": {},
     "output_type": "execute_result"
    }
   ],
   "source": [
    "body"
   ]
  },
  {
   "cell_type": "code",
   "execution_count": 67,
   "metadata": {},
   "outputs": [
    {
     "data": {
      "text/plain": [
       "<Response [415]>"
      ]
     },
     "execution_count": 67,
     "metadata": {},
     "output_type": "execute_result"
    }
   ],
   "source": [
    "upd"
   ]
  },
  {
   "cell_type": "code",
   "execution_count": 13,
   "metadata": {},
   "outputs": [],
   "source": [
    "import requests as re"
   ]
  },
  {
   "cell_type": "code",
   "execution_count": null,
   "metadata": {},
   "outputs": [],
   "source": [
    "\n",
    "re.patch('http://localhost:8081/m5.rest/api/HCHS/1/anamnese'+"
   ]
  }
 ],
 "metadata": {
  "kernelspec": {
   "display_name": "Python 3.11.0 64-bit",
   "language": "python",
   "name": "python3"
  },
  "language_info": {
   "codemirror_mode": {
    "name": "ipython",
    "version": 3
   },
   "file_extension": ".py",
   "mimetype": "text/x-python",
   "name": "python",
   "nbconvert_exporter": "python",
   "pygments_lexer": "ipython3",
   "version": "3.11.0"
  },
  "orig_nbformat": 4,
  "vscode": {
   "interpreter": {
    "hash": "1682e5d06a6d97c1b1cf6bb4ae6cf16223e994936ddb1d53664597d7d46101fa"
   }
  }
 },
 "nbformat": 4,
 "nbformat_minor": 2
}
