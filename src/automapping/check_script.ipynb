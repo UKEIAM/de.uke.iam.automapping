{
 "cells": [
  {
   "cell_type": "code",
   "execution_count": 4,
   "metadata": {},
   "outputs": [],
   "source": [
    "from loader import M5Loader\n",
    "from language import Language"
   ]
  },
  {
   "cell_type": "code",
   "execution_count": 5,
   "metadata": {},
   "outputs": [],
   "source": [
    "data=list(M5Loader('HCHS', 1, 'anamnese', Language.GERMAN))"
   ]
  },
  {
   "cell_type": "code",
   "execution_count": 6,
   "metadata": {},
   "outputs": [
    {
     "data": {
      "text/plain": [
       "['Wird die Anamnese durchgeführt?',\n",
       " 'Warum wird die Anamnese nicht durchgeführt?',\n",
       " 'Alter zwischen 45 und 74 Jahren',\n",
       " 'Einwohner/in der Stadt Hamburg']"
      ]
     },
     "execution_count": 6,
     "metadata": {},
     "output_type": "execute_result"
    }
   ],
   "source": [
    "data"
   ]
  },
  {
   "cell_type": "code",
   "execution_count": 24,
   "metadata": {},
   "outputs": [],
   "source": [
    "data_translated=['Is the medical history being taken?',\n",
    " 'Why is the medical history not being taken?',\n",
    " 'Resident of the city of Hamburg']"
   ]
  },
  {
   "cell_type": "code",
   "execution_count": null,
   "metadata": {},
   "outputs": [],
   "source": [
    "class M5Loader(Loader):\n",
    "    \"\"\"\n",
    "    Load elements from M5\n",
    "    \"\"\"\n",
    "\n",
    "    def __init__(\n",
    "        self, data_dictionary: str, version: int, table: str, language: Language\n",
    "    ):\n",
    "        super().__init__(language)\n",
    "        self.data_dictionary = data_dictionary\n",
    "        self.version = version\n",
    "        self.table = table\n",
    "        self.url = f\"http://localhost:8081/m5.rest/api/{self.data_dictionary}/{self.version}/{self.table}\"\n",
    "\n",
    "    def __iter__(self) -> Iterable[str]:\n",
    "        data_json = requests.Session().get(url=self.url).json()\n",
    "        for element in data_json[\"elements\"]:\n",
    "            if element[\"labels\"][0][\"language\"] == self.language.value.upper():\n",
    "                yield element[\"labels\"][0][\"value\"]"
   ]
  },
  {
   "cell_type": "code",
   "execution_count": 20,
   "metadata": {},
   "outputs": [],
   "source": [
    "list_values=[]\n",
    "list_names=[]"
   ]
  },
  {
   "cell_type": "code",
   "execution_count": 21,
   "metadata": {},
   "outputs": [],
   "source": [
    "data_json = re.Session().get('http://localhost:8081/m5.rest/api/HCHS/1/anamnese').json()\n",
    "for element in data_json[\"elements\"]:\n",
    "    if element[\"labels\"][0][\"language\"] == 'DE':\n",
    "        list_names.append(element['name'])\n",
    "        list_values.append(element[\"labels\"][0][\"value\"])"
   ]
  },
  {
   "cell_type": "code",
   "execution_count": 22,
   "metadata": {},
   "outputs": [
    {
     "data": {
      "text/plain": [
       "['hch_anam0001', 'hch_anam0003', 'hch_anam0004']"
      ]
     },
     "execution_count": 22,
     "metadata": {},
     "output_type": "execute_result"
    }
   ],
   "source": [
    "list_names"
   ]
  },
  {
   "cell_type": "code",
   "execution_count": 23,
   "metadata": {},
   "outputs": [
    {
     "data": {
      "text/plain": [
       "['Wird die Anamnese durchgeführt?',\n",
       " 'Alter zwischen 45 und 74 Jahren',\n",
       " 'Einwohner/in der Stadt Hamburg']"
      ]
     },
     "execution_count": 23,
     "metadata": {},
     "output_type": "execute_result"
    }
   ],
   "source": [
    "list_values"
   ]
  },
  {
   "cell_type": "code",
   "execution_count": 25,
   "metadata": {},
   "outputs": [
    {
     "data": {
      "text/plain": [
       "['Is the medical history being taken?',\n",
       " 'Why is the medical history not being taken?',\n",
       " 'Resident of the city of Hamburg']"
      ]
     },
     "execution_count": 25,
     "metadata": {},
     "output_type": "execute_result"
    }
   ],
   "source": [
    "data_translated"
   ]
  },
  {
   "cell_type": "code",
   "execution_count": 41,
   "metadata": {},
   "outputs": [],
   "source": [
    "body=re.get('http://localhost:8081/m5.rest/api/HCHS/1/anamnese/'+list_names[1]).json()"
   ]
  },
  {
   "cell_type": "code",
   "execution_count": 44,
   "metadata": {},
   "outputs": [],
   "source": [
    "body['labels'].append({'language':\"EN\", \"value\":data_translated[1], \"type\": 'PREFERED'})"
   ]
  },
  {
   "cell_type": "code",
   "execution_count": 38,
   "metadata": {},
   "outputs": [],
   "source": [
    "body['labels'].append({'language':\"EN\", \"value\":data_translated[1], \"type\": 'PREFERED'})"
   ]
  },
  {
   "cell_type": "code",
   "execution_count": 39,
   "metadata": {},
   "outputs": [],
   "source": [
    "new_label"
   ]
  },
  {
   "cell_type": "code",
   "execution_count": null,
   "metadata": {},
   "outputs": [],
   "source": [
    "for i in range(len(list_names)):\n",
    "    body=re.get('http://localhost:8081/m5.rest/api/HCHS/1/anamnese/'+list_names[i])\n",
    "    re.patch('http://localhost:8081/m5.rest/api/HCHS/1/anamnese/'+list_names[i], "
   ]
  },
  {
   "cell_type": "code",
   "execution_count": 13,
   "metadata": {},
   "outputs": [],
   "source": [
    "import requests as re"
   ]
  },
  {
   "cell_type": "code",
   "execution_count": null,
   "metadata": {},
   "outputs": [],
   "source": [
    "\n",
    "re.patch('http://localhost:8081/m5.rest/api/HCHS/1/anamnese'+"
   ]
  }
 ],
 "metadata": {
  "kernelspec": {
   "display_name": "Python 3.11.0 64-bit",
   "language": "python",
   "name": "python3"
  },
  "language_info": {
   "codemirror_mode": {
    "name": "ipython",
    "version": 3
   },
   "file_extension": ".py",
   "mimetype": "text/x-python",
   "name": "python",
   "nbconvert_exporter": "python",
   "pygments_lexer": "ipython3",
   "version": "3.11.0"
  },
  "orig_nbformat": 4,
  "vscode": {
   "interpreter": {
    "hash": "1682e5d06a6d97c1b1cf6bb4ae6cf16223e994936ddb1d53664597d7d46101fa"
   }
  }
 },
 "nbformat": 4,
 "nbformat_minor": 2
}
