{
 "cells": [
  {
   "cell_type": "code",
   "execution_count": 2,
   "metadata": {},
   "outputs": [],
   "source": [
    "import pandas as pd\n",
    "import re"
   ]
  },
  {
   "cell_type": "markdown",
   "metadata": {},
   "source": [
    "__Goal__: can not properly map our data to Snomed CT in OMOP due to latin terms\n",
    "\n",
    "__Solution__: use wikipedia redirections to replace latin term with english one "
   ]
  },
  {
   "cell_type": "code",
   "execution_count": 5,
   "metadata": {},
   "outputs": [],
   "source": [
    "# download table with redirections: \n",
    "redirections=pd.read_csv('redirect_full.csv')"
   ]
  },
  {
   "cell_type": "code",
   "execution_count": 7,
   "metadata": {},
   "outputs": [],
   "source": [
    "#download list with pages in case you want to filter\n",
    "pages=pd.read_csv('pages.csv')"
   ]
  },
  {
   "cell_type": "code",
   "execution_count": 8,
   "metadata": {},
   "outputs": [],
   "source": [
    "list_of_pages=pages['0'].to_list()"
   ]
  },
  {
   "cell_type": "code",
   "execution_count": 18,
   "metadata": {},
   "outputs": [],
   "source": [
    "redirections_filtered=redirections[redirections.target_page_id.isin(list_of_pages)]"
   ]
  },
  {
   "cell_type": "code",
   "execution_count": 19,
   "metadata": {},
   "outputs": [],
   "source": [
    "redirections_filtered=redirections_filtered[['normalized_anchor_text', 'target_page_title']]"
   ]
  },
  {
   "cell_type": "code",
   "execution_count": 20,
   "metadata": {},
   "outputs": [],
   "source": [
    "#example\n",
    "sample='diagnose open leg ulcus cruris' "
   ]
  },
  {
   "cell_type": "code",
   "execution_count": 21,
   "metadata": {},
   "outputs": [
    {
     "name": "stdout",
     "output_type": "stream",
     "text": [
      "--- 1.833557367324829 seconds ---\n"
     ]
    }
   ],
   "source": [
    "#find and save all entrences\n",
    "import time\n",
    "start_time=time.time()\n",
    "list_orig=[]\n",
    "list_repl=[]\n",
    "for _, original, replacement in redirections_filtered.itertuples():\n",
    "    if sample.find(str(original))!=-1:\n",
    "        list_orig.append(original)\n",
    "        list_repl.append(replacement)\n",
    "print(\"--- %s seconds ---\" % (time.time() - start_time))"
   ]
  },
  {
   "cell_type": "code",
   "execution_count": 22,
   "metadata": {},
   "outputs": [],
   "source": [
    "#replacement itself\n",
    "for i in range(len(list_repl)):\n",
    "    sample = re.sub(r\"\\b\" + list_orig[i] + r\"\\b\", list_repl[i] + \" \", sample)"
   ]
  },
  {
   "cell_type": "code",
   "execution_count": 23,
   "metadata": {},
   "outputs": [
    {
     "data": {
      "text/plain": [
       "'Medical diagnosis  Open-source software  Leg spin  Venous ulcer '"
      ]
     },
     "execution_count": 23,
     "metadata": {},
     "output_type": "execute_result"
    }
   ],
   "source": [
    "sample"
   ]
  },
  {
   "cell_type": "markdown",
   "metadata": {},
   "source": [
    "Problem: algorithm has replacement for every word\n",
    "\n",
    "TODO:\n",
    "\n",
    "- try language detection and replace only non-english words\n",
    "- user interaction? \n",
    "\n",
    "*P.S. algorithm not optimised - just for experiments*"
   ]
  },
  {
   "cell_type": "markdown",
   "metadata": {},
   "source": []
  }
 ],
 "metadata": {
  "kernelspec": {
   "display_name": "Python 3.8.13 ('base')",
   "language": "python",
   "name": "python3"
  },
  "language_info": {
   "codemirror_mode": {
    "name": "ipython",
    "version": 3
   },
   "file_extension": ".py",
   "mimetype": "text/x-python",
   "name": "python",
   "nbconvert_exporter": "python",
   "pygments_lexer": "ipython3",
   "version": "3.8.13"
  },
  "orig_nbformat": 4,
  "vscode": {
   "interpreter": {
    "hash": "d4d1e4263499bec80672ea0156c357c1ee493ec2b1c70f0acce89fc37c4a6abe"
   }
  }
 },
 "nbformat": 4,
 "nbformat_minor": 2
}
