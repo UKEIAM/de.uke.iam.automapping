{
 "cells": [
  {
   "cell_type": "code",
   "execution_count": 1,
   "metadata": {},
   "outputs": [
    {
     "name": "stderr",
     "output_type": "stream",
     "text": [
      "/usr/local/lib/python3.10/site-packages/tqdm/auto.py:22: TqdmWarning: IProgress not found. Please update jupyter and ipywidgets. See https://ipywidgets.readthedocs.io/en/stable/user_install.html\n",
      "  from .autonotebook import tqdm as notebook_tqdm\n",
      "2022-03-28 08:31:44.596598: W tensorflow/stream_executor/platform/default/dso_loader.cc:64] Could not load dynamic library 'libcudart.so.11.0'; dlerror: libcudart.so.11.0: cannot open shared object file: No such file or directory\n",
      "2022-03-28 08:31:44.597185: I tensorflow/stream_executor/cuda/cudart_stub.cc:29] Ignore above cudart dlerror if you do not have a GPU set up on your machine.\n",
      "/usr/local/lib/python3.10/site-packages/transformers/pipelines/base.py:310: FutureWarning: `get_framework` is deprecated and will be removed in v5, use `infer_framework_from_model` instead.\n",
      "  warnings.warn(\n"
     ]
    },
    {
     "data": {
      "text/plain": [
       "'pt'"
      ]
     },
     "execution_count": 1,
     "metadata": {},
     "output_type": "execute_result"
    }
   ],
   "source": [
    "from transformers.pipelines import base\n",
    "base.get_framework(model=None)"
   ]
  },
  {
   "cell_type": "markdown",
   "metadata": {},
   "source": [
    "## Attempts to translate diagnosis 2\n",
    "We will use a translation model: https://huggingface.co/Helsinki-NLP/opus-mt-en-de\n",
    "\n"
   ]
  },
  {
   "cell_type": "code",
   "execution_count": 2,
   "metadata": {},
   "outputs": [],
   "source": [
    "from transformers import pipeline"
   ]
  },
  {
   "cell_type": "code",
   "execution_count": 3,
   "metadata": {},
   "outputs": [],
   "source": [
    "model=\"Helsinki-NLP/opus-mt-en-de\""
   ]
  },
  {
   "cell_type": "code",
   "execution_count": 4,
   "metadata": {},
   "outputs": [],
   "source": [
    "translator=pipeline('translation', model)"
   ]
  },
  {
   "cell_type": "code",
   "execution_count": 5,
   "metadata": {},
   "outputs": [],
   "source": [
    "import pandas as pd"
   ]
  },
  {
   "cell_type": "code",
   "execution_count": 6,
   "metadata": {},
   "outputs": [],
   "source": [
    "df=pd.read_csv('translation_from_snomed_diagnoses.csv')"
   ]
  },
  {
   "cell_type": "code",
   "execution_count": 7,
   "metadata": {},
   "outputs": [],
   "source": [
    "tr=translator(df['snomed sentence'].to_list()[:10])#translate for 10 sentences because of time consuming"
   ]
  },
  {
   "cell_type": "code",
   "execution_count": 8,
   "metadata": {},
   "outputs": [
    {
     "data": {
      "text/plain": [
       "[{'translation_text': 'Patientenstatusbestimmung, Verstorben'},\n",
       " {'translation_text': 'Neoplasma des unsicheren Verhaltens des Kehlkopfes'},\n",
       " {'translation_text': 'Sickle-Zell-Hemoglobin-SS-Krankheit'},\n",
       " {'translation_text': 'Erbliche Elliptozytose'},\n",
       " {'translation_text': 'Esophageale Varizen ohne Blutung'},\n",
       " {'translation_text': 'Ödeme des Kehlkopfes'},\n",
       " {'translation_text': 'Angeborene Makrostomie'},\n",
       " {'translation_text': 'Fremdkörper in Pharynx'},\n",
       " {'translation_text': 'Maligner Tumor der submandibulären Drüse'},\n",
       " {'translation_text': 'Chronisches Magengeschwür mit Blutung UND Perforation, jedoch ohne Obstruktion'}]"
      ]
     },
     "execution_count": 8,
     "metadata": {},
     "output_type": "execute_result"
    }
   ],
   "source": [
    "tr"
   ]
  },
  {
   "cell_type": "code",
   "execution_count": 9,
   "metadata": {},
   "outputs": [],
   "source": [
    "tr_list=[]\n",
    "for i in tr:\n",
    "    tr_list.append(i.get('translation_text'))\n",
    "    #print(i.get('translation_text'))"
   ]
  },
  {
   "cell_type": "code",
   "execution_count": 10,
   "metadata": {},
   "outputs": [],
   "source": [
    "df.drop('Unnamed: 0', axis=1, inplace=True)"
   ]
  },
  {
   "cell_type": "code",
   "execution_count": 11,
   "metadata": {},
   "outputs": [],
   "source": [
    "df_ten=df[:10]"
   ]
  },
  {
   "cell_type": "code",
   "execution_count": 15,
   "metadata": {},
   "outputs": [
    {
     "name": "stderr",
     "output_type": "stream",
     "text": [
      "/tmp/ipykernel_3843/3606349881.py:1: SettingWithCopyWarning: \n",
      "A value is trying to be set on a copy of a slice from a DataFrame.\n",
      "Try using .loc[row_indexer,col_indexer] = value instead\n",
      "\n",
      "See the caveats in the documentation: https://pandas.pydata.org/pandas-docs/stable/user_guide/indexing.html#returning-a-view-versus-a-copy\n",
      "  df_ten['translation with hug face']=tr_list\n"
     ]
    }
   ],
   "source": [
    "df_ten['translation with hug face']=tr_list"
   ]
  },
  {
   "cell_type": "code",
   "execution_count": 14,
   "metadata": {},
   "outputs": [],
   "source": [
    "df_ten.to_excel('examples_for_10_sentences.xlsx', encoding='utf-16')"
   ]
  },
  {
   "cell_type": "code",
   "execution_count": 32,
   "metadata": {},
   "outputs": [
    {
     "data": {
      "text/html": [
       "<div>\n",
       "<style scoped>\n",
       "    .dataframe tbody tr th:only-of-type {\n",
       "        vertical-align: middle;\n",
       "    }\n",
       "\n",
       "    .dataframe tbody tr th {\n",
       "        vertical-align: top;\n",
       "    }\n",
       "\n",
       "    .dataframe thead th {\n",
       "        text-align: right;\n",
       "    }\n",
       "</style>\n",
       "<table border=\"1\" class=\"dataframe\">\n",
       "  <thead>\n",
       "    <tr style=\"text-align: right;\">\n",
       "      <th></th>\n",
       "      <th>snomed sentence</th>\n",
       "      <th>word from vocabulary</th>\n",
       "      <th>german translation for that word</th>\n",
       "    </tr>\n",
       "  </thead>\n",
       "  <tbody>\n",
       "    <tr>\n",
       "      <th>0</th>\n",
       "      <td>Patient status determination, deceased</td>\n",
       "      <td>['status']</td>\n",
       "      <td>['Status']</td>\n",
       "    </tr>\n",
       "    <tr>\n",
       "      <th>1</th>\n",
       "      <td>Neoplasm of uncertain behavior of larynx</td>\n",
       "      <td>NaN</td>\n",
       "      <td>NaN</td>\n",
       "    </tr>\n",
       "    <tr>\n",
       "      <th>2</th>\n",
       "      <td>Sickle cell-hemoglobin SS disease</td>\n",
       "      <td>NaN</td>\n",
       "      <td>NaN</td>\n",
       "    </tr>\n",
       "    <tr>\n",
       "      <th>3</th>\n",
       "      <td>Hereditary elliptocytosis</td>\n",
       "      <td>NaN</td>\n",
       "      <td>NaN</td>\n",
       "    </tr>\n",
       "    <tr>\n",
       "      <th>4</th>\n",
       "      <td>Esophageal varices without bleeding</td>\n",
       "      <td>NaN</td>\n",
       "      <td>NaN</td>\n",
       "    </tr>\n",
       "    <tr>\n",
       "      <th>...</th>\n",
       "      <td>...</td>\n",
       "      <td>...</td>\n",
       "      <td>...</td>\n",
       "    </tr>\n",
       "    <tr>\n",
       "      <th>112877</th>\n",
       "      <td>Sickle cell screening, unsuitable sample: more...</td>\n",
       "      <td>['anal', 'analysis', 'transit']</td>\n",
       "      <td>['anal', 'Analyse', 'Transit']</td>\n",
       "    </tr>\n",
       "    <tr>\n",
       "      <th>112878</th>\n",
       "      <td>FootSkin scale risk level 4 high risk</td>\n",
       "      <td>NaN</td>\n",
       "      <td>NaN</td>\n",
       "    </tr>\n",
       "    <tr>\n",
       "      <th>112879</th>\n",
       "      <td>Injury following substance use</td>\n",
       "      <td>['substance']</td>\n",
       "      <td>['Substanz']</td>\n",
       "    </tr>\n",
       "    <tr>\n",
       "      <th>112880</th>\n",
       "      <td>Injury following heroin use</td>\n",
       "      <td>NaN</td>\n",
       "      <td>NaN</td>\n",
       "    </tr>\n",
       "    <tr>\n",
       "      <th>112881</th>\n",
       "      <td>Injury following GHB (gamma hydroxybutyrate) use</td>\n",
       "      <td>NaN</td>\n",
       "      <td>NaN</td>\n",
       "    </tr>\n",
       "  </tbody>\n",
       "</table>\n",
       "<p>112882 rows × 3 columns</p>\n",
       "</div>"
      ],
      "text/plain": [
       "                                          snomed sentence  \\\n",
       "0                  Patient status determination, deceased   \n",
       "1                Neoplasm of uncertain behavior of larynx   \n",
       "2                       Sickle cell-hemoglobin SS disease   \n",
       "3                               Hereditary elliptocytosis   \n",
       "4                     Esophageal varices without bleeding   \n",
       "...                                                   ...   \n",
       "112877  Sickle cell screening, unsuitable sample: more...   \n",
       "112878              FootSkin scale risk level 4 high risk   \n",
       "112879                     Injury following substance use   \n",
       "112880                        Injury following heroin use   \n",
       "112881   Injury following GHB (gamma hydroxybutyrate) use   \n",
       "\n",
       "                   word from vocabulary german translation for that word  \n",
       "0                            ['status']                       ['Status']  \n",
       "1                                   NaN                              NaN  \n",
       "2                                   NaN                              NaN  \n",
       "3                                   NaN                              NaN  \n",
       "4                                   NaN                              NaN  \n",
       "...                                 ...                              ...  \n",
       "112877  ['anal', 'analysis', 'transit']   ['anal', 'Analyse', 'Transit']  \n",
       "112878                              NaN                              NaN  \n",
       "112879                    ['substance']                     ['Substanz']  \n",
       "112880                              NaN                              NaN  \n",
       "112881                              NaN                              NaN  \n",
       "\n",
       "[112882 rows x 3 columns]"
      ]
     },
     "execution_count": 32,
     "metadata": {},
     "output_type": "execute_result"
    }
   ],
   "source": [
    "df"
   ]
  },
  {
   "cell_type": "code",
   "execution_count": 49,
   "metadata": {},
   "outputs": [],
   "source": [
    "df = df.where(pd.notnull(df), None)"
   ]
  },
  {
   "cell_type": "code",
   "execution_count": 54,
   "metadata": {},
   "outputs": [],
   "source": [
    "percent_for_each=[]\n",
    "for i in range(len(df)):\n",
    "    if df['word from vocabulary'][i] is not None:\n",
    "        sentence=df['snomed sentence'][i]\n",
    "        number_of_words=len(sentence.split())\n",
    "        number_of_voc_words=len(df['word from vocabulary'][i].split(','))\n",
    "        percantage=number_of_voc_words/number_of_words*100 \n",
    "        percent_for_each.append(percantage)\n",
    "\n",
    "    "
   ]
  },
  {
   "cell_type": "code",
   "execution_count": 60,
   "metadata": {},
   "outputs": [
    {
     "data": {
      "text/plain": [
       "38.021903467688894"
      ]
     },
     "execution_count": 60,
     "metadata": {},
     "output_type": "execute_result"
    }
   ],
   "source": [
    "import statistics\n",
    "statistics.mean(percent_for_each)"
   ]
  },
  {
   "cell_type": "code",
   "execution_count": null,
   "metadata": {},
   "outputs": [],
   "source": []
  }
 ],
 "metadata": {
  "interpreter": {
   "hash": "949777d72b0d2535278d3dc13498b2535136f6dfe0678499012e853ee9abcab1"
  },
  "kernelspec": {
   "display_name": "Python 3.10.2 64-bit",
   "language": "python",
   "name": "python3"
  },
  "language_info": {
   "codemirror_mode": {
    "name": "ipython",
    "version": 3
   },
   "file_extension": ".py",
   "mimetype": "text/x-python",
   "name": "python",
   "nbconvert_exporter": "python",
   "pygments_lexer": "ipython3",
   "version": "3.10.2"
  },
  "orig_nbformat": 4
 },
 "nbformat": 4,
 "nbformat_minor": 2
}
