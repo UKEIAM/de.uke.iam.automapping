{
 "cells": [
  {
   "cell_type": "code",
   "execution_count": 27,
   "metadata": {},
   "outputs": [],
   "source": [
    "import spacy\n",
    "import pandas as pd\n",
    "import numpy as np\n",
    "from collections import Counter\n",
    "from tqdm import tqdm"
   ]
  },
  {
   "cell_type": "markdown",
   "metadata": {},
   "source": [
    "#### Data preparation"
   ]
  },
  {
   "cell_type": "code",
   "execution_count": 9,
   "metadata": {},
   "outputs": [],
   "source": [
    "df=pd.read_csv('/workspaces/de.uke.iam.automapping/experiments/CONCEPT.csv', on_bad_lines='skip', delimiter=\"\\t\", low_memory=False)"
   ]
  },
  {
   "cell_type": "code",
   "execution_count": 12,
   "metadata": {},
   "outputs": [],
   "source": [
    "df_new=df[df['vocabulary_id']=='SNOMED']"
   ]
  },
  {
   "cell_type": "code",
   "execution_count": 16,
   "metadata": {},
   "outputs": [],
   "source": [
    "df_condition=df_new[df_new['domain_id']=='Condition']"
   ]
  },
  {
   "cell_type": "code",
   "execution_count": 18,
   "metadata": {},
   "outputs": [],
   "source": [
    "snomed_description=df_condition['concept_name']"
   ]
  },
  {
   "cell_type": "markdown",
   "metadata": {},
   "source": [
    "#### Check existence"
   ]
  },
  {
   "cell_type": "code",
   "execution_count": 21,
   "metadata": {},
   "outputs": [],
   "source": [
    "nlp=spacy.load('en_core_web_lg')  "
   ]
  },
  {
   "cell_type": "code",
   "execution_count": 28,
   "metadata": {},
   "outputs": [],
   "source": [
    "def get_existence(data):\n",
    "    \"\"\"Get words which exist and non exist in spaCy english model\"\"\"\n",
    "    existing_words=[] \n",
    "    non_existing_words=[]\n",
    "    for s in tqdm(data):\n",
    "        doc=nlp(s)\n",
    "        for token in doc:\n",
    "            if ((token.pos_!='SPACE') & (token.pos_!='CCONJ') & (token.pos_!='PUNCT') & (token.pos_!='NUM')) and not token.is_stop and not token.is_punct: #drop punctuation, number, spaces, stop words\n",
    "                if token.has_vector is True:\n",
    "                    existing_words.append(str(token))\n",
    "                else:\n",
    "                    non_existing_words.append(str(token))\n",
    "    return existing_words, non_existing_words\n"
   ]
  },
  {
   "cell_type": "code",
   "execution_count": 29,
   "metadata": {},
   "outputs": [
    {
     "name": "stderr",
     "output_type": "stream",
     "text": [
      "100%|██████████| 180133/180133 [24:34<00:00, 122.17it/s]\n"
     ]
    }
   ],
   "source": [
    "existing_words, non_existing_words=get_existence(snomed_description)"
   ]
  },
  {
   "cell_type": "code",
   "execution_count": 32,
   "metadata": {},
   "outputs": [
    {
     "name": "stdout",
     "output_type": "stream",
     "text": [
      "number_of_tokens: 725191, where 653001 words we found and 72190 words we didn't find\n",
      "percent of existing words: 90.0%\n",
      "Most common words from non existing ones: [('X]Other', 1906), ('Neoplasm', 1438), ('puerperium', 609), ('occurrent', 578), ('/or', 554), ('X]Intentional', 411), ('arthropathy', 366), ('X]Contact', 334), ('nontraffic', 312), ('X]Occupant', 312), ('X]Exposure', 286), ('X]Poisoning', 274), ('X]Unspecified', 251), ('X]Mental', 241), ('X]Assault', 231), ('Arthropathy', 213), ('Infective', 212), ('X]Accidental', 197), ('X]Injury', 168), ('Subacute', 165), ('FIGO', 156), ('malposition', 123), ('Contracture', 119), ('X]Malignant', 114), ('Synovial', 109), ('metatarsophalangeal', 105), ('adnexa', 103), ('D]Abnormal', 101), ('X]Car', 100), ('X]Bus', 100)]\n",
      "Most common words from existing ones: [('NOS', 12444), ('unspecified', 5622), ('syndrome', 4687), ('left', 4645), ('O', 4642), ('right', 4519), ('E', 4509), ('disease', 4256), ('neoplasm', 4195), ('poisoning', 4121), ('fracture', 3529), ('Congenital', 3399), ('disorder', 3395), ('injury', 3231), ('Open', 2919), ('specified', 2904), ('wound', 2841), ('joint', 2798), ('skin', 2567), ('occurrence', 2335), ('finding', 2255), ('infection', 2191), ('Acute', 2140), ('lower', 2110), ('Closed', 2079), ('eye', 2064), ('Malignant', 2007), ('overdose', 1945), ('body', 1942), ('malignant', 1879)]\n"
     ]
    }
   ],
   "source": [
    "dict_existing_words={}\n",
    "dict_non_existing_words={}\n",
    "dict_existing_words=Counter(existing_words)\n",
    "dict_non_existing_words=Counter(non_existing_words)\n",
    "\n",
    "print(f\"number_of_tokens: {len(existing_words)+len(non_existing_words)}, where {len(existing_words)} words we found and {len(non_existing_words)} words we didn't find\")\n",
    "print(f\"percent of existing words: {len(existing_words)/(len(existing_words)+len(non_existing_words)):.1%}\")\n",
    "print(f\"Most common words from non existing ones: {dict_non_existing_words.most_common(30)}\")\n",
    "print(f\"Most common words from existing ones: {dict_existing_words.most_common(30)}\")\n"
   ]
  },
  {
   "cell_type": "code",
   "execution_count": null,
   "metadata": {},
   "outputs": [],
   "source": []
  }
 ],
 "metadata": {
  "interpreter": {
   "hash": "949777d72b0d2535278d3dc13498b2535136f6dfe0678499012e853ee9abcab1"
  },
  "kernelspec": {
   "display_name": "Python 3.10.2 64-bit",
   "language": "python",
   "name": "python3"
  },
  "language_info": {
   "codemirror_mode": {
    "name": "ipython",
    "version": 3
   },
   "file_extension": ".py",
   "mimetype": "text/x-python",
   "name": "python",
   "nbconvert_exporter": "python",
   "pygments_lexer": "ipython3",
   "version": "3.10.2"
  },
  "orig_nbformat": 4
 },
 "nbformat": 4,
 "nbformat_minor": 2
}
