{
 "cells": [
  {
   "cell_type": "code",
   "execution_count": 1,
   "metadata": {},
   "outputs": [],
   "source": [
    "import spacy\n",
    "import pandas as pd\n",
    "import numpy as np\n",
    "from collections import Counter\n",
    "from tqdm import tqdm"
   ]
  },
  {
   "cell_type": "markdown",
   "metadata": {},
   "source": [
    "#### Data preparation"
   ]
  },
  {
   "cell_type": "code",
   "execution_count": 2,
   "metadata": {},
   "outputs": [],
   "source": [
    "df=pd.read_csv('/workspaces/de.uke.iam.automapping/experiments/CONCEPT.csv', on_bad_lines='skip', delimiter=\"\\t\", low_memory=False)"
   ]
  },
  {
   "cell_type": "code",
   "execution_count": 3,
   "metadata": {},
   "outputs": [],
   "source": [
    "df_new=df[df['vocabulary_id']=='SNOMED']"
   ]
  },
  {
   "cell_type": "code",
   "execution_count": 4,
   "metadata": {},
   "outputs": [],
   "source": [
    "df_condition=df_new[df_new['domain_id']=='Condition']"
   ]
  },
  {
   "cell_type": "code",
   "execution_count": 24,
   "metadata": {},
   "outputs": [
    {
     "data": {
      "text/plain": [
       "534513    [X] Occupant of streetcar injured in transport...\n",
       "Name: concept_name, dtype: object"
      ]
     },
     "execution_count": 24,
     "metadata": {},
     "output_type": "execute_result"
    }
   ],
   "source": [
    "df_condition[df_condition['concept_name']=='[X]Occupant of streetcar injured in transport accident']['concept_name'].replace({'X]':'X] '}, regex=True)"
   ]
  },
  {
   "cell_type": "code",
   "execution_count": 22,
   "metadata": {},
   "outputs": [
    {
     "data": {
      "text/plain": [
       "'[X] Occupant of streetcar injured in transport accident'"
      ]
     },
     "execution_count": 22,
     "metadata": {},
     "output_type": "execute_result"
    }
   ],
   "source": [
    "pr='[X]Occupant of streetcar injured in transport accident'\n",
    "pr.replace('[X]', '[X] ')"
   ]
  },
  {
   "cell_type": "code",
   "execution_count": 25,
   "metadata": {},
   "outputs": [],
   "source": [
    "snomed_description=df_condition['concept_name'].replace({'X]': 'X] '}, regex=True).str.lower().unique()"
   ]
  },
  {
   "cell_type": "code",
   "execution_count": 30,
   "metadata": {},
   "outputs": [
    {
     "data": {
      "text/plain": [
       "149633"
      ]
     },
     "execution_count": 30,
     "metadata": {},
     "output_type": "execute_result"
    }
   ],
   "source": [
    "len(snomed_description)"
   ]
  },
  {
   "cell_type": "markdown",
   "metadata": {},
   "source": [
    "#### Check existence"
   ]
  },
  {
   "cell_type": "code",
   "execution_count": 26,
   "metadata": {},
   "outputs": [],
   "source": [
    "nlp=spacy.load('en_core_web_lg')  "
   ]
  },
  {
   "cell_type": "code",
   "execution_count": 27,
   "metadata": {},
   "outputs": [],
   "source": [
    "def get_existence(data):\n",
    "    \"\"\"Get words which exist and non exist in spaCy english model\"\"\"\n",
    "    existing_words=[] \n",
    "    non_existing_words=[]\n",
    "    for s in tqdm(data):\n",
    "        doc=nlp(s)\n",
    "        for token in doc:\n",
    "            if ((token.pos_!='SPACE') & (token.pos_!='CCONJ') & (token.pos_!='PUNCT') & (token.pos_!='NUM')) and not token.is_stop and not token.is_punct: #drop punctuation, number, spaces, stop words\n",
    "                if token.has_vector is True:\n",
    "                    existing_words.append(str(token))\n",
    "                else:\n",
    "                    non_existing_words.append(str(token))\n",
    "    return existing_words, non_existing_words\n"
   ]
  },
  {
   "cell_type": "code",
   "execution_count": 28,
   "metadata": {},
   "outputs": [
    {
     "name": "stderr",
     "output_type": "stream",
     "text": [
      "100%|██████████| 149633/149633 [19:02<00:00, 130.95it/s]\n"
     ]
    }
   ],
   "source": [
    "existing_words, non_existing_words=get_existence(snomed_description)"
   ]
  },
  {
   "cell_type": "code",
   "execution_count": 29,
   "metadata": {},
   "outputs": [
    {
     "name": "stdout",
     "output_type": "stream",
     "text": [
      "number_of_tokens: 611540, where 565796 words we found and 45744 words we didn't find\n",
      "percent of existing words: 92.5%\n",
      "Most common words from non existing ones: [('occurrent', 576), ('puerperium', 436), ('arthropathy', 424), ('/or', 386), ('nontraffic', 323), ('thrombophlebitis', 150), ('dermatosis', 148), ('malposition', 124), ('suppurative', 109), ('aplasia', 104), ('synovitis', 103), ('gonococcal', 101), ('metatarsophalangeal', 92), ('ankylosis', 89), ('tenosynovitis', 88), ('lumbosacral', 86), ('subtalar', 85), ('noncollision', 83), ('chondrocalcinosis', 82), ('extradural', 77), ('nonmotor', 76), ('adnexa', 74), ('intraepithelial', 73), ('bullosa', 73), ('trichophyton', 73), ('lymphangitis', 71), ('microdeletion', 70), ('nondependent', 68), ('megaloblastic', 67), ('ectropion', 67)]\n",
      "Most common words from existing ones: [('x', 6969), ('nos', 6476), ('neoplasm', 4789), ('left', 4745), ('right', 4681), ('poisoning', 4594), ('syndrome', 4210), ('injury', 4092), ('unspecified', 3984), ('disorder', 3756), ('fracture', 3664), ('congenital', 3629), ('open', 3568), ('finding', 3551), ('disease', 3534), ('malignant', 3368), ('infection', 3122), ('joint', 2540), ('o', 2466), ('e', 2404), ('wound', 2402), ('skin', 2350), ('acute', 2300), ('tumor', 2204), ('occurrence', 2161), ('chronic', 2063), ('overdose', 2005), ('closed', 1941), ('deficiency', 1901), ('type', 1897)]\n"
     ]
    }
   ],
   "source": [
    "dict_existing_words={}\n",
    "dict_non_existing_words={}\n",
    "dict_existing_words=Counter(existing_words)\n",
    "dict_non_existing_words=Counter(non_existing_words)\n",
    "\n",
    "print(f\"number_of_tokens: {len(existing_words)+len(non_existing_words)}, where {len(existing_words)} words we found and {len(non_existing_words)} words we didn't find\")\n",
    "print(f\"percent of existing words: {len(existing_words)/(len(existing_words)+len(non_existing_words)):.1%}\")\n",
    "print(f\"Most common words from non existing ones: {dict_non_existing_words.most_common(30)}\")\n",
    "print(f\"Most common words from existing ones: {dict_existing_words.most_common(30)}\")\n"
   ]
  },
  {
   "cell_type": "code",
   "execution_count": null,
   "metadata": {},
   "outputs": [],
   "source": []
  }
 ],
 "metadata": {
  "interpreter": {
   "hash": "949777d72b0d2535278d3dc13498b2535136f6dfe0678499012e853ee9abcab1"
  },
  "kernelspec": {
   "display_name": "Python 3.10.2 64-bit",
   "language": "python",
   "name": "python3"
  },
  "language_info": {
   "codemirror_mode": {
    "name": "ipython",
    "version": 3
   },
   "file_extension": ".py",
   "mimetype": "text/x-python",
   "name": "python",
   "nbconvert_exporter": "python",
   "pygments_lexer": "ipython3",
   "version": "3.10.2"
  },
  "orig_nbformat": 4
 },
 "nbformat": 4,
 "nbformat_minor": 2
}
