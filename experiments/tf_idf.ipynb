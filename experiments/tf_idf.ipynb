{
 "cells": [
  {
   "cell_type": "markdown",
   "metadata": {},
   "source": [
    "Implementation of TF-IDF algorithm (in chunks): \n",
    "1) create dictionary: with terms and with concepts names\n",
    "2) create correlation matrix \n",
    "3) cut matrix according to length of terms list, to have only the part where we compare terms with concepts\n",
    "4) find the most similar concept for every term\n",
    "5) create df with term, concept, concept_id and how similar are they\n"
   ]
  },
  {
   "cell_type": "code",
   "execution_count": 2,
   "metadata": {},
   "outputs": [
    {
     "name": "stderr",
     "output_type": "stream",
     "text": [
      "/usr/local/lib/python3.10/site-packages/tqdm/auto.py:22: TqdmWarning: IProgress not found. Please update jupyter and ipywidgets. See https://ipywidgets.readthedocs.io/en/stable/user_install.html\n",
      "  from .autonotebook import tqdm as notebook_tqdm\n",
      "2022-05-19 17:45:55.047628: W tensorflow/stream_executor/platform/default/dso_loader.cc:64] Could not load dynamic library 'libcudart.so.11.0'; dlerror: libcudart.so.11.0: cannot open shared object file: No such file or directory\n",
      "2022-05-19 17:45:55.048698: I tensorflow/stream_executor/cuda/cudart_stub.cc:29] Ignore above cudart dlerror if you do not have a GPU set up on your machine.\n"
     ]
    }
   ],
   "source": [
    "import numpy as np\n",
    "import pandas as pd\n",
    "from sklearn.feature_extraction.text import TfidfVectorizer\n",
    "import spacy\n",
    "nlp=spacy.load('en_core_web_lg')\n",
    "import warnings\n",
    "from pandas.core.common import SettingWithCopyWarning\n",
    "warnings.simplefilter(action=\"ignore\", category=SettingWithCopyWarning)"
   ]
  },
  {
   "cell_type": "markdown",
   "metadata": {},
   "source": [
    "## Data preporation"
   ]
  },
  {
   "cell_type": "markdown",
   "metadata": {},
   "source": [
    "##### Snomed preprocessing"
   ]
  },
  {
   "cell_type": "code",
   "execution_count": 1,
   "metadata": {},
   "outputs": [
    {
     "ename": "NameError",
     "evalue": "name 'pd' is not defined",
     "output_type": "error",
     "traceback": [
      "\u001b[0;31m---------------------------------------------------------------------------\u001b[0m",
      "\u001b[0;31mNameError\u001b[0m                                 Traceback (most recent call last)",
      "\u001b[0;32m<ipython-input-1-3bb75a70a7a1>\u001b[0m in \u001b[0;36m<module>\u001b[0;34m\u001b[0m\n\u001b[0;32m----> 1\u001b[0;31m \u001b[0mterms\u001b[0m\u001b[0;34m=\u001b[0m\u001b[0mpd\u001b[0m\u001b[0;34m.\u001b[0m\u001b[0mread_excel\u001b[0m\u001b[0;34m(\u001b[0m\u001b[0;34m'concept_evaluation_new.xlsx'\u001b[0m\u001b[0;34m)\u001b[0m\u001b[0;34m\u001b[0m\u001b[0;34m\u001b[0m\u001b[0m\n\u001b[0m",
      "\u001b[0;31mNameError\u001b[0m: name 'pd' is not defined"
     ]
    }
   ],
   "source": [
    "terms=pd.read_excel('concept_evaluation_new.xlsx')"
   ]
  },
  {
   "cell_type": "code",
   "execution_count": 16,
   "metadata": {},
   "outputs": [],
   "source": [
    "terms=terms['sourceName'].dropna(axis=0)"
   ]
  },
  {
   "cell_type": "code",
   "execution_count": 17,
   "metadata": {},
   "outputs": [
    {
     "data": {
      "text/plain": [
       "1                                                 bleed\n",
       "2                                             Bananas 1\n",
       "3                                   triglyceride mg/ dl\n",
       "4                                            heart rate\n",
       "5                                             infection\n",
       "                            ...                        \n",
       "84    dessert e.g. ice cream mousse au chocolat pudd...\n",
       "85                             TN pass chair stand test\n",
       "86                               1 rest heart frequency\n",
       "87                                 measurement left eye\n",
       "88    malignant melanoma malignant melanoma acrolent...\n",
       "Name: sourceName, Length: 83, dtype: object"
      ]
     },
     "execution_count": 17,
     "metadata": {},
     "output_type": "execute_result"
    }
   ],
   "source": [
    "terms"
   ]
  },
  {
   "cell_type": "code",
   "execution_count": 6,
   "metadata": {},
   "outputs": [],
   "source": [
    "concepts=pd.read_csv('CONCEPT.csv', on_bad_lines='skip', delimiter=\"\\t\", low_memory=False)"
   ]
  },
  {
   "cell_type": "code",
   "execution_count": 7,
   "metadata": {},
   "outputs": [],
   "source": [
    "concepts=concepts[(concepts['vocabulary_id']=='SNOMED') & (concepts['standard_concept']=='S')]\n",
    "\n"
   ]
  },
  {
   "cell_type": "code",
   "execution_count": 8,
   "metadata": {},
   "outputs": [
    {
     "data": {
      "text/html": [
       "<div>\n",
       "<style scoped>\n",
       "    .dataframe tbody tr th:only-of-type {\n",
       "        vertical-align: middle;\n",
       "    }\n",
       "\n",
       "    .dataframe tbody tr th {\n",
       "        vertical-align: top;\n",
       "    }\n",
       "\n",
       "    .dataframe thead th {\n",
       "        text-align: right;\n",
       "    }\n",
       "</style>\n",
       "<table border=\"1\" class=\"dataframe\">\n",
       "  <thead>\n",
       "    <tr style=\"text-align: right;\">\n",
       "      <th></th>\n",
       "      <th>concept_id</th>\n",
       "      <th>concept_name</th>\n",
       "      <th>domain_id</th>\n",
       "      <th>vocabulary_id</th>\n",
       "      <th>concept_class_id</th>\n",
       "      <th>standard_concept</th>\n",
       "      <th>concept_code</th>\n",
       "      <th>valid_start_date</th>\n",
       "      <th>valid_end_date</th>\n",
       "      <th>invalid_reason</th>\n",
       "    </tr>\n",
       "  </thead>\n",
       "  <tbody>\n",
       "    <tr>\n",
       "      <th>205982</th>\n",
       "      <td>4001098</td>\n",
       "      <td>Radiating chest pain</td>\n",
       "      <td>Condition</td>\n",
       "      <td>SNOMED</td>\n",
       "      <td>Clinical Finding</td>\n",
       "      <td>S</td>\n",
       "      <td>10000006</td>\n",
       "      <td>20020131</td>\n",
       "      <td>20991231</td>\n",
       "      <td>NaN</td>\n",
       "    </tr>\n",
       "    <tr>\n",
       "      <th>205983</th>\n",
       "      <td>37392117</td>\n",
       "      <td>Urine tryptophan:creatinine ratio</td>\n",
       "      <td>Measurement</td>\n",
       "      <td>SNOMED</td>\n",
       "      <td>Observable Entity</td>\n",
       "      <td>S</td>\n",
       "      <td>1000001000000103</td>\n",
       "      <td>20160401</td>\n",
       "      <td>20991231</td>\n",
       "      <td>NaN</td>\n",
       "    </tr>\n",
       "    <tr>\n",
       "      <th>205985</th>\n",
       "      <td>46139744</td>\n",
       "      <td>Nu-Hope belt left small 6460C 70cm-78cm length...</td>\n",
       "      <td>Device</td>\n",
       "      <td>SNOMED</td>\n",
       "      <td>Physical Object</td>\n",
       "      <td>S</td>\n",
       "      <td>10000011000001109</td>\n",
       "      <td>20060501</td>\n",
       "      <td>20991231</td>\n",
       "      <td>NaN</td>\n",
       "    </tr>\n",
       "    <tr>\n",
       "      <th>205991</th>\n",
       "      <td>37398455</td>\n",
       "      <td>Urine threonine:creatinine ratio</td>\n",
       "      <td>Measurement</td>\n",
       "      <td>SNOMED</td>\n",
       "      <td>Observable Entity</td>\n",
       "      <td>S</td>\n",
       "      <td>1000011000000101</td>\n",
       "      <td>20160401</td>\n",
       "      <td>20991231</td>\n",
       "      <td>NaN</td>\n",
       "    </tr>\n",
       "    <tr>\n",
       "      <th>205992</th>\n",
       "      <td>46004596</td>\n",
       "      <td>Nu-Hope belt right large 6457A 90cm-100cm leng...</td>\n",
       "      <td>Device</td>\n",
       "      <td>SNOMED</td>\n",
       "      <td>Physical Object</td>\n",
       "      <td>S</td>\n",
       "      <td>10000111000001105</td>\n",
       "      <td>20060501</td>\n",
       "      <td>20991231</td>\n",
       "      <td>NaN</td>\n",
       "    </tr>\n",
       "    <tr>\n",
       "      <th>...</th>\n",
       "      <td>...</td>\n",
       "      <td>...</td>\n",
       "      <td>...</td>\n",
       "      <td>...</td>\n",
       "      <td>...</td>\n",
       "      <td>...</td>\n",
       "      <td>...</td>\n",
       "      <td>...</td>\n",
       "      <td>...</td>\n",
       "      <td>...</td>\n",
       "    </tr>\n",
       "    <tr>\n",
       "      <th>1240998</th>\n",
       "      <td>46004594</td>\n",
       "      <td>Nu-Hope belt right large 6457 90cm-100cm lengt...</td>\n",
       "      <td>Device</td>\n",
       "      <td>SNOMED</td>\n",
       "      <td>Physical Object</td>\n",
       "      <td>S</td>\n",
       "      <td>9999711000001105</td>\n",
       "      <td>20060501</td>\n",
       "      <td>20991231</td>\n",
       "      <td>NaN</td>\n",
       "    </tr>\n",
       "    <tr>\n",
       "      <th>1241001</th>\n",
       "      <td>37398453</td>\n",
       "      <td>Urine valine:creatinine ratio</td>\n",
       "      <td>Measurement</td>\n",
       "      <td>SNOMED</td>\n",
       "      <td>Observable Entity</td>\n",
       "      <td>S</td>\n",
       "      <td>999981000000107</td>\n",
       "      <td>20160401</td>\n",
       "      <td>20991231</td>\n",
       "      <td>NaN</td>\n",
       "    </tr>\n",
       "    <tr>\n",
       "      <th>1241002</th>\n",
       "      <td>46139743</td>\n",
       "      <td>Nu-Hope belt right large 6457 90cm-100cm lengt...</td>\n",
       "      <td>Device</td>\n",
       "      <td>SNOMED</td>\n",
       "      <td>Physical Object</td>\n",
       "      <td>S</td>\n",
       "      <td>9999811000001102</td>\n",
       "      <td>20060501</td>\n",
       "      <td>20991231</td>\n",
       "      <td>NaN</td>\n",
       "    </tr>\n",
       "    <tr>\n",
       "      <th>1241005</th>\n",
       "      <td>37398454</td>\n",
       "      <td>Urine tyrosine:creatinine ratio</td>\n",
       "      <td>Measurement</td>\n",
       "      <td>SNOMED</td>\n",
       "      <td>Observable Entity</td>\n",
       "      <td>S</td>\n",
       "      <td>999991000000109</td>\n",
       "      <td>20160401</td>\n",
       "      <td>20991231</td>\n",
       "      <td>NaN</td>\n",
       "    </tr>\n",
       "    <tr>\n",
       "      <th>1241006</th>\n",
       "      <td>46004595</td>\n",
       "      <td>Nu-Hope belt left small 6460C 70cm-78cm length...</td>\n",
       "      <td>Device</td>\n",
       "      <td>SNOMED</td>\n",
       "      <td>Physical Object</td>\n",
       "      <td>S</td>\n",
       "      <td>9999911000001107</td>\n",
       "      <td>20060501</td>\n",
       "      <td>20991231</td>\n",
       "      <td>NaN</td>\n",
       "    </tr>\n",
       "  </tbody>\n",
       "</table>\n",
       "<p>540590 rows × 10 columns</p>\n",
       "</div>"
      ],
      "text/plain": [
       "         concept_id                                       concept_name  \\\n",
       "205982      4001098                               Radiating chest pain   \n",
       "205983     37392117                  Urine tryptophan:creatinine ratio   \n",
       "205985     46139744  Nu-Hope belt left small 6460C 70cm-78cm length...   \n",
       "205991     37398455                   Urine threonine:creatinine ratio   \n",
       "205992     46004596  Nu-Hope belt right large 6457A 90cm-100cm leng...   \n",
       "...             ...                                                ...   \n",
       "1240998    46004594  Nu-Hope belt right large 6457 90cm-100cm lengt...   \n",
       "1241001    37398453                      Urine valine:creatinine ratio   \n",
       "1241002    46139743  Nu-Hope belt right large 6457 90cm-100cm lengt...   \n",
       "1241005    37398454                    Urine tyrosine:creatinine ratio   \n",
       "1241006    46004595  Nu-Hope belt left small 6460C 70cm-78cm length...   \n",
       "\n",
       "           domain_id vocabulary_id   concept_class_id standard_concept  \\\n",
       "205982     Condition        SNOMED   Clinical Finding                S   \n",
       "205983   Measurement        SNOMED  Observable Entity                S   \n",
       "205985        Device        SNOMED    Physical Object                S   \n",
       "205991   Measurement        SNOMED  Observable Entity                S   \n",
       "205992        Device        SNOMED    Physical Object                S   \n",
       "...              ...           ...                ...              ...   \n",
       "1240998       Device        SNOMED    Physical Object                S   \n",
       "1241001  Measurement        SNOMED  Observable Entity                S   \n",
       "1241002       Device        SNOMED    Physical Object                S   \n",
       "1241005  Measurement        SNOMED  Observable Entity                S   \n",
       "1241006       Device        SNOMED    Physical Object                S   \n",
       "\n",
       "              concept_code  valid_start_date  valid_end_date invalid_reason  \n",
       "205982            10000006          20020131        20991231            NaN  \n",
       "205983    1000001000000103          20160401        20991231            NaN  \n",
       "205985   10000011000001109          20060501        20991231            NaN  \n",
       "205991    1000011000000101          20160401        20991231            NaN  \n",
       "205992   10000111000001105          20060501        20991231            NaN  \n",
       "...                    ...               ...             ...            ...  \n",
       "1240998   9999711000001105          20060501        20991231            NaN  \n",
       "1241001    999981000000107          20160401        20991231            NaN  \n",
       "1241002   9999811000001102          20060501        20991231            NaN  \n",
       "1241005    999991000000109          20160401        20991231            NaN  \n",
       "1241006   9999911000001107          20060501        20991231            NaN  \n",
       "\n",
       "[540590 rows x 10 columns]"
      ]
     },
     "execution_count": 8,
     "metadata": {},
     "output_type": "execute_result"
    }
   ],
   "source": [
    "concepts"
   ]
  },
  {
   "cell_type": "markdown",
   "metadata": {},
   "source": [
    "##### HCHS preprocessing"
   ]
  },
  {
   "cell_type": "code",
   "execution_count": 18,
   "metadata": {},
   "outputs": [],
   "source": [
    "terms=terms.str.lower().tolist()"
   ]
  },
  {
   "cell_type": "code",
   "execution_count": 19,
   "metadata": {},
   "outputs": [],
   "source": [
    "#TODO add lemmatization to main code file creation \n",
    "ready=[]\n",
    "for sentence in terms:\n",
    "    token_list=[]\n",
    "    doc=nlp(sentence)\n",
    "    token_list=[token.lemma_ for token in doc]\n",
    "    text = \" \".join(token_list)\n",
    "    ready.append(text)"
   ]
  },
  {
   "cell_type": "code",
   "execution_count": 20,
   "metadata": {},
   "outputs": [],
   "source": [
    "terms=ready"
   ]
  },
  {
   "cell_type": "markdown",
   "metadata": {},
   "source": [
    "##### Spacy preprocessing"
   ]
  },
  {
   "cell_type": "code",
   "execution_count": 24,
   "metadata": {},
   "outputs": [],
   "source": [
    "nlp.Defaults.stop_words.remove('no')\n",
    "nlp.Defaults.stop_words.remove('not')\n",
    "nlp.Defaults.stop_words.remove('none')\n",
    "nlp.Defaults.stop_words.remove('noone')\n",
    "nlp.Defaults.stop_words.remove('back')"
   ]
  },
  {
   "cell_type": "markdown",
   "metadata": {},
   "source": [
    "## TF-IDF part"
   ]
  },
  {
   "cell_type": "code",
   "execution_count": 26,
   "metadata": {},
   "outputs": [],
   "source": [
    "def matrix_creation(data):\n",
    "    tfidf=TfidfVectorizer()\n",
    "    vecs=tfidf.fit_transform(data)\n",
    "    corr_matrix = ((vecs * vecs.T).A)\n",
    "    return corr_matrix\n",
    "\n",
    "def similarity_matrix(matrix, dict):\n",
    "    length=len(dict['terms'])\n",
    "    return matrix[:length , length:]#the part where we compare terms with concepts\n",
    "\n",
    "def similar_concept(matrix, dict):\n",
    "    concepts_list=[]\n",
    "    sim_list=[]\n",
    "    concept_id_list=[]\n",
    "    for i in range(matrix.shape[0]):\n",
    "        concepts_list.append(dict['concepts'][np.argmax(matrix[i])])#TODO TOP3 \n",
    "        sim_list.append(matrix[i].max())\n",
    "        concept_id_list.append(np.argmax(matrix[i]))  \n",
    "    return concepts_list, sim_list, concept_id_list"
   ]
  },
  {
   "cell_type": "code",
   "execution_count": 27,
   "metadata": {},
   "outputs": [
    {
     "name": "stdout",
     "output_type": "stream",
     "text": [
      "                                                 Term  \\\n",
      "0                                               bleed   \n",
      "1                                           bananas 1   \n",
      "2                                 triglyceride mg/ dl   \n",
      "3                                          heart rate   \n",
      "4                                           infection   \n",
      "..                                                ...   \n",
      "78  dessert e.g. ice cream mousse au chocolat pudd...   \n",
      "79                           tn pass chair stand test   \n",
      "80                             1 rest heart frequency   \n",
      "81                              measurement leave eye   \n",
      "82  malignant melanoma malignant melanoma acrolent...   \n",
      "\n",
      "                           Concept  Concept_id  Similarity  \n",
      "0                            bleed    437312.0    1.000000  \n",
      "1                              NaN         NaN    0.000000  \n",
      "2                     triglyceride  45957223.0    0.553501  \n",
      "3                       heart rate   4239408.0    1.000000  \n",
      "4                 infection status   4232893.0    0.882542  \n",
      "..                             ...         ...         ...  \n",
      "78                         dessert   4039222.0    0.501527  \n",
      "79  thirty second chair stand test  42872744.0    0.557312  \n",
      "80                 rest heart rate  40481601.0    0.619797  \n",
      "81                       eye leave  37311803.0    0.897357  \n",
      "82              malignant melanoma   4049499.0    0.840202  \n",
      "\n",
      "[83 rows x 4 columns]\n"
     ]
    }
   ],
   "source": [
    "chunk_size=1000\n",
    "df=pd.DataFrame()\n",
    "df['Term']=terms\n",
    "df['Concept']= np.nan\n",
    "df['Concept_id']=np.nan\n",
    "df['Similarity']=[0] * len(terms)\n",
    "\n",
    "for chunk in np.array_split(concepts, chunk_size):\n",
    "    chunk['concept_name']=chunk['concept_name'].replace({'X]': 'X] '}, regex=True).str.lower()#TODO put it to preprocessing part\n",
    "    chunk = chunk[['concept_id', 'concept_name']]\n",
    "    chunk_id=chunk['concept_id'].tolist()\n",
    "    chunk_concept= list(map(str, chunk['concept_name']))\n",
    "    ready=[]\n",
    "    for sentence in chunk_concept:\n",
    "        token_list=[]\n",
    "        doc=nlp(sentence)\n",
    "        token_list=[token.lemma_ for token in doc if not token.is_stop and not token.is_punct and token.text!='doctor']#TODO put 'doctor' into stop word list \n",
    "        text = \" \".join(token_list)\n",
    "        ready.append(text)\n",
    "    chunk_concept=ready\n",
    "    a={'terms': terms, 'concepts': chunk_concept} \n",
    "    document_list=a['terms'] + a['concepts']\n",
    "    Correletaion_matrix=matrix_creation(document_list)\n",
    "    Similarity_matrix=similarity_matrix(Correletaion_matrix, a)\n",
    "    Concept, sim, concept_id= similar_concept(Similarity_matrix, a)\n",
    "    p=[]\n",
    "    for i in range(len(df['Similarity'])):\n",
    "        if df['Similarity'][i]<sim[i]:\n",
    "            df['Similarity'][i]=sim[i]\n",
    "            df['Concept'][i]=Concept[i]\n",
    "            df['Concept_id'][i]=chunk_id[concept_id[i]]\n",
    "            \n",
    "print(df)"
   ]
  },
  {
   "cell_type": "code",
   "execution_count": 28,
   "metadata": {},
   "outputs": [],
   "source": [
    "df.to_csv('result_1.csv')"
   ]
  }
 ],
 "metadata": {
  "interpreter": {
   "hash": "949777d72b0d2535278d3dc13498b2535136f6dfe0678499012e853ee9abcab1"
  },
  "kernelspec": {
   "display_name": "Python 3",
   "language": "python",
   "name": "python3"
  },
  "language_info": {
   "codemirror_mode": {
    "name": "ipython",
    "version": 3
   },
   "file_extension": ".py",
   "mimetype": "text/x-python",
   "name": "python",
   "nbconvert_exporter": "python",
   "pygments_lexer": "ipython3",
   "version": "3.10.2"
  }
 },
 "nbformat": 4,
 "nbformat_minor": 4
}
