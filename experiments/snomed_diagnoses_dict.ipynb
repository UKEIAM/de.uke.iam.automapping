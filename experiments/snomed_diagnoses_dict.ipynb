{
 "cells": [
  {
   "cell_type": "code",
   "execution_count": 3,
   "metadata": {},
   "outputs": [],
   "source": [
    "import pandas as pd"
   ]
  },
  {
   "cell_type": "markdown",
   "metadata": {},
   "source": [
    "### Attempts to translate diagnosis 1\n",
    "We have a german-english vocabulary with medical terms. The idea is to check how many vocabulary words exist in snomed diognosis"
   ]
  },
  {
   "cell_type": "code",
   "execution_count": 7,
   "metadata": {},
   "outputs": [
    {
     "name": "stderr",
     "output_type": "stream",
     "text": [
      "/tmp/ipykernel_6254/692325459.py:1: DtypeWarning: Columns (6) have mixed types. Specify dtype option on import or set low_memory=False.\n",
      "  df=pd.read_csv('220321_SNOMED_Clinical_finding_filtered.csv')#just diagnosis from snomed\n"
     ]
    }
   ],
   "source": [
    "df=pd.read_csv('220321_SNOMED_Clinical_finding_filtered.csv')#just diagnosis from snomed"
   ]
  },
  {
   "cell_type": "code",
   "execution_count": 19,
   "metadata": {},
   "outputs": [
    {
     "data": {
      "text/html": [
       "<div>\n",
       "<style scoped>\n",
       "    .dataframe tbody tr th:only-of-type {\n",
       "        vertical-align: middle;\n",
       "    }\n",
       "\n",
       "    .dataframe tbody tr th {\n",
       "        vertical-align: top;\n",
       "    }\n",
       "\n",
       "    .dataframe thead th {\n",
       "        text-align: right;\n",
       "    }\n",
       "</style>\n",
       "<table border=\"1\" class=\"dataframe\">\n",
       "  <thead>\n",
       "    <tr style=\"text-align: right;\">\n",
       "      <th></th>\n",
       "      <th>concept_id</th>\n",
       "      <th>concept_name</th>\n",
       "      <th>domain_id</th>\n",
       "      <th>vocabulary_id</th>\n",
       "      <th>concept_class_id</th>\n",
       "      <th>standard_concept</th>\n",
       "      <th>concept_code</th>\n",
       "      <th>valid_start_date</th>\n",
       "      <th>valid_end_date</th>\n",
       "      <th>invalid_reason</th>\n",
       "    </tr>\n",
       "  </thead>\n",
       "  <tbody>\n",
       "    <tr>\n",
       "      <th>0</th>\n",
       "      <td>9176</td>\n",
       "      <td>Patient status determination, deceased</td>\n",
       "      <td>Condition</td>\n",
       "      <td>SNOMED</td>\n",
       "      <td>Clinical Finding</td>\n",
       "      <td>S</td>\n",
       "      <td>18632008</td>\n",
       "      <td>2002-01-31</td>\n",
       "      <td>2099-12-31</td>\n",
       "      <td>NaN</td>\n",
       "    </tr>\n",
       "    <tr>\n",
       "      <th>1</th>\n",
       "      <td>22274</td>\n",
       "      <td>Neoplasm of uncertain behavior of larynx</td>\n",
       "      <td>Condition</td>\n",
       "      <td>SNOMED</td>\n",
       "      <td>Clinical Finding</td>\n",
       "      <td>S</td>\n",
       "      <td>94899001</td>\n",
       "      <td>2002-01-31</td>\n",
       "      <td>2099-12-31</td>\n",
       "      <td>NaN</td>\n",
       "    </tr>\n",
       "    <tr>\n",
       "      <th>2</th>\n",
       "      <td>22281</td>\n",
       "      <td>Sickle cell-hemoglobin SS disease</td>\n",
       "      <td>Condition</td>\n",
       "      <td>SNOMED</td>\n",
       "      <td>Clinical Finding</td>\n",
       "      <td>S</td>\n",
       "      <td>127040003</td>\n",
       "      <td>2002-01-31</td>\n",
       "      <td>2099-12-31</td>\n",
       "      <td>NaN</td>\n",
       "    </tr>\n",
       "    <tr>\n",
       "      <th>3</th>\n",
       "      <td>22288</td>\n",
       "      <td>Hereditary elliptocytosis</td>\n",
       "      <td>Condition</td>\n",
       "      <td>SNOMED</td>\n",
       "      <td>Clinical Finding</td>\n",
       "      <td>S</td>\n",
       "      <td>191169008</td>\n",
       "      <td>2002-01-31</td>\n",
       "      <td>2099-12-31</td>\n",
       "      <td>NaN</td>\n",
       "    </tr>\n",
       "    <tr>\n",
       "      <th>4</th>\n",
       "      <td>22340</td>\n",
       "      <td>Esophageal varices without bleeding</td>\n",
       "      <td>Condition</td>\n",
       "      <td>SNOMED</td>\n",
       "      <td>Clinical Finding</td>\n",
       "      <td>S</td>\n",
       "      <td>14223005</td>\n",
       "      <td>2002-01-31</td>\n",
       "      <td>2099-12-31</td>\n",
       "      <td>NaN</td>\n",
       "    </tr>\n",
       "    <tr>\n",
       "      <th>5</th>\n",
       "      <td>22350</td>\n",
       "      <td>Edema of larynx</td>\n",
       "      <td>Condition</td>\n",
       "      <td>SNOMED</td>\n",
       "      <td>Clinical Finding</td>\n",
       "      <td>S</td>\n",
       "      <td>51599000</td>\n",
       "      <td>2002-01-31</td>\n",
       "      <td>2099-12-31</td>\n",
       "      <td>NaN</td>\n",
       "    </tr>\n",
       "    <tr>\n",
       "      <th>6</th>\n",
       "      <td>22426</td>\n",
       "      <td>Congenital macrostomia</td>\n",
       "      <td>Condition</td>\n",
       "      <td>SNOMED</td>\n",
       "      <td>Clinical Finding</td>\n",
       "      <td>S</td>\n",
       "      <td>40159009</td>\n",
       "      <td>2002-01-31</td>\n",
       "      <td>2099-12-31</td>\n",
       "      <td>NaN</td>\n",
       "    </tr>\n",
       "    <tr>\n",
       "      <th>7</th>\n",
       "      <td>22492</td>\n",
       "      <td>Foreign body in pharynx</td>\n",
       "      <td>Condition</td>\n",
       "      <td>SNOMED</td>\n",
       "      <td>Clinical Finding</td>\n",
       "      <td>S</td>\n",
       "      <td>25479004</td>\n",
       "      <td>2002-01-31</td>\n",
       "      <td>2099-12-31</td>\n",
       "      <td>NaN</td>\n",
       "    </tr>\n",
       "    <tr>\n",
       "      <th>8</th>\n",
       "      <td>22557</td>\n",
       "      <td>Malignant tumor of submandibular gland</td>\n",
       "      <td>Condition</td>\n",
       "      <td>SNOMED</td>\n",
       "      <td>Clinical Finding</td>\n",
       "      <td>S</td>\n",
       "      <td>363380002</td>\n",
       "      <td>2002-01-31</td>\n",
       "      <td>2099-12-31</td>\n",
       "      <td>NaN</td>\n",
       "    </tr>\n",
       "    <tr>\n",
       "      <th>9</th>\n",
       "      <td>22665</td>\n",
       "      <td>Chronic peptic ulcer with hemorrhage AND with ...</td>\n",
       "      <td>Condition</td>\n",
       "      <td>SNOMED</td>\n",
       "      <td>Clinical Finding</td>\n",
       "      <td>S</td>\n",
       "      <td>55746001</td>\n",
       "      <td>2002-01-31</td>\n",
       "      <td>2099-12-31</td>\n",
       "      <td>NaN</td>\n",
       "    </tr>\n",
       "  </tbody>\n",
       "</table>\n",
       "</div>"
      ],
      "text/plain": [
       "   concept_id                                       concept_name  domain_id  \\\n",
       "0        9176             Patient status determination, deceased  Condition   \n",
       "1       22274           Neoplasm of uncertain behavior of larynx  Condition   \n",
       "2       22281                  Sickle cell-hemoglobin SS disease  Condition   \n",
       "3       22288                          Hereditary elliptocytosis  Condition   \n",
       "4       22340                Esophageal varices without bleeding  Condition   \n",
       "5       22350                                    Edema of larynx  Condition   \n",
       "6       22426                             Congenital macrostomia  Condition   \n",
       "7       22492                            Foreign body in pharynx  Condition   \n",
       "8       22557             Malignant tumor of submandibular gland  Condition   \n",
       "9       22665  Chronic peptic ulcer with hemorrhage AND with ...  Condition   \n",
       "\n",
       "  vocabulary_id  concept_class_id standard_concept concept_code  \\\n",
       "0        SNOMED  Clinical Finding                S     18632008   \n",
       "1        SNOMED  Clinical Finding                S     94899001   \n",
       "2        SNOMED  Clinical Finding                S    127040003   \n",
       "3        SNOMED  Clinical Finding                S    191169008   \n",
       "4        SNOMED  Clinical Finding                S     14223005   \n",
       "5        SNOMED  Clinical Finding                S     51599000   \n",
       "6        SNOMED  Clinical Finding                S     40159009   \n",
       "7        SNOMED  Clinical Finding                S     25479004   \n",
       "8        SNOMED  Clinical Finding                S    363380002   \n",
       "9        SNOMED  Clinical Finding                S     55746001   \n",
       "\n",
       "  valid_start_date valid_end_date  invalid_reason  \n",
       "0       2002-01-31     2099-12-31             NaN  \n",
       "1       2002-01-31     2099-12-31             NaN  \n",
       "2       2002-01-31     2099-12-31             NaN  \n",
       "3       2002-01-31     2099-12-31             NaN  \n",
       "4       2002-01-31     2099-12-31             NaN  \n",
       "5       2002-01-31     2099-12-31             NaN  \n",
       "6       2002-01-31     2099-12-31             NaN  \n",
       "7       2002-01-31     2099-12-31             NaN  \n",
       "8       2002-01-31     2099-12-31             NaN  \n",
       "9       2002-01-31     2099-12-31             NaN  "
      ]
     },
     "execution_count": 19,
     "metadata": {},
     "output_type": "execute_result"
    }
   ],
   "source": [
    "df.head(10)"
   ]
  },
  {
   "cell_type": "code",
   "execution_count": 4,
   "metadata": {},
   "outputs": [],
   "source": [
    "df_translation=pd.read_csv('20220308_translations_CG.tsv', delimiter=\"\\t\", names=['German', 'English'])#german-english vocabulary with medical terms"
   ]
  },
  {
   "cell_type": "code",
   "execution_count": 5,
   "metadata": {},
   "outputs": [
    {
     "data": {
      "text/html": [
       "<div>\n",
       "<style scoped>\n",
       "    .dataframe tbody tr th:only-of-type {\n",
       "        vertical-align: middle;\n",
       "    }\n",
       "\n",
       "    .dataframe tbody tr th {\n",
       "        vertical-align: top;\n",
       "    }\n",
       "\n",
       "    .dataframe thead th {\n",
       "        text-align: right;\n",
       "    }\n",
       "</style>\n",
       "<table border=\"1\" class=\"dataframe\">\n",
       "  <thead>\n",
       "    <tr style=\"text-align: right;\">\n",
       "      <th></th>\n",
       "      <th>German</th>\n",
       "      <th>English</th>\n",
       "    </tr>\n",
       "  </thead>\n",
       "  <tbody>\n",
       "    <tr>\n",
       "      <th>0</th>\n",
       "      <td>Abdomen</td>\n",
       "      <td>abdomen</td>\n",
       "    </tr>\n",
       "    <tr>\n",
       "      <th>1</th>\n",
       "      <td>abdominal</td>\n",
       "      <td>abdominal</td>\n",
       "    </tr>\n",
       "    <tr>\n",
       "      <th>2</th>\n",
       "      <td>aberrant</td>\n",
       "      <td>aberrant</td>\n",
       "    </tr>\n",
       "    <tr>\n",
       "      <th>3</th>\n",
       "      <td>abnorm(al)</td>\n",
       "      <td>abnormal</td>\n",
       "    </tr>\n",
       "    <tr>\n",
       "      <th>4</th>\n",
       "      <td>Abort(us)</td>\n",
       "      <td>abortion</td>\n",
       "    </tr>\n",
       "  </tbody>\n",
       "</table>\n",
       "</div>"
      ],
      "text/plain": [
       "       German    English\n",
       "0     Abdomen    abdomen\n",
       "1   abdominal  abdominal\n",
       "2    aberrant   aberrant\n",
       "3  abnorm(al)   abnormal\n",
       "4   Abort(us)   abortion"
      ]
     },
     "execution_count": 5,
     "metadata": {},
     "output_type": "execute_result"
    }
   ],
   "source": [
    "df_translation.head(5)"
   ]
  },
  {
   "cell_type": "code",
   "execution_count": 6,
   "metadata": {},
   "outputs": [
    {
     "data": {
      "text/plain": [
       "1819"
      ]
     },
     "execution_count": 6,
     "metadata": {},
     "output_type": "execute_result"
    }
   ],
   "source": [
    "len(df_translation)"
   ]
  },
  {
   "cell_type": "code",
   "execution_count": 8,
   "metadata": {},
   "outputs": [
    {
     "data": {
      "text/plain": [
       "0                    Patient status determination, deceased\n",
       "1                  Neoplasm of uncertain behavior of larynx\n",
       "2                         Sickle cell-hemoglobin SS disease\n",
       "3                                 Hereditary elliptocytosis\n",
       "4                       Esophageal varices without bleeding\n",
       "                                ...                        \n",
       "112877    Sickle cell screening, unsuitable sample: more...\n",
       "112878                FootSkin scale risk level 4 high risk\n",
       "112879                       Injury following substance use\n",
       "112880                          Injury following heroin use\n",
       "112881     Injury following GHB (gamma hydroxybutyrate) use\n",
       "Name: concept_name, Length: 112882, dtype: object"
      ]
     },
     "execution_count": 8,
     "metadata": {},
     "output_type": "execute_result"
    }
   ],
   "source": [
    "df['concept_name']"
   ]
  },
  {
   "cell_type": "code",
   "execution_count": 7,
   "metadata": {},
   "outputs": [],
   "source": [
    "disease_list=df['concept_name'].to_list()"
   ]
  },
  {
   "cell_type": "code",
   "execution_count": null,
   "metadata": {},
   "outputs": [],
   "source": []
  },
  {
   "cell_type": "code",
   "execution_count": 13,
   "metadata": {},
   "outputs": [],
   "source": [
    "#dictionary {sentence: word1, word2, word3: translation1, translation2, translation3}\n",
    "translation={}\n",
    "translation['snomed sentence']=[]\n",
    "translation['word from vocabulary']=[]\n",
    "translation['german translation for that word']=[]\n",
    "for y in disease_list: \n",
    "    translation['snomed sentence'].append(y)\n",
    "    words=[]\n",
    "    german_words=[]\n",
    "    for ind in range(len(df_translation)):\n",
    "        i=df_translation['English'][ind]\n",
    "        p=df_translation['German'][ind]\n",
    "        if i in y:\n",
    "            words.append(i)\n",
    "            german_words.append(p)\n",
    "    if len(words)==0:\n",
    "        words=None\n",
    "        german_words=None       \n",
    "    translation['german translation for that word'].append(german_words)\n",
    "    translation['word from vocabulary'].append(words)\n"
   ]
  },
  {
   "cell_type": "code",
   "execution_count": 15,
   "metadata": {},
   "outputs": [],
   "source": [
    "df_tr=pd.DataFrame(translation)"
   ]
  },
  {
   "cell_type": "code",
   "execution_count": 1,
   "metadata": {},
   "outputs": [
    {
     "ename": "NameError",
     "evalue": "name 'df_tr' is not defined",
     "output_type": "error",
     "traceback": [
      "\u001b[0;31m---------------------------------------------------------------------------\u001b[0m",
      "\u001b[0;31mNameError\u001b[0m                                 Traceback (most recent call last)",
      "\u001b[1;32m/workspaces/de.uke.iam.automapping/experiments/snomed_diagnoses_dict.ipynb Cell 10'\u001b[0m in \u001b[0;36m<cell line: 1>\u001b[0;34m()\u001b[0m\n\u001b[0;32m----> <a href='vscode-notebook-cell://dev-container%2B633a5c55736572735c4e757368615c4465736b746f705cd0a0d090d091d09ed0a2d0905c4f4d4f505f484348535c64652e756b652e69616d2e6175746f6d617070696e67/workspaces/de.uke.iam.automapping/experiments/snomed_diagnoses_dict.ipynb#ch0000009vscode-remote?line=0'>1</a>\u001b[0m df_tr\u001b[39m.\u001b[39mto_csv(\u001b[39m'\u001b[39m\u001b[39mtranslation_from_snomed_diagnoses.csv\u001b[39m\u001b[39m'\u001b[39m)\n",
      "\u001b[0;31mNameError\u001b[0m: name 'df_tr' is not defined"
     ]
    }
   ],
   "source": [
    "df_tr.to_csv('translation_from_snomed_diagnoses.csv')"
   ]
  },
  {
   "cell_type": "code",
   "execution_count": 23,
   "metadata": {},
   "outputs": [
    {
     "data": {
      "text/html": [
       "<div>\n",
       "<style scoped>\n",
       "    .dataframe tbody tr th:only-of-type {\n",
       "        vertical-align: middle;\n",
       "    }\n",
       "\n",
       "    .dataframe tbody tr th {\n",
       "        vertical-align: top;\n",
       "    }\n",
       "\n",
       "    .dataframe thead th {\n",
       "        text-align: right;\n",
       "    }\n",
       "</style>\n",
       "<table border=\"1\" class=\"dataframe\">\n",
       "  <thead>\n",
       "    <tr style=\"text-align: right;\">\n",
       "      <th></th>\n",
       "      <th>snomed sentence</th>\n",
       "      <th>word from vocabulary</th>\n",
       "      <th>german translation for that word</th>\n",
       "    </tr>\n",
       "  </thead>\n",
       "  <tbody>\n",
       "    <tr>\n",
       "      <th>0</th>\n",
       "      <td>Patient status determination, deceased</td>\n",
       "      <td>[status]</td>\n",
       "      <td>[Status]</td>\n",
       "    </tr>\n",
       "    <tr>\n",
       "      <th>1</th>\n",
       "      <td>Neoplasm of uncertain behavior of larynx</td>\n",
       "      <td>None</td>\n",
       "      <td>None</td>\n",
       "    </tr>\n",
       "    <tr>\n",
       "      <th>2</th>\n",
       "      <td>Sickle cell-hemoglobin SS disease</td>\n",
       "      <td>None</td>\n",
       "      <td>None</td>\n",
       "    </tr>\n",
       "    <tr>\n",
       "      <th>3</th>\n",
       "      <td>Hereditary elliptocytosis</td>\n",
       "      <td>None</td>\n",
       "      <td>None</td>\n",
       "    </tr>\n",
       "    <tr>\n",
       "      <th>4</th>\n",
       "      <td>Esophageal varices without bleeding</td>\n",
       "      <td>None</td>\n",
       "      <td>None</td>\n",
       "    </tr>\n",
       "    <tr>\n",
       "      <th>...</th>\n",
       "      <td>...</td>\n",
       "      <td>...</td>\n",
       "      <td>...</td>\n",
       "    </tr>\n",
       "    <tr>\n",
       "      <th>112877</th>\n",
       "      <td>Sickle cell screening, unsuitable sample: more...</td>\n",
       "      <td>[anal, analysis, transit]</td>\n",
       "      <td>[anal, Analyse, Transit]</td>\n",
       "    </tr>\n",
       "    <tr>\n",
       "      <th>112878</th>\n",
       "      <td>FootSkin scale risk level 4 high risk</td>\n",
       "      <td>None</td>\n",
       "      <td>None</td>\n",
       "    </tr>\n",
       "    <tr>\n",
       "      <th>112879</th>\n",
       "      <td>Injury following substance use</td>\n",
       "      <td>[substance]</td>\n",
       "      <td>[Substanz]</td>\n",
       "    </tr>\n",
       "    <tr>\n",
       "      <th>112880</th>\n",
       "      <td>Injury following heroin use</td>\n",
       "      <td>None</td>\n",
       "      <td>None</td>\n",
       "    </tr>\n",
       "    <tr>\n",
       "      <th>112881</th>\n",
       "      <td>Injury following GHB (gamma hydroxybutyrate) use</td>\n",
       "      <td>None</td>\n",
       "      <td>None</td>\n",
       "    </tr>\n",
       "  </tbody>\n",
       "</table>\n",
       "<p>112882 rows × 3 columns</p>\n",
       "</div>"
      ],
      "text/plain": [
       "                                          snomed sentence  \\\n",
       "0                  Patient status determination, deceased   \n",
       "1                Neoplasm of uncertain behavior of larynx   \n",
       "2                       Sickle cell-hemoglobin SS disease   \n",
       "3                               Hereditary elliptocytosis   \n",
       "4                     Esophageal varices without bleeding   \n",
       "...                                                   ...   \n",
       "112877  Sickle cell screening, unsuitable sample: more...   \n",
       "112878              FootSkin scale risk level 4 high risk   \n",
       "112879                     Injury following substance use   \n",
       "112880                        Injury following heroin use   \n",
       "112881   Injury following GHB (gamma hydroxybutyrate) use   \n",
       "\n",
       "             word from vocabulary german translation for that word  \n",
       "0                        [status]                         [Status]  \n",
       "1                            None                             None  \n",
       "2                            None                             None  \n",
       "3                            None                             None  \n",
       "4                            None                             None  \n",
       "...                           ...                              ...  \n",
       "112877  [anal, analysis, transit]         [anal, Analyse, Transit]  \n",
       "112878                       None                             None  \n",
       "112879                [substance]                       [Substanz]  \n",
       "112880                       None                             None  \n",
       "112881                       None                             None  \n",
       "\n",
       "[112882 rows x 3 columns]"
      ]
     },
     "execution_count": 23,
     "metadata": {},
     "output_type": "execute_result"
    }
   ],
   "source": [
    "df_tr"
   ]
  },
  {
   "cell_type": "code",
   "execution_count": 29,
   "metadata": {},
   "outputs": [
    {
     "data": {
      "text/plain": [
       "39.84603391151823"
      ]
     },
     "execution_count": 29,
     "metadata": {},
     "output_type": "execute_result"
    }
   ],
   "source": [
    "len(df_tr[pd.isnull(df_tr['word from vocabulary'])])/len(df_tr)*100 #percantage of empty lists "
   ]
  }
 ],
 "metadata": {
  "interpreter": {
   "hash": "949777d72b0d2535278d3dc13498b2535136f6dfe0678499012e853ee9abcab1"
  },
  "kernelspec": {
   "display_name": "Python 3.10.2 64-bit",
   "language": "python",
   "name": "python3"
  },
  "language_info": {
   "codemirror_mode": {
    "name": "ipython",
    "version": 3
   },
   "file_extension": ".py",
   "mimetype": "text/x-python",
   "name": "python",
   "nbconvert_exporter": "python",
   "pygments_lexer": "ipython3",
   "version": "3.10.2"
  },
  "orig_nbformat": 4
 },
 "nbformat": 4,
 "nbformat_minor": 2
}
