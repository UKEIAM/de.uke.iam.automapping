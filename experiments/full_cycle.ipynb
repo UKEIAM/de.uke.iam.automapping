{
 "cells": [
  {
   "cell_type": "markdown",
   "metadata": {},
   "source": [
    "### Full algorithm\n",
    "HCHS_data(cleaning) -> replace abbrviations -> translation with Hugging Face -> rid of unnecessory information"
   ]
  },
  {
   "cell_type": "markdown",
   "metadata": {},
   "source": [
    "#### HCHS data"
   ]
  },
  {
   "cell_type": "code",
   "execution_count": 1,
   "metadata": {},
   "outputs": [
    {
     "name": "stderr",
     "output_type": "stream",
     "text": [
      "/usr/local/lib/python3.10/site-packages/tqdm/auto.py:22: TqdmWarning: IProgress not found. Please update jupyter and ipywidgets. See https://ipywidgets.readthedocs.io/en/stable/user_install.html\n",
      "  from .autonotebook import tqdm as notebook_tqdm\n",
      "2022-04-13 13:03:10.127659: W tensorflow/stream_executor/platform/default/dso_loader.cc:64] Could not load dynamic library 'libcudart.so.11.0'; dlerror: libcudart.so.11.0: cannot open shared object file: No such file or directory\n",
      "2022-04-13 13:03:10.127791: I tensorflow/stream_executor/cuda/cudart_stub.cc:29] Ignore above cudart dlerror if you do not have a GPU set up on your machine.\n"
     ]
    }
   ],
   "source": [
    "import numpy as np\n",
    "import pandas as pd\n",
    "import spacy\n",
    "from tqdm import tqdm\n",
    "from transformers import pipeline"
   ]
  },
  {
   "cell_type": "code",
   "execution_count": 2,
   "metadata": {},
   "outputs": [],
   "source": [
    "HCHS_data=pd.read_excel('/workspaces/de.uke.iam.automapping/experiments/VM_Soarian_HCHS_20210422.xlsx')\n",
    "HCHS_data['Langname']=HCHS_data['Langname'].replace([' ', ''], np.nan)\n",
    "HCHS_Langname=HCHS_data['Langname'].str.strip()\n",
    "HCHS_Langname=HCHS_Langname.dropna(axis=0)\n",
    "HCHS_Langname=HCHS_Langname.unique()"
   ]
  },
  {
   "cell_type": "code",
   "execution_count": 3,
   "metadata": {},
   "outputs": [],
   "source": [
    "df=pd.DataFrame()\n",
    "df['HCHS_German']=HCHS_Langname"
   ]
  },
  {
   "cell_type": "code",
   "execution_count": 4,
   "metadata": {},
   "outputs": [],
   "source": [
    "df['HCHS_German']=df['HCHS_German'].str.replace(r'[{4}|]', ',', regex=True)#cases with |"
   ]
  },
  {
   "cell_type": "markdown",
   "metadata": {},
   "source": [
    "#### Abbriviation replacement"
   ]
  },
  {
   "cell_type": "code",
   "execution_count": 6,
   "metadata": {},
   "outputs": [],
   "source": [
    "list_abbr=pd.read_excel('/workspaces/de.uke.iam.automapping/experiments/german_abbreviation.xlsx')"
   ]
  },
  {
   "cell_type": "code",
   "execution_count": 7,
   "metadata": {},
   "outputs": [],
   "source": [
    "df['HCHS_German_without_abbreviation']=df['HCHS_German']"
   ]
  },
  {
   "cell_type": "code",
   "execution_count": 8,
   "metadata": {},
   "outputs": [
    {
     "name": "stderr",
     "output_type": "stream",
     "text": [
      "100%|██████████| 874/874 [00:03<00:00, 219.94it/s]\n"
     ]
    }
   ],
   "source": [
    "#abbreviation replacment\n",
    "for i in tqdm(range(list_abbr.shape[0])):\n",
    "    abbreviation=list_abbr['Abbreviation'][i]\n",
    "    description=list_abbr['Description'][i]\n",
    "    df['HCHS_German_without_abbreviation']=df['HCHS_German_without_abbreviation'].str.replace(r'\\b' + abbreviation + r'[^\\w]' ,description+' ',  regex= True)"
   ]
  },
  {
   "cell_type": "markdown",
   "metadata": {},
   "source": [
    "#### Translation German-English"
   ]
  },
  {
   "cell_type": "code",
   "execution_count": 9,
   "metadata": {},
   "outputs": [],
   "source": [
    "model=\"Helsinki-NLP/opus-mt-de-en\"\n",
    "translator=pipeline('translation', model)"
   ]
  },
  {
   "cell_type": "code",
   "execution_count": 10,
   "metadata": {},
   "outputs": [],
   "source": [
    "tr=translator(df['HCHS_German_without_abbreviation'].to_list())"
   ]
  },
  {
   "cell_type": "code",
   "execution_count": 11,
   "metadata": {},
   "outputs": [],
   "source": [
    "translation_list=[]\n",
    "for i in tr:\n",
    "    translation_list.append(i.get('translation_text'))"
   ]
  },
  {
   "cell_type": "code",
   "execution_count": 12,
   "metadata": {},
   "outputs": [],
   "source": [
    "df['HCHS_English']=translation_list"
   ]
  },
  {
   "cell_type": "markdown",
   "metadata": {},
   "source": [
    "#### Rid of unnecessory information"
   ]
  },
  {
   "cell_type": "code",
   "execution_count": 14,
   "metadata": {},
   "outputs": [],
   "source": [
    "nlp=spacy.load('en_core_web_lg')"
   ]
  },
  {
   "cell_type": "code",
   "execution_count": 15,
   "metadata": {},
   "outputs": [],
   "source": [
    "english_ready=[]\n",
    "for sentence in df['HCHS_English'].to_list():\n",
    "    token_list=[]\n",
    "    doc=nlp(sentence)\n",
    "    token_list=[str(token) for token in doc if not token.is_stop and not token.is_punct and str(token)!='doctor']\n",
    "    text = \" \".join(token_list)\n",
    "    english_ready.append(text)"
   ]
  },
  {
   "cell_type": "code",
   "execution_count": 16,
   "metadata": {},
   "outputs": [],
   "source": [
    "df['HCHS_new']=english_ready"
   ]
  },
  {
   "cell_type": "code",
   "execution_count": 17,
   "metadata": {},
   "outputs": [
    {
     "data": {
      "text/html": [
       "<div>\n",
       "<style scoped>\n",
       "    .dataframe tbody tr th:only-of-type {\n",
       "        vertical-align: middle;\n",
       "    }\n",
       "\n",
       "    .dataframe tbody tr th {\n",
       "        vertical-align: top;\n",
       "    }\n",
       "\n",
       "    .dataframe thead th {\n",
       "        text-align: right;\n",
       "    }\n",
       "</style>\n",
       "<table border=\"1\" class=\"dataframe\">\n",
       "  <thead>\n",
       "    <tr style=\"text-align: right;\">\n",
       "      <th></th>\n",
       "      <th>HCHS_German</th>\n",
       "      <th>HCHS_German_without_abbreviation</th>\n",
       "      <th>HCHS_English</th>\n",
       "      <th>HCHS_new</th>\n",
       "    </tr>\n",
       "  </thead>\n",
       "  <tbody>\n",
       "    <tr>\n",
       "      <th>0</th>\n",
       "      <td>Liegt bei Ihnen eine vom Arzt diagnostizierte ...</td>\n",
       "      <td>Liegt bei Ihnen eine vom Arzt diagnostizierte ...</td>\n",
       "      <td>Do you have dementia diagnosed by the doctor?</td>\n",
       "      <td>dementia diagnosed</td>\n",
       "    </tr>\n",
       "    <tr>\n",
       "      <th>1</th>\n",
       "      <td>Liegt bei Ihnen ein vom Arzt diagnostizierter ...</td>\n",
       "      <td>Liegt bei Ihnen ein vom Arzt diagnostizierter ...</td>\n",
       "      <td>Is there a diabetes diagnosed by your doctor?</td>\n",
       "      <td>diabetes diagnosed</td>\n",
       "    </tr>\n",
       "    <tr>\n",
       "      <th>2</th>\n",
       "      <td>Wann war die letzte Injektion?</td>\n",
       "      <td>Wann war die letzte Injektion?</td>\n",
       "      <td>When was the last injection?</td>\n",
       "      <td>injection</td>\n",
       "    </tr>\n",
       "    <tr>\n",
       "      <th>3</th>\n",
       "      <td>Hatten Sie bereits einen vom Arzt diagnostizie...</td>\n",
       "      <td>Hatten Sie bereits einen vom Arzt diagnostizie...</td>\n",
       "      <td>Have you already had a heart attack diagnosed ...</td>\n",
       "      <td>heart attack diagnosed</td>\n",
       "    </tr>\n",
       "    <tr>\n",
       "      <th>4</th>\n",
       "      <td>Ist bei Ihnen eine vom Arzt diagnostizierte He...</td>\n",
       "      <td>Ist bei Ihnen eine vom Arzt diagnostizierte He...</td>\n",
       "      <td>Are you aware of a heart failure diagnosed by ...</td>\n",
       "      <td>aware heart failure diagnosed</td>\n",
       "    </tr>\n",
       "    <tr>\n",
       "      <th>...</th>\n",
       "      <td>...</td>\n",
       "      <td>...</td>\n",
       "      <td>...</td>\n",
       "      <td>...</td>\n",
       "    </tr>\n",
       "    <tr>\n",
       "      <th>948</th>\n",
       "      <td>Kreuzbiss</td>\n",
       "      <td>Kreuzbiss</td>\n",
       "      <td>Crossbite</td>\n",
       "      <td>Crossbite</td>\n",
       "    </tr>\n",
       "    <tr>\n",
       "      <th>949</th>\n",
       "      <td>Mundöffnungsbewegung</td>\n",
       "      <td>Mundöffnungsbewegung</td>\n",
       "      <td>Mouth opening movement</td>\n",
       "      <td>Mouth opening movement</td>\n",
       "    </tr>\n",
       "    <tr>\n",
       "      <th>950</th>\n",
       "      <td>max. aktive Mundöffnung</td>\n",
       "      <td>max. aktive Mundöffnung</td>\n",
       "      <td>max. active mouth opening</td>\n",
       "      <td>max active mouth opening</td>\n",
       "    </tr>\n",
       "    <tr>\n",
       "      <th>951</th>\n",
       "      <td>max. passive Mundöffnung</td>\n",
       "      <td>max. passive Mundöffnung</td>\n",
       "      <td>max. passive mouth opening</td>\n",
       "      <td>max passive mouth opening</td>\n",
       "    </tr>\n",
       "    <tr>\n",
       "      <th>952</th>\n",
       "      <td>Anzahl der Stützzonen (0-,)</td>\n",
       "      <td>Anzahl der Stützzonen (0-,)</td>\n",
       "      <td>Number of support zones (0-,)</td>\n",
       "      <td>Number support zones 0-</td>\n",
       "    </tr>\n",
       "  </tbody>\n",
       "</table>\n",
       "<p>953 rows × 4 columns</p>\n",
       "</div>"
      ],
      "text/plain": [
       "                                           HCHS_German  \\\n",
       "0    Liegt bei Ihnen eine vom Arzt diagnostizierte ...   \n",
       "1    Liegt bei Ihnen ein vom Arzt diagnostizierter ...   \n",
       "2                       Wann war die letzte Injektion?   \n",
       "3    Hatten Sie bereits einen vom Arzt diagnostizie...   \n",
       "4    Ist bei Ihnen eine vom Arzt diagnostizierte He...   \n",
       "..                                                 ...   \n",
       "948                                          Kreuzbiss   \n",
       "949                               Mundöffnungsbewegung   \n",
       "950                            max. aktive Mundöffnung   \n",
       "951                           max. passive Mundöffnung   \n",
       "952                        Anzahl der Stützzonen (0-,)   \n",
       "\n",
       "                      HCHS_German_without_abbreviation  \\\n",
       "0    Liegt bei Ihnen eine vom Arzt diagnostizierte ...   \n",
       "1    Liegt bei Ihnen ein vom Arzt diagnostizierter ...   \n",
       "2                       Wann war die letzte Injektion?   \n",
       "3    Hatten Sie bereits einen vom Arzt diagnostizie...   \n",
       "4    Ist bei Ihnen eine vom Arzt diagnostizierte He...   \n",
       "..                                                 ...   \n",
       "948                                          Kreuzbiss   \n",
       "949                               Mundöffnungsbewegung   \n",
       "950                            max. aktive Mundöffnung   \n",
       "951                           max. passive Mundöffnung   \n",
       "952                        Anzahl der Stützzonen (0-,)   \n",
       "\n",
       "                                          HCHS_English  \\\n",
       "0        Do you have dementia diagnosed by the doctor?   \n",
       "1        Is there a diabetes diagnosed by your doctor?   \n",
       "2                         When was the last injection?   \n",
       "3    Have you already had a heart attack diagnosed ...   \n",
       "4    Are you aware of a heart failure diagnosed by ...   \n",
       "..                                                 ...   \n",
       "948                                          Crossbite   \n",
       "949                             Mouth opening movement   \n",
       "950                          max. active mouth opening   \n",
       "951                         max. passive mouth opening   \n",
       "952                      Number of support zones (0-,)   \n",
       "\n",
       "                          HCHS_new  \n",
       "0               dementia diagnosed  \n",
       "1               diabetes diagnosed  \n",
       "2                        injection  \n",
       "3           heart attack diagnosed  \n",
       "4    aware heart failure diagnosed  \n",
       "..                             ...  \n",
       "948                      Crossbite  \n",
       "949         Mouth opening movement  \n",
       "950       max active mouth opening  \n",
       "951      max passive mouth opening  \n",
       "952        Number support zones 0-  \n",
       "\n",
       "[953 rows x 4 columns]"
      ]
     },
     "execution_count": 17,
     "metadata": {},
     "output_type": "execute_result"
    }
   ],
   "source": [
    "df"
   ]
  },
  {
   "cell_type": "code",
   "execution_count": 18,
   "metadata": {},
   "outputs": [],
   "source": [
    "df.to_excel('HCHS_full_cycle.xlsx', encoding='utf-16')"
   ]
  }
 ],
 "metadata": {
  "interpreter": {
   "hash": "949777d72b0d2535278d3dc13498b2535136f6dfe0678499012e853ee9abcab1"
  },
  "kernelspec": {
   "display_name": "Python 3.10.2 64-bit",
   "language": "python",
   "name": "python3"
  },
  "language_info": {
   "codemirror_mode": {
    "name": "ipython",
    "version": 3
   },
   "file_extension": ".py",
   "mimetype": "text/x-python",
   "name": "python",
   "nbconvert_exporter": "python",
   "pygments_lexer": "ipython3",
   "version": "3.10.2"
  },
  "orig_nbformat": 4
 },
 "nbformat": 4,
 "nbformat_minor": 2
}
