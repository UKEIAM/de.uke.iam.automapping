{
 "cells": [
  {
   "cell_type": "markdown",
   "metadata": {},
   "source": [
    "### Full algorithm for getting ready German data\n",
    "HCHS_data(cleaning) -> replace abbrviations -> translation with Hugging Face -> rid of unnecessory information"
   ]
  },
  {
   "cell_type": "markdown",
   "metadata": {},
   "source": [
    "#### HCHS data"
   ]
  },
  {
   "cell_type": "code",
   "execution_count": 35,
   "metadata": {},
   "outputs": [],
   "source": [
    "import numpy as np\n",
    "import pandas as pd\n",
    "import spacy\n",
    "from tqdm import tqdm\n",
    "from transformers import pipeline"
   ]
  },
  {
   "cell_type": "code",
   "execution_count": 17,
   "metadata": {},
   "outputs": [],
   "source": [
    "#Loading Soarian HCHS data\n",
    "HCHS_data_second=pd.read_excel('/workspaces/de.uke.iam.automapping/experiments/VM_ _HCHS_10000_20210708.xlsx')\n",
    "HCHS_data_second['Langname']=HCHS_data_second['Langname'].replace([' ', ''], np.nan)\n",
    "HCHS_Langname_second=HCHS_data_second['Langname'].str.strip()\n",
    "HCHS_Langname_second=HCHS_Langname_second.dropna(axis=0)"
   ]
  },
  {
   "cell_type": "code",
   "execution_count": 18,
   "metadata": {},
   "outputs": [],
   "source": [
    "#Loading Fragebogen data\n",
    "HCHS_data=pd.read_excel('/workspaces/de.uke.iam.automapping/experiments/VM_Soarian_HCHS_20210422.xlsx')\n",
    "HCHS_data['Langname']=HCHS_data['Langname'].replace([' ', ''], np.nan)\n",
    "HCHS_Langname=HCHS_data['Langname'].str.strip()\n",
    "HCHS_Langname=HCHS_Langname.dropna(axis=0)"
   ]
  },
  {
   "cell_type": "code",
   "execution_count": 19,
   "metadata": {},
   "outputs": [
    {
     "name": "stderr",
     "output_type": "stream",
     "text": [
      "/tmp/ipykernel_395/81917566.py:1: FutureWarning: The series.append method is deprecated and will be removed from pandas in a future version. Use pandas.concat instead.\n",
      "  HCHS_Langname= HCHS_Langname.append(HCHS_Langname_second, ignore_index = True)\n"
     ]
    }
   ],
   "source": [
    "#Getting them together\n",
    "HCHS_Langname= HCHS_Langname.append(HCHS_Langname_second, ignore_index = True)"
   ]
  },
  {
   "cell_type": "code",
   "execution_count": 20,
   "metadata": {},
   "outputs": [
    {
     "data": {
      "text/plain": [
       "0       Liegt bei Ihnen eine vom Arzt diagnostizierte ...\n",
       "1       Liegt bei Ihnen ein vom Arzt diagnostizierter ...\n",
       "2                          Wann war die letzte Injektion?\n",
       "3                          Wann war die letzte Injektion?\n",
       "4       Hatten Sie bereits einen vom Arzt diagnostizie...\n",
       "                              ...                        \n",
       "2669                                Sonstiges |  nämlich:\n",
       "2670    Ich habe das Gefühl |  dass ich über Sexualitä...\n",
       "2671           Ich bin motiviert |  sexuell aktiv zu sein\n",
       "2672    Sexualität ist in meinem Leben eher durch Umst...\n",
       "2673    In Bezug auf sexuelle Kontakte bin ich ängstli...\n",
       "Name: Langname, Length: 2674, dtype: object"
      ]
     },
     "execution_count": 20,
     "metadata": {},
     "output_type": "execute_result"
    }
   ],
   "source": [
    "HCHS_Langname"
   ]
  },
  {
   "cell_type": "code",
   "execution_count": 21,
   "metadata": {},
   "outputs": [],
   "source": [
    "df=pd.DataFrame()\n",
    "df['HCHS_German']=HCHS_Langname"
   ]
  },
  {
   "cell_type": "code",
   "execution_count": 22,
   "metadata": {},
   "outputs": [],
   "source": [
    "df['HCHS_German']=df['HCHS_German'].str.replace(r'[{4}|]', ',', regex=True)#cases with |"
   ]
  },
  {
   "cell_type": "markdown",
   "metadata": {},
   "source": [
    "#### Abbriviation replacement"
   ]
  },
  {
   "cell_type": "code",
   "execution_count": 23,
   "metadata": {},
   "outputs": [],
   "source": [
    "list_abbr=pd.read_excel('/workspaces/de.uke.iam.automapping/experiments/german_abbreviation.xlsx')"
   ]
  },
  {
   "cell_type": "code",
   "execution_count": 24,
   "metadata": {},
   "outputs": [],
   "source": [
    "df['HCHS_German_without_abbreviation']=df['HCHS_German']"
   ]
  },
  {
   "cell_type": "code",
   "execution_count": 25,
   "metadata": {},
   "outputs": [
    {
     "name": "stderr",
     "output_type": "stream",
     "text": [
      "100%|██████████| 874/874 [00:17<00:00, 48.89it/s]\n"
     ]
    }
   ],
   "source": [
    "#abbreviation replacment\n",
    "for i in tqdm(range(list_abbr.shape[0])):\n",
    "    abbreviation=list_abbr['Abbreviation'][i]\n",
    "    description=list_abbr['Description'][i]\n",
    "    df['HCHS_German_without_abbreviation']=df['HCHS_German_without_abbreviation'].str.replace(r'\\b' + abbreviation + r'[^\\w]' ,description+' ',  regex= True)"
   ]
  },
  {
   "cell_type": "markdown",
   "metadata": {},
   "source": [
    "#### Translation German-English"
   ]
  },
  {
   "cell_type": "code",
   "execution_count": 26,
   "metadata": {},
   "outputs": [],
   "source": [
    "model=\"Helsinki-NLP/opus-mt-de-en\"\n",
    "translator=pipeline('translation', model)"
   ]
  },
  {
   "cell_type": "code",
   "execution_count": 27,
   "metadata": {},
   "outputs": [],
   "source": [
    "tr=translator(df['HCHS_German_without_abbreviation'].to_list())"
   ]
  },
  {
   "cell_type": "code",
   "execution_count": 28,
   "metadata": {},
   "outputs": [],
   "source": [
    "translation_list=[]\n",
    "for i in tr:\n",
    "    translation_list.append(i.get('translation_text'))"
   ]
  },
  {
   "cell_type": "code",
   "execution_count": 29,
   "metadata": {},
   "outputs": [],
   "source": [
    "df['HCHS_English']=translation_list"
   ]
  },
  {
   "cell_type": "markdown",
   "metadata": {},
   "source": [
    "#### Rid of unnecessory information"
   ]
  },
  {
   "cell_type": "code",
   "execution_count": null,
   "metadata": {},
   "outputs": [],
   "source": [
    "nlp=spacy.load('en_core_web_lg')\n",
    "nlp.Defaults.stop_words.remove('no')\n",
    "nlp.Defaults.stop_words.remove('not')\n",
    "nlp.Defaults.stop_words.remove('none')\n",
    "nlp.Defaults.stop_words.remove('noone')\n",
    "nlp.Defaults.stop_words.remove('back')\n",
    "nlp.Defaults.stop_words.add('doctors')"
   ]
  },
  {
   "cell_type": "code",
   "execution_count": null,
   "metadata": {},
   "outputs": [],
   "source": [
    "from preprocessing import delete_extra"
   ]
  },
  {
   "cell_type": "code",
   "execution_count": null,
   "metadata": {},
   "outputs": [],
   "source": [
    "upd_terms=delete_extra(df['HCHS_English'].str.lower().tolist(), nlp)"
   ]
  },
  {
   "cell_type": "code",
   "execution_count": 34,
   "metadata": {},
   "outputs": [],
   "source": [
    "df.to_excel('20220625_HCHS_selected.xlsx', encoding='utf-16')"
   ]
  }
 ],
 "metadata": {
  "interpreter": {
   "hash": "949777d72b0d2535278d3dc13498b2535136f6dfe0678499012e853ee9abcab1"
  },
  "kernelspec": {
   "display_name": "Python 3.10.2 64-bit",
   "language": "python",
   "name": "python3"
  },
  "language_info": {
   "codemirror_mode": {
    "name": "ipython",
    "version": 3
   },
   "file_extension": ".py",
   "mimetype": "text/x-python",
   "name": "python",
   "nbconvert_exporter": "python",
   "pygments_lexer": "ipython3",
   "version": "3.10.2"
  },
  "orig_nbformat": 4
 },
 "nbformat": 4,
 "nbformat_minor": 2
}
