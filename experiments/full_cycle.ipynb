{
 "cells": [
  {
   "cell_type": "markdown",
   "metadata": {},
   "source": [
    "### Full algorithm\n",
    "HCHS_data(cleaning) -> replace abbrviations -> translation with Hugging Face -> rid of unnecessory information"
   ]
  },
  {
   "cell_type": "markdown",
   "metadata": {},
   "source": [
    "#### HCHS data"
   ]
  },
  {
   "cell_type": "code",
   "execution_count": 35,
   "metadata": {},
   "outputs": [],
   "source": [
    "import numpy as np\n",
    "import pandas as pd\n",
    "import spacy\n",
    "from tqdm import tqdm\n",
    "from transformers import pipeline"
   ]
  },
  {
   "cell_type": "code",
   "execution_count": 17,
   "metadata": {},
   "outputs": [],
   "source": [
    "HCHS_data_second=pd.read_excel('/workspaces/de.uke.iam.automapping/experiments/VM_ _HCHS_10000_20210708.xlsx')\n",
    "HCHS_data_second['Langname']=HCHS_data_second['Langname'].replace([' ', ''], np.nan)\n",
    "HCHS_Langname_second=HCHS_data_second['Langname'].str.strip()\n",
    "HCHS_Langname_second=HCHS_Langname_second.dropna(axis=0)"
   ]
  },
  {
   "cell_type": "code",
   "execution_count": 18,
   "metadata": {},
   "outputs": [],
   "source": [
    "HCHS_data=pd.read_excel('/workspaces/de.uke.iam.automapping/experiments/VM_Soarian_HCHS_20210422.xlsx')\n",
    "HCHS_data['Langname']=HCHS_data['Langname'].replace([' ', ''], np.nan)\n",
    "HCHS_Langname=HCHS_data['Langname'].str.strip()\n",
    "HCHS_Langname=HCHS_Langname.dropna(axis=0)"
   ]
  },
  {
   "cell_type": "code",
   "execution_count": 19,
   "metadata": {},
   "outputs": [
    {
     "name": "stderr",
     "output_type": "stream",
     "text": [
      "/tmp/ipykernel_395/81917566.py:1: FutureWarning: The series.append method is deprecated and will be removed from pandas in a future version. Use pandas.concat instead.\n",
      "  HCHS_Langname= HCHS_Langname.append(HCHS_Langname_second, ignore_index = True)\n"
     ]
    }
   ],
   "source": [
    "HCHS_Langname= HCHS_Langname.append(HCHS_Langname_second, ignore_index = True)"
   ]
  },
  {
   "cell_type": "code",
   "execution_count": 20,
   "metadata": {},
   "outputs": [
    {
     "data": {
      "text/plain": [
       "0       Liegt bei Ihnen eine vom Arzt diagnostizierte ...\n",
       "1       Liegt bei Ihnen ein vom Arzt diagnostizierter ...\n",
       "2                          Wann war die letzte Injektion?\n",
       "3                          Wann war die letzte Injektion?\n",
       "4       Hatten Sie bereits einen vom Arzt diagnostizie...\n",
       "                              ...                        \n",
       "2669                                Sonstiges |  nämlich:\n",
       "2670    Ich habe das Gefühl |  dass ich über Sexualitä...\n",
       "2671           Ich bin motiviert |  sexuell aktiv zu sein\n",
       "2672    Sexualität ist in meinem Leben eher durch Umst...\n",
       "2673    In Bezug auf sexuelle Kontakte bin ich ängstli...\n",
       "Name: Langname, Length: 2674, dtype: object"
      ]
     },
     "execution_count": 20,
     "metadata": {},
     "output_type": "execute_result"
    }
   ],
   "source": [
    "HCHS_Langname"
   ]
  },
  {
   "cell_type": "code",
   "execution_count": 21,
   "metadata": {},
   "outputs": [],
   "source": [
    "df=pd.DataFrame()\n",
    "df['HCHS_German']=HCHS_Langname"
   ]
  },
  {
   "cell_type": "code",
   "execution_count": 22,
   "metadata": {},
   "outputs": [],
   "source": [
    "df['HCHS_German']=df['HCHS_German'].str.replace(r'[{4}|]', ',', regex=True)#cases with |"
   ]
  },
  {
   "cell_type": "markdown",
   "metadata": {},
   "source": [
    "#### Abbriviation replacement"
   ]
  },
  {
   "cell_type": "code",
   "execution_count": 23,
   "metadata": {},
   "outputs": [],
   "source": [
    "list_abbr=pd.read_excel('/workspaces/de.uke.iam.automapping/experiments/german_abbreviation.xlsx')"
   ]
  },
  {
   "cell_type": "code",
   "execution_count": 24,
   "metadata": {},
   "outputs": [],
   "source": [
    "df['HCHS_German_without_abbreviation']=df['HCHS_German']"
   ]
  },
  {
   "cell_type": "code",
   "execution_count": 25,
   "metadata": {},
   "outputs": [
    {
     "name": "stderr",
     "output_type": "stream",
     "text": [
      "100%|██████████| 874/874 [00:17<00:00, 48.89it/s]\n"
     ]
    }
   ],
   "source": [
    "#abbreviation replacment\n",
    "for i in tqdm(range(list_abbr.shape[0])):\n",
    "    abbreviation=list_abbr['Abbreviation'][i]\n",
    "    description=list_abbr['Description'][i]\n",
    "    df['HCHS_German_without_abbreviation']=df['HCHS_German_without_abbreviation'].str.replace(r'\\b' + abbreviation + r'[^\\w]' ,description+' ',  regex= True)"
   ]
  },
  {
   "cell_type": "markdown",
   "metadata": {},
   "source": [
    "#### Translation German-English"
   ]
  },
  {
   "cell_type": "code",
   "execution_count": 26,
   "metadata": {},
   "outputs": [],
   "source": [
    "model=\"Helsinki-NLP/opus-mt-de-en\"\n",
    "translator=pipeline('translation', model)"
   ]
  },
  {
   "cell_type": "code",
   "execution_count": 27,
   "metadata": {},
   "outputs": [],
   "source": [
    "tr=translator(df['HCHS_German_without_abbreviation'].to_list())"
   ]
  },
  {
   "cell_type": "code",
   "execution_count": 28,
   "metadata": {},
   "outputs": [],
   "source": [
    "translation_list=[]\n",
    "for i in tr:\n",
    "    translation_list.append(i.get('translation_text'))"
   ]
  },
  {
   "cell_type": "code",
   "execution_count": 29,
   "metadata": {},
   "outputs": [],
   "source": [
    "df['HCHS_English']=translation_list"
   ]
  },
  {
   "cell_type": "markdown",
   "metadata": {},
   "source": [
    "#### Rid of unnecessory information"
   ]
  },
  {
   "cell_type": "code",
   "execution_count": 36,
   "metadata": {},
   "outputs": [],
   "source": [
    "nlp=spacy.load('en_core_web_lg')"
   ]
  },
  {
   "cell_type": "code",
   "execution_count": 41,
   "metadata": {},
   "outputs": [],
   "source": [
    "df=pd.read_csv('Source_to_concept_map.csv',  on_bad_lines='skip', delimiter=';')"
   ]
  },
  {
   "cell_type": "code",
   "execution_count": 42,
   "metadata": {},
   "outputs": [
    {
     "data": {
      "text/html": [
       "<div>\n",
       "<style scoped>\n",
       "    .dataframe tbody tr th:only-of-type {\n",
       "        vertical-align: middle;\n",
       "    }\n",
       "\n",
       "    .dataframe tbody tr th {\n",
       "        vertical-align: top;\n",
       "    }\n",
       "\n",
       "    .dataframe thead th {\n",
       "        text-align: right;\n",
       "    }\n",
       "</style>\n",
       "<table border=\"1\" class=\"dataframe\">\n",
       "  <thead>\n",
       "    <tr style=\"text-align: right;\">\n",
       "      <th></th>\n",
       "      <th>source_code</th>\n",
       "      <th>source_concept_id</th>\n",
       "      <th>source_vocabulary_id</th>\n",
       "      <th>source_code_description</th>\n",
       "      <th>target_concept_id</th>\n",
       "      <th>target_vocabulary_id</th>\n",
       "      <th>valid_start_date</th>\n",
       "      <th>valid_end_date</th>\n",
       "      <th>invalid_reason</th>\n",
       "    </tr>\n",
       "  </thead>\n",
       "  <tbody>\n",
       "    <tr>\n",
       "      <th>0</th>\n",
       "      <td>Saliva weight</td>\n",
       "      <td>0</td>\n",
       "      <td>HCHS - Varaibles</td>\n",
       "      <td>Saliva</td>\n",
       "      <td>4120374</td>\n",
       "      <td>SNOMED</td>\n",
       "      <td>31.01.2002</td>\n",
       "      <td>31.12.2099</td>\n",
       "      <td>NaN</td>\n",
       "    </tr>\n",
       "    <tr>\n",
       "      <th>1</th>\n",
       "      <td>Non-ischemic heart disease</td>\n",
       "      <td>0</td>\n",
       "      <td>HCHS - Varaibles</td>\n",
       "      <td>Non-ischemic heart disease</td>\n",
       "      <td>321588</td>\n",
       "      <td>SNOMED</td>\n",
       "      <td>31.01.2002</td>\n",
       "      <td>31.12.2099</td>\n",
       "      <td>NaN</td>\n",
       "    </tr>\n",
       "    <tr>\n",
       "      <th>2</th>\n",
       "      <td>Watching television</td>\n",
       "      <td>0</td>\n",
       "      <td>HCHS - Varaibles</td>\n",
       "      <td>Watching television</td>\n",
       "      <td>45757640</td>\n",
       "      <td>SNOMED</td>\n",
       "      <td>31.01.2015</td>\n",
       "      <td>31.12.2099</td>\n",
       "      <td>NaN</td>\n",
       "    </tr>\n",
       "    <tr>\n",
       "      <th>3</th>\n",
       "      <td>Ischemic heart disease</td>\n",
       "      <td>0</td>\n",
       "      <td>HCHS - Varaibles</td>\n",
       "      <td>Ischemic heart disease</td>\n",
       "      <td>4185932</td>\n",
       "      <td>SNOMED</td>\n",
       "      <td>31.01.2005</td>\n",
       "      <td>31.12.2099</td>\n",
       "      <td>NaN</td>\n",
       "    </tr>\n",
       "    <tr>\n",
       "      <th>4</th>\n",
       "      <td>Valvular heart disease</td>\n",
       "      <td>0</td>\n",
       "      <td>HCHS - Varaibles</td>\n",
       "      <td>Valvular heart disease</td>\n",
       "      <td>4281749</td>\n",
       "      <td>SNOMED</td>\n",
       "      <td>31.01.2002</td>\n",
       "      <td>31.12.2099</td>\n",
       "      <td>NaN</td>\n",
       "    </tr>\n",
       "    <tr>\n",
       "      <th>...</th>\n",
       "      <td>...</td>\n",
       "      <td>...</td>\n",
       "      <td>...</td>\n",
       "      <td>...</td>\n",
       "      <td>...</td>\n",
       "      <td>...</td>\n",
       "      <td>...</td>\n",
       "      <td>...</td>\n",
       "      <td>...</td>\n",
       "    </tr>\n",
       "    <tr>\n",
       "      <th>84</th>\n",
       "      <td>Pain , Physical discomfort</td>\n",
       "      <td>0</td>\n",
       "      <td>HCHS - Varaibles</td>\n",
       "      <td>Pain , Physical discomfort</td>\n",
       "      <td>37398847</td>\n",
       "      <td>SNOMED</td>\n",
       "      <td>01.04.2016</td>\n",
       "      <td>31.12.2099</td>\n",
       "      <td>NaN</td>\n",
       "    </tr>\n",
       "    <tr>\n",
       "      <th>85</th>\n",
       "      <td>How much was your pain last week?</td>\n",
       "      <td>0</td>\n",
       "      <td>HCHS - Varaibles</td>\n",
       "      <td>How much was your pain last week?</td>\n",
       "      <td>4234651</td>\n",
       "      <td>SNOMED</td>\n",
       "      <td>31.01.2004</td>\n",
       "      <td>31.12.2099</td>\n",
       "      <td>NaN</td>\n",
       "    </tr>\n",
       "    <tr>\n",
       "      <th>86</th>\n",
       "      <td>Back pain</td>\n",
       "      <td>0</td>\n",
       "      <td>HCHS - Varaibles</td>\n",
       "      <td>Back pain</td>\n",
       "      <td>134736</td>\n",
       "      <td>SNOMED</td>\n",
       "      <td>31.01.2006</td>\n",
       "      <td>31.12.2099</td>\n",
       "      <td>NaN</td>\n",
       "    </tr>\n",
       "    <tr>\n",
       "      <th>87</th>\n",
       "      <td>Headache</td>\n",
       "      <td>0</td>\n",
       "      <td>HCHS - Varaibles</td>\n",
       "      <td>Headache</td>\n",
       "      <td>378253</td>\n",
       "      <td>SNOMED</td>\n",
       "      <td>31.01.2002</td>\n",
       "      <td>31.12.2099</td>\n",
       "      <td>NaN</td>\n",
       "    </tr>\n",
       "    <tr>\n",
       "      <th>88</th>\n",
       "      <td>Weight reduction</td>\n",
       "      <td>0</td>\n",
       "      <td>HCHS - Varaibles</td>\n",
       "      <td>Weight reduction</td>\n",
       "      <td>4178502</td>\n",
       "      <td>SNOMED</td>\n",
       "      <td>31.01.2002</td>\n",
       "      <td>31.12.2099</td>\n",
       "      <td>NaN</td>\n",
       "    </tr>\n",
       "  </tbody>\n",
       "</table>\n",
       "<p>89 rows × 9 columns</p>\n",
       "</div>"
      ],
      "text/plain": [
       "                          source_code  source_concept_id source_vocabulary_id  \\\n",
       "0                       Saliva weight                  0     HCHS - Varaibles   \n",
       "1          Non-ischemic heart disease                  0     HCHS - Varaibles   \n",
       "2                 Watching television                  0     HCHS - Varaibles   \n",
       "3              Ischemic heart disease                  0     HCHS - Varaibles   \n",
       "4             Valvular heart disease                   0     HCHS - Varaibles   \n",
       "..                                ...                ...                  ...   \n",
       "84         Pain , Physical discomfort                  0     HCHS - Varaibles   \n",
       "85  How much was your pain last week?                  0     HCHS - Varaibles   \n",
       "86                          Back pain                  0     HCHS - Varaibles   \n",
       "87                           Headache                  0     HCHS - Varaibles   \n",
       "88                   Weight reduction                  0     HCHS - Varaibles   \n",
       "\n",
       "              source_code_description  target_concept_id target_vocabulary_id  \\\n",
       "0                              Saliva            4120374               SNOMED   \n",
       "1          Non-ischemic heart disease             321588               SNOMED   \n",
       "2                 Watching television           45757640               SNOMED   \n",
       "3              Ischemic heart disease            4185932               SNOMED   \n",
       "4             Valvular heart disease             4281749               SNOMED   \n",
       "..                                ...                ...                  ...   \n",
       "84         Pain , Physical discomfort           37398847               SNOMED   \n",
       "85  How much was your pain last week?            4234651               SNOMED   \n",
       "86                          Back pain             134736               SNOMED   \n",
       "87                           Headache             378253               SNOMED   \n",
       "88                   Weight reduction            4178502               SNOMED   \n",
       "\n",
       "   valid_start_date valid_end_date  invalid_reason  \n",
       "0        31.01.2002     31.12.2099             NaN  \n",
       "1        31.01.2002     31.12.2099             NaN  \n",
       "2        31.01.2015     31.12.2099             NaN  \n",
       "3        31.01.2005     31.12.2099             NaN  \n",
       "4        31.01.2002     31.12.2099             NaN  \n",
       "..              ...            ...             ...  \n",
       "84       01.04.2016     31.12.2099             NaN  \n",
       "85       31.01.2004     31.12.2099             NaN  \n",
       "86       31.01.2006     31.12.2099             NaN  \n",
       "87       31.01.2002     31.12.2099             NaN  \n",
       "88       31.01.2002     31.12.2099             NaN  \n",
       "\n",
       "[89 rows x 9 columns]"
      ]
     },
     "execution_count": 42,
     "metadata": {},
     "output_type": "execute_result"
    }
   ],
   "source": [
    "df"
   ]
  },
  {
   "cell_type": "code",
   "execution_count": 43,
   "metadata": {},
   "outputs": [],
   "source": [
    "english_ready=[]\n",
    "for sentence in df['source_code'].to_list():\n",
    "    token_list=[]\n",
    "    doc=nlp(sentence)\n",
    "    token_list=[token.lemma_ for token in doc if not token.is_stop and not token.is_punct and token.text!='doctor']\n",
    "    text = \" \".join(token_list)\n",
    "    english_ready.append(text)"
   ]
  },
  {
   "cell_type": "code",
   "execution_count": 31,
   "metadata": {},
   "outputs": [],
   "source": [
    "english_ready=[]\n",
    "for sentence in df['HCHS_English'].to_list():\n",
    "    token_list=[]\n",
    "    doc=nlp(sentence)\n",
    "    token_list=[token.lemma_ for token in doc if not token.is_stop and not token.is_punct and token.text!='doctor']\n",
    "    text = \" \".join(token_list)\n",
    "    english_ready.append(text)"
   ]
  },
  {
   "cell_type": "code",
   "execution_count": 44,
   "metadata": {},
   "outputs": [],
   "source": [
    "df['prepeared_source_code']=english_ready"
   ]
  },
  {
   "cell_type": "code",
   "execution_count": 32,
   "metadata": {},
   "outputs": [],
   "source": [
    "df['HCHS_new']=english_ready"
   ]
  },
  {
   "cell_type": "code",
   "execution_count": 45,
   "metadata": {},
   "outputs": [
    {
     "data": {
      "text/html": [
       "<div>\n",
       "<style scoped>\n",
       "    .dataframe tbody tr th:only-of-type {\n",
       "        vertical-align: middle;\n",
       "    }\n",
       "\n",
       "    .dataframe tbody tr th {\n",
       "        vertical-align: top;\n",
       "    }\n",
       "\n",
       "    .dataframe thead th {\n",
       "        text-align: right;\n",
       "    }\n",
       "</style>\n",
       "<table border=\"1\" class=\"dataframe\">\n",
       "  <thead>\n",
       "    <tr style=\"text-align: right;\">\n",
       "      <th></th>\n",
       "      <th>source_code</th>\n",
       "      <th>source_concept_id</th>\n",
       "      <th>source_vocabulary_id</th>\n",
       "      <th>source_code_description</th>\n",
       "      <th>target_concept_id</th>\n",
       "      <th>target_vocabulary_id</th>\n",
       "      <th>valid_start_date</th>\n",
       "      <th>valid_end_date</th>\n",
       "      <th>invalid_reason</th>\n",
       "      <th>prepeared_source_code</th>\n",
       "    </tr>\n",
       "  </thead>\n",
       "  <tbody>\n",
       "    <tr>\n",
       "      <th>0</th>\n",
       "      <td>Saliva weight</td>\n",
       "      <td>0</td>\n",
       "      <td>HCHS - Varaibles</td>\n",
       "      <td>Saliva</td>\n",
       "      <td>4120374</td>\n",
       "      <td>SNOMED</td>\n",
       "      <td>31.01.2002</td>\n",
       "      <td>31.12.2099</td>\n",
       "      <td>NaN</td>\n",
       "      <td>saliva weight</td>\n",
       "    </tr>\n",
       "    <tr>\n",
       "      <th>1</th>\n",
       "      <td>Non-ischemic heart disease</td>\n",
       "      <td>0</td>\n",
       "      <td>HCHS - Varaibles</td>\n",
       "      <td>Non-ischemic heart disease</td>\n",
       "      <td>321588</td>\n",
       "      <td>SNOMED</td>\n",
       "      <td>31.01.2002</td>\n",
       "      <td>31.12.2099</td>\n",
       "      <td>NaN</td>\n",
       "      <td>non ischemic heart disease</td>\n",
       "    </tr>\n",
       "    <tr>\n",
       "      <th>2</th>\n",
       "      <td>Watching television</td>\n",
       "      <td>0</td>\n",
       "      <td>HCHS - Varaibles</td>\n",
       "      <td>Watching television</td>\n",
       "      <td>45757640</td>\n",
       "      <td>SNOMED</td>\n",
       "      <td>31.01.2015</td>\n",
       "      <td>31.12.2099</td>\n",
       "      <td>NaN</td>\n",
       "      <td>watch television</td>\n",
       "    </tr>\n",
       "    <tr>\n",
       "      <th>3</th>\n",
       "      <td>Ischemic heart disease</td>\n",
       "      <td>0</td>\n",
       "      <td>HCHS - Varaibles</td>\n",
       "      <td>Ischemic heart disease</td>\n",
       "      <td>4185932</td>\n",
       "      <td>SNOMED</td>\n",
       "      <td>31.01.2005</td>\n",
       "      <td>31.12.2099</td>\n",
       "      <td>NaN</td>\n",
       "      <td>ischemic heart disease</td>\n",
       "    </tr>\n",
       "    <tr>\n",
       "      <th>4</th>\n",
       "      <td>Valvular heart disease</td>\n",
       "      <td>0</td>\n",
       "      <td>HCHS - Varaibles</td>\n",
       "      <td>Valvular heart disease</td>\n",
       "      <td>4281749</td>\n",
       "      <td>SNOMED</td>\n",
       "      <td>31.01.2002</td>\n",
       "      <td>31.12.2099</td>\n",
       "      <td>NaN</td>\n",
       "      <td>Valvular heart disease</td>\n",
       "    </tr>\n",
       "    <tr>\n",
       "      <th>...</th>\n",
       "      <td>...</td>\n",
       "      <td>...</td>\n",
       "      <td>...</td>\n",
       "      <td>...</td>\n",
       "      <td>...</td>\n",
       "      <td>...</td>\n",
       "      <td>...</td>\n",
       "      <td>...</td>\n",
       "      <td>...</td>\n",
       "      <td>...</td>\n",
       "    </tr>\n",
       "    <tr>\n",
       "      <th>84</th>\n",
       "      <td>Pain , Physical discomfort</td>\n",
       "      <td>0</td>\n",
       "      <td>HCHS - Varaibles</td>\n",
       "      <td>Pain , Physical discomfort</td>\n",
       "      <td>37398847</td>\n",
       "      <td>SNOMED</td>\n",
       "      <td>01.04.2016</td>\n",
       "      <td>31.12.2099</td>\n",
       "      <td>NaN</td>\n",
       "      <td>pain physical discomfort</td>\n",
       "    </tr>\n",
       "    <tr>\n",
       "      <th>85</th>\n",
       "      <td>How much was your pain last week?</td>\n",
       "      <td>0</td>\n",
       "      <td>HCHS - Varaibles</td>\n",
       "      <td>How much was your pain last week?</td>\n",
       "      <td>4234651</td>\n",
       "      <td>SNOMED</td>\n",
       "      <td>31.01.2004</td>\n",
       "      <td>31.12.2099</td>\n",
       "      <td>NaN</td>\n",
       "      <td>pain week</td>\n",
       "    </tr>\n",
       "    <tr>\n",
       "      <th>86</th>\n",
       "      <td>Back pain</td>\n",
       "      <td>0</td>\n",
       "      <td>HCHS - Varaibles</td>\n",
       "      <td>Back pain</td>\n",
       "      <td>134736</td>\n",
       "      <td>SNOMED</td>\n",
       "      <td>31.01.2006</td>\n",
       "      <td>31.12.2099</td>\n",
       "      <td>NaN</td>\n",
       "      <td>pain</td>\n",
       "    </tr>\n",
       "    <tr>\n",
       "      <th>87</th>\n",
       "      <td>Headache</td>\n",
       "      <td>0</td>\n",
       "      <td>HCHS - Varaibles</td>\n",
       "      <td>Headache</td>\n",
       "      <td>378253</td>\n",
       "      <td>SNOMED</td>\n",
       "      <td>31.01.2002</td>\n",
       "      <td>31.12.2099</td>\n",
       "      <td>NaN</td>\n",
       "      <td>headache</td>\n",
       "    </tr>\n",
       "    <tr>\n",
       "      <th>88</th>\n",
       "      <td>Weight reduction</td>\n",
       "      <td>0</td>\n",
       "      <td>HCHS - Varaibles</td>\n",
       "      <td>Weight reduction</td>\n",
       "      <td>4178502</td>\n",
       "      <td>SNOMED</td>\n",
       "      <td>31.01.2002</td>\n",
       "      <td>31.12.2099</td>\n",
       "      <td>NaN</td>\n",
       "      <td>weight reduction</td>\n",
       "    </tr>\n",
       "  </tbody>\n",
       "</table>\n",
       "<p>89 rows × 10 columns</p>\n",
       "</div>"
      ],
      "text/plain": [
       "                          source_code  source_concept_id source_vocabulary_id  \\\n",
       "0                       Saliva weight                  0     HCHS - Varaibles   \n",
       "1          Non-ischemic heart disease                  0     HCHS - Varaibles   \n",
       "2                 Watching television                  0     HCHS - Varaibles   \n",
       "3              Ischemic heart disease                  0     HCHS - Varaibles   \n",
       "4             Valvular heart disease                   0     HCHS - Varaibles   \n",
       "..                                ...                ...                  ...   \n",
       "84         Pain , Physical discomfort                  0     HCHS - Varaibles   \n",
       "85  How much was your pain last week?                  0     HCHS - Varaibles   \n",
       "86                          Back pain                  0     HCHS - Varaibles   \n",
       "87                           Headache                  0     HCHS - Varaibles   \n",
       "88                   Weight reduction                  0     HCHS - Varaibles   \n",
       "\n",
       "              source_code_description  target_concept_id target_vocabulary_id  \\\n",
       "0                              Saliva            4120374               SNOMED   \n",
       "1          Non-ischemic heart disease             321588               SNOMED   \n",
       "2                 Watching television           45757640               SNOMED   \n",
       "3              Ischemic heart disease            4185932               SNOMED   \n",
       "4             Valvular heart disease             4281749               SNOMED   \n",
       "..                                ...                ...                  ...   \n",
       "84         Pain , Physical discomfort           37398847               SNOMED   \n",
       "85  How much was your pain last week?            4234651               SNOMED   \n",
       "86                          Back pain             134736               SNOMED   \n",
       "87                           Headache             378253               SNOMED   \n",
       "88                   Weight reduction            4178502               SNOMED   \n",
       "\n",
       "   valid_start_date valid_end_date  invalid_reason       prepeared_source_code  \n",
       "0        31.01.2002     31.12.2099             NaN               saliva weight  \n",
       "1        31.01.2002     31.12.2099             NaN  non ischemic heart disease  \n",
       "2        31.01.2015     31.12.2099             NaN            watch television  \n",
       "3        31.01.2005     31.12.2099             NaN      ischemic heart disease  \n",
       "4        31.01.2002     31.12.2099             NaN      Valvular heart disease  \n",
       "..              ...            ...             ...                         ...  \n",
       "84       01.04.2016     31.12.2099             NaN    pain physical discomfort  \n",
       "85       31.01.2004     31.12.2099             NaN                   pain week  \n",
       "86       31.01.2006     31.12.2099             NaN                        pain  \n",
       "87       31.01.2002     31.12.2099             NaN                    headache  \n",
       "88       31.01.2002     31.12.2099             NaN            weight reduction  \n",
       "\n",
       "[89 rows x 10 columns]"
      ]
     },
     "execution_count": 45,
     "metadata": {},
     "output_type": "execute_result"
    }
   ],
   "source": [
    "df"
   ]
  },
  {
   "cell_type": "code",
   "execution_count": 46,
   "metadata": {},
   "outputs": [],
   "source": [
    "df.to_excel('source_to_concept_map_new.xlsx', encoding='utf-16')"
   ]
  },
  {
   "cell_type": "code",
   "execution_count": 34,
   "metadata": {},
   "outputs": [],
   "source": [
    "df.to_excel('HCHS_full_cycle_plus.xlsx', encoding='utf-16')"
   ]
  }
 ],
 "metadata": {
  "interpreter": {
   "hash": "949777d72b0d2535278d3dc13498b2535136f6dfe0678499012e853ee9abcab1"
  },
  "kernelspec": {
   "display_name": "Python 3.10.2 64-bit",
   "language": "python",
   "name": "python3"
  },
  "language_info": {
   "codemirror_mode": {
    "name": "ipython",
    "version": 3
   },
   "file_extension": ".py",
   "mimetype": "text/x-python",
   "name": "python",
   "nbconvert_exporter": "python",
   "pygments_lexer": "ipython3",
   "version": "3.10.2"
  },
  "orig_nbformat": 4
 },
 "nbformat": 4,
 "nbformat_minor": 2
}
