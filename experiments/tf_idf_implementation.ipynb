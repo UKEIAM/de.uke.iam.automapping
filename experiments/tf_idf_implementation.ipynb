{
 "cells": [
  {
   "cell_type": "code",
   "execution_count": 1,
   "metadata": {},
   "outputs": [],
   "source": [
    "import numpy as np\n",
    "import pandas as pd\n",
    "import warnings\n",
    "from pandas.core.common import SettingWithCopyWarning\n",
    "warnings.simplefilter(action=\"ignore\", category=SettingWithCopyWarning)"
   ]
  },
  {
   "cell_type": "markdown",
   "metadata": {},
   "source": [
    "## Data preporation"
   ]
  },
  {
   "cell_type": "code",
   "execution_count": 2,
   "metadata": {},
   "outputs": [
    {
     "name": "stderr",
     "output_type": "stream",
     "text": [
      "/usr/local/lib/python3.10/site-packages/tqdm/auto.py:22: TqdmWarning: IProgress not found. Please update jupyter and ipywidgets. See https://ipywidgets.readthedocs.io/en/stable/user_install.html\n",
      "  from .autonotebook import tqdm as notebook_tqdm\n",
      "2022-06-12 13:21:01.838949: W tensorflow/stream_executor/platform/default/dso_loader.cc:64] Could not load dynamic library 'libcudart.so.11.0'; dlerror: libcudart.so.11.0: cannot open shared object file: No such file or directory\n",
      "2022-06-12 13:21:01.839411: I tensorflow/stream_executor/cuda/cudart_stub.cc:29] Ignore above cudart dlerror if you do not have a GPU set up on your machine.\n"
     ]
    }
   ],
   "source": [
    "import spacy\n",
    "nlp=spacy.load('en_core_web_lg')\n",
    "nlp.Defaults.stop_words.remove('no')\n",
    "nlp.Defaults.stop_words.remove('not')\n",
    "nlp.Defaults.stop_words.remove('none')\n",
    "nlp.Defaults.stop_words.remove('noone')\n",
    "nlp.Defaults.stop_words.remove('back')\n",
    "nlp.Defaults.stop_words.add('doctors')\n",
    "from preprocessing import delete_extra"
   ]
  },
  {
   "cell_type": "markdown",
   "metadata": {},
   "source": [
    "##### Snomed preprocessing"
   ]
  },
  {
   "cell_type": "code",
   "execution_count": 3,
   "metadata": {},
   "outputs": [],
   "source": [
    "concepts=pd.read_csv('CONCEPT.csv', on_bad_lines='skip', delimiter=\"\\t\", low_memory=False)"
   ]
  },
  {
   "cell_type": "code",
   "execution_count": 4,
   "metadata": {},
   "outputs": [],
   "source": [
    "concepts=concepts[(concepts['vocabulary_id']=='SNOMED') & (concepts['standard_concept']=='S')]\n",
    "concepts['concept_name']=concepts['concept_name'].replace({'X]': 'X] '}, regex=True).str.lower()#TODO put it to preprocessing part\n",
    "concepts = concepts[['concept_id', 'concept_name']] \n",
    "concepts_id=concepts['concept_id'].tolist()\n",
    "concept_names= list(map(str, concepts['concept_name']))"
   ]
  },
  {
   "cell_type": "code",
   "execution_count": 5,
   "metadata": {},
   "outputs": [],
   "source": [
    "#FOR TRAINING\n",
    "concepts_id=concepts_id[:20]\n",
    "concept_names=concept_names[:20]"
   ]
  },
  {
   "cell_type": "code",
   "execution_count": 6,
   "metadata": {},
   "outputs": [],
   "source": [
    "upd_concept_names=delete_extra(concept_names, nlp)"
   ]
  },
  {
   "cell_type": "markdown",
   "metadata": {},
   "source": [
    "##### HCHS preprocessing"
   ]
  },
  {
   "cell_type": "code",
   "execution_count": 7,
   "metadata": {},
   "outputs": [],
   "source": [
    "terms=pd.read_excel('concept_evaluation_new.xlsx')"
   ]
  },
  {
   "cell_type": "code",
   "execution_count": 8,
   "metadata": {},
   "outputs": [],
   "source": [
    "terms=terms['sourceName'].dropna(axis=0)"
   ]
  },
  {
   "cell_type": "code",
   "execution_count": 9,
   "metadata": {},
   "outputs": [],
   "source": [
    "terms=terms.str.lower().tolist()"
   ]
  },
  {
   "cell_type": "code",
   "execution_count": 10,
   "metadata": {},
   "outputs": [],
   "source": [
    "upd_terms=delete_extra(terms, nlp)"
   ]
  },
  {
   "cell_type": "markdown",
   "metadata": {},
   "source": [
    "### TF-IDF"
   ]
  },
  {
   "cell_type": "code",
   "execution_count": 11,
   "metadata": {},
   "outputs": [],
   "source": [
    "from utils import make_flatten_list_of_terms\n",
    "from tf_idf import Mapper"
   ]
  },
  {
   "cell_type": "code",
   "execution_count": 15,
   "metadata": {},
   "outputs": [],
   "source": [
    "chunk_size=3#number of chunks\n",
    "num=3#number of guesses\n",
    "terms_concepts={'terms':upd_terms, 'concepts': upd_concept_names} \n",
    "df=pd.DataFrame()\n",
    "df['Term']=make_flatten_list_of_terms(upd_terms, num)\n",
    "df['Concept']= np.nan\n",
    "df['Concept_id']=np.nan\n",
    "df['Similarity']=np.nan"
   ]
  },
  {
   "cell_type": "code",
   "execution_count": 16,
   "metadata": {},
   "outputs": [],
   "source": [
    "for i in range(0, len(upd_concept_names), chunk_size): #np.array_split(small_chunk, chunk_size)\n",
    "    chunk_names=upd_concept_names[i:i+chunk_size]\n",
    "    chunk_id=concepts_id[i:i+chunk_size]\n",
    "    terms_concepts={'terms':upd_terms, 'concepts': chunk_names}\n",
    "    document_list=terms_concepts['terms']+terms_concepts['concepts']\n",
    "    model=Mapper(num, document_list, terms_concepts, chunk_id, df)\n",
    "    df=model.map()\n",
    "    df['Concept_id']=df['Concept_id'].astype(int)\n",
    "    \n"
   ]
  },
  {
   "cell_type": "code",
   "execution_count": 18,
   "metadata": {},
   "outputs": [
    {
     "data": {
      "text/html": [
       "<div>\n",
       "<style scoped>\n",
       "    .dataframe tbody tr th:only-of-type {\n",
       "        vertical-align: middle;\n",
       "    }\n",
       "\n",
       "    .dataframe tbody tr th {\n",
       "        vertical-align: top;\n",
       "    }\n",
       "\n",
       "    .dataframe thead th {\n",
       "        text-align: right;\n",
       "    }\n",
       "</style>\n",
       "<table border=\"1\" class=\"dataframe\">\n",
       "  <thead>\n",
       "    <tr style=\"text-align: right;\">\n",
       "      <th></th>\n",
       "      <th>Term</th>\n",
       "      <th>Concept</th>\n",
       "      <th>Concept_id</th>\n",
       "      <th>Similarity</th>\n",
       "    </tr>\n",
       "  </thead>\n",
       "  <tbody>\n",
       "    <tr>\n",
       "      <th>0</th>\n",
       "      <td>1 rest heart frequency</td>\n",
       "      <td>radiate chest pain</td>\n",
       "      <td>4001098</td>\n",
       "      <td>0.0</td>\n",
       "    </tr>\n",
       "    <tr>\n",
       "      <th>1</th>\n",
       "      <td>1 rest heart frequency</td>\n",
       "      <td>urine tryptophan creatinine ratio</td>\n",
       "      <td>37392117</td>\n",
       "      <td>0.0</td>\n",
       "    </tr>\n",
       "    <tr>\n",
       "      <th>2</th>\n",
       "      <td>1 rest heart frequency</td>\n",
       "      <td>nu hope belt leave small 6460c 70cm-78 cm leng...</td>\n",
       "      <td>46139744</td>\n",
       "      <td>0.0</td>\n",
       "    </tr>\n",
       "    <tr>\n",
       "      <th>3</th>\n",
       "      <td>2 rest heart frequency</td>\n",
       "      <td>radiate chest pain</td>\n",
       "      <td>4001098</td>\n",
       "      <td>0.0</td>\n",
       "    </tr>\n",
       "    <tr>\n",
       "      <th>4</th>\n",
       "      <td>2 rest heart frequency</td>\n",
       "      <td>urine tryptophan creatinine ratio</td>\n",
       "      <td>37392117</td>\n",
       "      <td>0.0</td>\n",
       "    </tr>\n",
       "    <tr>\n",
       "      <th>...</th>\n",
       "      <td>...</td>\n",
       "      <td>...</td>\n",
       "      <td>...</td>\n",
       "      <td>...</td>\n",
       "    </tr>\n",
       "    <tr>\n",
       "      <th>235</th>\n",
       "      <td>weight reduction</td>\n",
       "      <td>urine tryptophan creatinine ratio</td>\n",
       "      <td>37392117</td>\n",
       "      <td>0.0</td>\n",
       "    </tr>\n",
       "    <tr>\n",
       "      <th>236</th>\n",
       "      <td>weight reduction</td>\n",
       "      <td>nu hope belt leave small 6460c 70cm-78 cm leng...</td>\n",
       "      <td>46139744</td>\n",
       "      <td>0.0</td>\n",
       "    </tr>\n",
       "    <tr>\n",
       "      <th>237</th>\n",
       "      <td>yogurt</td>\n",
       "      <td>radiate chest pain</td>\n",
       "      <td>4001098</td>\n",
       "      <td>0.0</td>\n",
       "    </tr>\n",
       "    <tr>\n",
       "      <th>238</th>\n",
       "      <td>yogurt</td>\n",
       "      <td>urine tryptophan creatinine ratio</td>\n",
       "      <td>37392117</td>\n",
       "      <td>0.0</td>\n",
       "    </tr>\n",
       "    <tr>\n",
       "      <th>239</th>\n",
       "      <td>yogurt</td>\n",
       "      <td>nu hope belt leave small 6460c 70cm-78 cm leng...</td>\n",
       "      <td>46139744</td>\n",
       "      <td>0.0</td>\n",
       "    </tr>\n",
       "  </tbody>\n",
       "</table>\n",
       "<p>240 rows × 4 columns</p>\n",
       "</div>"
      ],
      "text/plain": [
       "                       Term  \\\n",
       "0    1 rest heart frequency   \n",
       "1    1 rest heart frequency   \n",
       "2    1 rest heart frequency   \n",
       "3    2 rest heart frequency   \n",
       "4    2 rest heart frequency   \n",
       "..                      ...   \n",
       "235        weight reduction   \n",
       "236        weight reduction   \n",
       "237                  yogurt   \n",
       "238                  yogurt   \n",
       "239                  yogurt   \n",
       "\n",
       "                                               Concept  Concept_id  Similarity  \n",
       "0                                   radiate chest pain     4001098         0.0  \n",
       "1                    urine tryptophan creatinine ratio    37392117         0.0  \n",
       "2    nu hope belt leave small 6460c 70cm-78 cm leng...    46139744         0.0  \n",
       "3                                   radiate chest pain     4001098         0.0  \n",
       "4                    urine tryptophan creatinine ratio    37392117         0.0  \n",
       "..                                                 ...         ...         ...  \n",
       "235                  urine tryptophan creatinine ratio    37392117         0.0  \n",
       "236  nu hope belt leave small 6460c 70cm-78 cm leng...    46139744         0.0  \n",
       "237                                 radiate chest pain     4001098         0.0  \n",
       "238                  urine tryptophan creatinine ratio    37392117         0.0  \n",
       "239  nu hope belt leave small 6460c 70cm-78 cm leng...    46139744         0.0  \n",
       "\n",
       "[240 rows x 4 columns]"
      ]
     },
     "execution_count": 18,
     "metadata": {},
     "output_type": "execute_result"
    }
   ],
   "source": [
    "df"
   ]
  },
  {
   "cell_type": "code",
   "execution_count": null,
   "metadata": {},
   "outputs": [],
   "source": [
    "df.to_csv('result.csv')"
   ]
  }
 ],
 "metadata": {
  "interpreter": {
   "hash": "949777d72b0d2535278d3dc13498b2535136f6dfe0678499012e853ee9abcab1"
  },
  "kernelspec": {
   "display_name": "Python 3",
   "language": "python",
   "name": "python3"
  },
  "language_info": {
   "codemirror_mode": {
    "name": "ipython",
    "version": 3
   },
   "file_extension": ".py",
   "mimetype": "text/x-python",
   "name": "python",
   "nbconvert_exporter": "python",
   "pygments_lexer": "ipython3",
   "version": "3.10.2"
  }
 },
 "nbformat": 4,
 "nbformat_minor": 4
}
