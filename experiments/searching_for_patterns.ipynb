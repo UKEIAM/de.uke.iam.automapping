{
 "cells": [
  {
   "cell_type": "code",
   "execution_count": 13,
   "metadata": {},
   "outputs": [],
   "source": [
    "import spacy\n",
    "import pandas as pd\n",
    "import numpy as np\n",
    "import seaborn as sns"
   ]
  },
  {
   "cell_type": "code",
   "execution_count": 2,
   "metadata": {},
   "outputs": [],
   "source": [
    "nlp=spacy.load('de_core_news_lg')"
   ]
  },
  {
   "cell_type": "code",
   "execution_count": 3,
   "metadata": {},
   "outputs": [
    {
     "name": "stdout",
     "output_type": "stream",
     "text": [
      "Data length 1033 and length of unique data 959\n"
     ]
    }
   ],
   "source": [
    "HCHS_data=pd.read_excel('/workspaces/de.uke.iam.automapping/experiments/VM_Soarian_HCHS_20210422.xlsx')\n",
    "print(f\"Data length {len(HCHS_data['Langname']) } and length of unique data {len(HCHS_data['Langname'].unique())}\")"
   ]
  },
  {
   "cell_type": "code",
   "execution_count": 4,
   "metadata": {},
   "outputs": [],
   "source": [
    "HCHS_data['Langname']=HCHS_data['Langname'].replace([' ', ''], np.nan)\n",
    "HCHS_Langname=HCHS_data['Langname'].str.strip()\n",
    "HCHS_Langname=HCHS_Langname.dropna(axis=0)"
   ]
  },
  {
   "cell_type": "code",
   "execution_count": 5,
   "metadata": {},
   "outputs": [],
   "source": [
    "HCHS_Langname=HCHS_Langname.unique()"
   ]
  },
  {
   "cell_type": "code",
   "execution_count": 8,
   "metadata": {},
   "outputs": [],
   "source": [
    "docs=nlp.pipe(HCHS_Langname)"
   ]
  },
  {
   "cell_type": "markdown",
   "metadata": {},
   "source": [
    "#### General analysis"
   ]
  },
  {
   "cell_type": "code",
   "execution_count": 6,
   "metadata": {},
   "outputs": [],
   "source": [
    "def extract_tokens_plus_meta(doc:spacy.tokens.doc.Doc):\n",
    "    \"\"\"Extract tokens and metadata from individual spaCy doc.\"\"\"\n",
    "    return [\n",
    "        (i.text, i.i, i.lemma_, i.ent_type_, i.tag_, \n",
    "         i.dep_, i.pos_, i.is_stop, i.is_alpha, \n",
    "         i.is_digit, i.is_punct, i.has_vector) for i in doc\n",
    "    ]"
   ]
  },
  {
   "cell_type": "code",
   "execution_count": 7,
   "metadata": {},
   "outputs": [],
   "source": [
    "def tidy_tokens(docs):\n",
    "    \"\"\"Extract tokens and metadata from list of spaCy docs.\"\"\"\n",
    "    \n",
    "    cols = [\n",
    "        \"doc_id\", \"token\", \"token_order\", \"lemma\", \n",
    "        \"ent_type\", \"tag\", \"dep\", \"pos\", \"is_stop\", \n",
    "        \"is_alpha\", \"is_digit\", \"is_punct\", \"has_vector\"\n",
    "    ]\n",
    "    \n",
    "    meta_df = []\n",
    "    for ix, doc in enumerate(docs):\n",
    "        meta = extract_tokens_plus_meta(doc)\n",
    "        meta = pd.DataFrame(meta)\n",
    "        #print(meta)\n",
    "        meta.columns = cols[1:]\n",
    "        meta = meta.assign(doc_id = ix).loc[:, cols]\n",
    "        meta_df.append(meta)\n",
    "        \n",
    "    return pd.concat(meta_df) "
   ]
  },
  {
   "cell_type": "code",
   "execution_count": 9,
   "metadata": {},
   "outputs": [],
   "source": [
    "df=tidy_tokens(docs)"
   ]
  },
  {
   "cell_type": "code",
   "execution_count": 10,
   "metadata": {},
   "outputs": [
    {
     "data": {
      "image/png": "[encoded data removed]",
      "text/plain": [
       "<Figure size 1008x504 with 1 Axes>"
      ]
     },
     "metadata": {
      "needs_background": "light"
     },
     "output_type": "display_data"
    }
   ],
   "source": [
    "#distibution according number of words per string\n",
    "df.groupby(\"doc_id\").size().hist(figsize=(14, 7), color=\"red\", alpha=.4, bins=15);"
   ]
  },
  {
   "cell_type": "code",
   "execution_count": 15,
   "metadata": {},
   "outputs": [],
   "source": [
    "#number of strings which consist verb, or noun, or adjective, or proper noun, or other \n",
    "name=['without filter', 'verb', 'noun', 'adjective', 'adverb', ' proper noun', 'other']\n",
    "result=[df.doc_id.value_counts().size, df.query(\"pos=='VERB'\").doc_id.value_counts().size, df.query(\"pos=='NOUN'\").doc_id.value_counts().size,\n",
    "    df.query(\"pos=='ADJ'\").doc_id.value_counts().size, df.query(\"pos=='ADV'\").doc_id.value_counts().size,\n",
    "    df.query(\"pos=='PROPN'\").doc_id.value_counts().size, df.query(\"pos=='X'\").doc_id.value_counts().size]\n",
    "\n",
    "list_tuples = list(zip(name, result)) \n",
    "\n",
    "df_2=pd.DataFrame(list_tuples, columns=['filter', 'count_per_doc'])"
   ]
  },
  {
   "cell_type": "code",
   "execution_count": 16,
   "metadata": {},
   "outputs": [
    {
     "data": {
      "text/plain": [
       "<AxesSubplot:xlabel='filter', ylabel='count_per_doc'>"
      ]
     },
     "execution_count": 16,
     "metadata": {},
     "output_type": "execute_result"
    },
    {
     "data": {
      "image/png": "[encoded data removed]",
      "text/plain": [
       "<Figure size 432x288 with 1 Axes>"
      ]
     },
     "metadata": {
      "needs_background": "light"
     },
     "output_type": "display_data"
    }
   ],
   "source": [
    "sns.barplot(data=df_2, x='filter', y='count_per_doc', palette=\"Blues_d\")"
   ]
  },
  {
   "cell_type": "code",
   "execution_count": 22,
   "metadata": {},
   "outputs": [],
   "source": [
    "#examples of each part of speech\n",
    "name=['noun', 'adverb', 'verb', 'other', 'adjective']\n",
    "result=[df[df['pos']=='NOUN'].token.unique()[0:3], df[df['pos']=='ADV'].token.unique()[0:3],\n",
    "    df[df['pos']=='VERB'].token.unique()[0:3], df[df['pos']=='X'].token.unique()[0:3],\n",
    "    df[df['pos']=='ADJ'].token.unique()[0:3]]\n",
    "\n",
    "list_tuples = list(zip(name, result)) \n",
    "examples=pd.DataFrame(list_tuples, columns=['part of speech', 'example'])"
   ]
  },
  {
   "cell_type": "code",
   "execution_count": 23,
   "metadata": {},
   "outputs": [
    {
     "data": {
      "text/html": [
       "<div>\n",
       "<style scoped>\n",
       "    .dataframe tbody tr th:only-of-type {\n",
       "        vertical-align: middle;\n",
       "    }\n",
       "\n",
       "    .dataframe tbody tr th {\n",
       "        vertical-align: top;\n",
       "    }\n",
       "\n",
       "    .dataframe thead th {\n",
       "        text-align: right;\n",
       "    }\n",
       "</style>\n",
       "<table border=\"1\" class=\"dataframe\">\n",
       "  <thead>\n",
       "    <tr style=\"text-align: right;\">\n",
       "      <th></th>\n",
       "      <th>part of speech</th>\n",
       "      <th>example</th>\n",
       "    </tr>\n",
       "  </thead>\n",
       "  <tbody>\n",
       "    <tr>\n",
       "      <th>0</th>\n",
       "      <td>noun</td>\n",
       "      <td>[Arzt, Demenz, Diabetes]</td>\n",
       "    </tr>\n",
       "    <tr>\n",
       "      <th>1</th>\n",
       "      <td>adverb</td>\n",
       "      <td>[Wann, bereits, bekannt]</td>\n",
       "    </tr>\n",
       "    <tr>\n",
       "      <th>2</th>\n",
       "      <td>verb</td>\n",
       "      <td>[Liegt, diagnostizierte, diagnostiziert]</td>\n",
       "    </tr>\n",
       "    <tr>\n",
       "      <th>3</th>\n",
       "      <td>other</td>\n",
       "      <td>[a, Monovette, Pulse]</td>\n",
       "    </tr>\n",
       "    <tr>\n",
       "      <th>4</th>\n",
       "      <td>adjective</td>\n",
       "      <td>[diagnostizierte, diagnostizierter, letzte]</td>\n",
       "    </tr>\n",
       "  </tbody>\n",
       "</table>\n",
       "</div>"
      ],
      "text/plain": [
       "  part of speech                                      example\n",
       "0           noun                     [Arzt, Demenz, Diabetes]\n",
       "1         adverb                     [Wann, bereits, bekannt]\n",
       "2           verb     [Liegt, diagnostizierte, diagnostiziert]\n",
       "3          other                        [a, Monovette, Pulse]\n",
       "4      adjective  [diagnostizierte, diagnostizierter, letzte]"
      ]
     },
     "execution_count": 23,
     "metadata": {},
     "output_type": "execute_result"
    }
   ],
   "source": [
    "examples"
   ]
  },
  {
   "cell_type": "markdown",
   "metadata": {},
   "source": [
    "#### Local analysis"
   ]
  },
  {
   "cell_type": "code",
   "execution_count": 24,
   "metadata": {},
   "outputs": [],
   "source": [
    "from spacy import displacy#for dependencies"
   ]
  },
  {
   "cell_type": "code",
   "execution_count": 25,
   "metadata": {},
   "outputs": [
    {
     "data": {
      "text/html": [
       "<span class=\"tex2jax_ignore\"><svg xmlns=\"http://www.w3.org/2000/svg\" xmlns:xlink=\"http://www.w3.org/1999/xlink\" xml:lang=\"de\" id=\"b8874a0ec3ad43beb211503911dee947-0\" class=\"displacy\" width=\"905\" height=\"374.5\" direction=\"ltr\" style=\"max-width: none; height: 374.5px; color: #000000; background: #ffffff; font-family: Arial; direction: ltr\">\n",
       "<text class=\"displacy-token\" fill=\"currentColor\" text-anchor=\"middle\" y=\"284.5\">\n",
       "    <tspan class=\"displacy-word\" fill=\"currentColor\" x=\"50\">Liegt</tspan>\n",
       "    <tspan class=\"displacy-tag\" dy=\"2em\" fill=\"currentColor\" x=\"50\">VERB</tspan>\n",
       "</text>\n",
       "\n",
       "<text class=\"displacy-token\" fill=\"currentColor\" text-anchor=\"middle\" y=\"284.5\">\n",
       "    <tspan class=\"displacy-word\" fill=\"currentColor\" x=\"145\">bei</tspan>\n",
       "    <tspan class=\"displacy-tag\" dy=\"2em\" fill=\"currentColor\" x=\"145\">ADP</tspan>\n",
       "</text>\n",
       "\n",
       "<text class=\"displacy-token\" fill=\"currentColor\" text-anchor=\"middle\" y=\"284.5\">\n",
       "    <tspan class=\"displacy-word\" fill=\"currentColor\" x=\"240\">ihnen</tspan>\n",
       "    <tspan class=\"displacy-tag\" dy=\"2em\" fill=\"currentColor\" x=\"240\">PRON</tspan>\n",
       "</text>\n",
       "\n",
       "<text class=\"displacy-token\" fill=\"currentColor\" text-anchor=\"middle\" y=\"284.5\">\n",
       "    <tspan class=\"displacy-word\" fill=\"currentColor\" x=\"335\">eine</tspan>\n",
       "    <tspan class=\"displacy-tag\" dy=\"2em\" fill=\"currentColor\" x=\"335\">DET</tspan>\n",
       "</text>\n",
       "\n",
       "<text class=\"displacy-token\" fill=\"currentColor\" text-anchor=\"middle\" y=\"284.5\">\n",
       "    <tspan class=\"displacy-word\" fill=\"currentColor\" x=\"430\">vom</tspan>\n",
       "    <tspan class=\"displacy-tag\" dy=\"2em\" fill=\"currentColor\" x=\"430\">ADP</tspan>\n",
       "</text>\n",
       "\n",
       "<text class=\"displacy-token\" fill=\"currentColor\" text-anchor=\"middle\" y=\"284.5\">\n",
       "    <tspan class=\"displacy-word\" fill=\"currentColor\" x=\"525\">Arzt</tspan>\n",
       "    <tspan class=\"displacy-tag\" dy=\"2em\" fill=\"currentColor\" x=\"525\">NOUN</tspan>\n",
       "</text>\n",
       "\n",
       "<text class=\"displacy-token\" fill=\"currentColor\" text-anchor=\"middle\" y=\"284.5\">\n",
       "    <tspan class=\"displacy-word\" fill=\"currentColor\" x=\"620\">diagnostizierte</tspan>\n",
       "    <tspan class=\"displacy-tag\" dy=\"2em\" fill=\"currentColor\" x=\"620\">ADJ</tspan>\n",
       "</text>\n",
       "\n",
       "<text class=\"displacy-token\" fill=\"currentColor\" text-anchor=\"middle\" y=\"284.5\">\n",
       "    <tspan class=\"displacy-word\" fill=\"currentColor\" x=\"715\">Demenz</tspan>\n",
       "    <tspan class=\"displacy-tag\" dy=\"2em\" fill=\"currentColor\" x=\"715\">NOUN</tspan>\n",
       "</text>\n",
       "\n",
       "<text class=\"displacy-token\" fill=\"currentColor\" text-anchor=\"middle\" y=\"284.5\">\n",
       "    <tspan class=\"displacy-word\" fill=\"currentColor\" x=\"810\">vor</tspan>\n",
       "    <tspan class=\"displacy-tag\" dy=\"2em\" fill=\"currentColor\" x=\"810\">ADP</tspan>\n",
       "</text>\n",
       "\n",
       "<g class=\"displacy-arrow\">\n",
       "    <path class=\"displacy-arc\" id=\"arrow-b8874a0ec3ad43beb211503911dee947-0-0\" stroke-width=\"2px\" d=\"M70,239.5 C70,192.0 125.0,192.0 125.0,239.5\" fill=\"none\" stroke=\"currentColor\"/>\n",
       "    <text dy=\"1.25em\" style=\"font-size: 0.8em; letter-spacing: 1px\">\n",
       "        <textPath xlink:href=\"#arrow-b8874a0ec3ad43beb211503911dee947-0-0\" class=\"displacy-label\" startOffset=\"50%\" side=\"left\" fill=\"currentColor\" text-anchor=\"middle\">mo</textPath>\n",
       "    </text>\n",
       "    <path class=\"displacy-arrowhead\" d=\"M125.0,241.5 L133.0,229.5 117.0,229.5\" fill=\"currentColor\"/>\n",
       "</g>\n",
       "\n",
       "<g class=\"displacy-arrow\">\n",
       "    <path class=\"displacy-arc\" id=\"arrow-b8874a0ec3ad43beb211503911dee947-0-1\" stroke-width=\"2px\" d=\"M165,239.5 C165,192.0 220.0,192.0 220.0,239.5\" fill=\"none\" stroke=\"currentColor\"/>\n",
       "    <text dy=\"1.25em\" style=\"font-size: 0.8em; letter-spacing: 1px\">\n",
       "        <textPath xlink:href=\"#arrow-b8874a0ec3ad43beb211503911dee947-0-1\" class=\"displacy-label\" startOffset=\"50%\" side=\"left\" fill=\"currentColor\" text-anchor=\"middle\">nk</textPath>\n",
       "    </text>\n",
       "    <path class=\"displacy-arrowhead\" d=\"M220.0,241.5 L228.0,229.5 212.0,229.5\" fill=\"currentColor\"/>\n",
       "</g>\n",
       "\n",
       "<g class=\"displacy-arrow\">\n",
       "    <path class=\"displacy-arc\" id=\"arrow-b8874a0ec3ad43beb211503911dee947-0-2\" stroke-width=\"2px\" d=\"M355,239.5 C355,97.0 705.0,97.0 705.0,239.5\" fill=\"none\" stroke=\"currentColor\"/>\n",
       "    <text dy=\"1.25em\" style=\"font-size: 0.8em; letter-spacing: 1px\">\n",
       "        <textPath xlink:href=\"#arrow-b8874a0ec3ad43beb211503911dee947-0-2\" class=\"displacy-label\" startOffset=\"50%\" side=\"left\" fill=\"currentColor\" text-anchor=\"middle\">nk</textPath>\n",
       "    </text>\n",
       "    <path class=\"displacy-arrowhead\" d=\"M355,241.5 L347,229.5 363,229.5\" fill=\"currentColor\"/>\n",
       "</g>\n",
       "\n",
       "<g class=\"displacy-arrow\">\n",
       "    <path class=\"displacy-arc\" id=\"arrow-b8874a0ec3ad43beb211503911dee947-0-3\" stroke-width=\"2px\" d=\"M450,239.5 C450,144.5 605.0,144.5 605.0,239.5\" fill=\"none\" stroke=\"currentColor\"/>\n",
       "    <text dy=\"1.25em\" style=\"font-size: 0.8em; letter-spacing: 1px\">\n",
       "        <textPath xlink:href=\"#arrow-b8874a0ec3ad43beb211503911dee947-0-3\" class=\"displacy-label\" startOffset=\"50%\" side=\"left\" fill=\"currentColor\" text-anchor=\"middle\">sbp</textPath>\n",
       "    </text>\n",
       "    <path class=\"displacy-arrowhead\" d=\"M450,241.5 L442,229.5 458,229.5\" fill=\"currentColor\"/>\n",
       "</g>\n",
       "\n",
       "<g class=\"displacy-arrow\">\n",
       "    <path class=\"displacy-arc\" id=\"arrow-b8874a0ec3ad43beb211503911dee947-0-4\" stroke-width=\"2px\" d=\"M450,239.5 C450,192.0 505.0,192.0 505.0,239.5\" fill=\"none\" stroke=\"currentColor\"/>\n",
       "    <text dy=\"1.25em\" style=\"font-size: 0.8em; letter-spacing: 1px\">\n",
       "        <textPath xlink:href=\"#arrow-b8874a0ec3ad43beb211503911dee947-0-4\" class=\"displacy-label\" startOffset=\"50%\" side=\"left\" fill=\"currentColor\" text-anchor=\"middle\">nk</textPath>\n",
       "    </text>\n",
       "    <path class=\"displacy-arrowhead\" d=\"M505.0,241.5 L513.0,229.5 497.0,229.5\" fill=\"currentColor\"/>\n",
       "</g>\n",
       "\n",
       "<g class=\"displacy-arrow\">\n",
       "    <path class=\"displacy-arc\" id=\"arrow-b8874a0ec3ad43beb211503911dee947-0-5\" stroke-width=\"2px\" d=\"M640,239.5 C640,192.0 695.0,192.0 695.0,239.5\" fill=\"none\" stroke=\"currentColor\"/>\n",
       "    <text dy=\"1.25em\" style=\"font-size: 0.8em; letter-spacing: 1px\">\n",
       "        <textPath xlink:href=\"#arrow-b8874a0ec3ad43beb211503911dee947-0-5\" class=\"displacy-label\" startOffset=\"50%\" side=\"left\" fill=\"currentColor\" text-anchor=\"middle\">nk</textPath>\n",
       "    </text>\n",
       "    <path class=\"displacy-arrowhead\" d=\"M640,241.5 L632,229.5 648,229.5\" fill=\"currentColor\"/>\n",
       "</g>\n",
       "\n",
       "<g class=\"displacy-arrow\">\n",
       "    <path class=\"displacy-arc\" id=\"arrow-b8874a0ec3ad43beb211503911dee947-0-6\" stroke-width=\"2px\" d=\"M70,239.5 C70,49.5 710.0,49.5 710.0,239.5\" fill=\"none\" stroke=\"currentColor\"/>\n",
       "    <text dy=\"1.25em\" style=\"font-size: 0.8em; letter-spacing: 1px\">\n",
       "        <textPath xlink:href=\"#arrow-b8874a0ec3ad43beb211503911dee947-0-6\" class=\"displacy-label\" startOffset=\"50%\" side=\"left\" fill=\"currentColor\" text-anchor=\"middle\">sb</textPath>\n",
       "    </text>\n",
       "    <path class=\"displacy-arrowhead\" d=\"M710.0,241.5 L718.0,229.5 702.0,229.5\" fill=\"currentColor\"/>\n",
       "</g>\n",
       "\n",
       "<g class=\"displacy-arrow\">\n",
       "    <path class=\"displacy-arc\" id=\"arrow-b8874a0ec3ad43beb211503911dee947-0-7\" stroke-width=\"2px\" d=\"M70,239.5 C70,2.0 810.0,2.0 810.0,239.5\" fill=\"none\" stroke=\"currentColor\"/>\n",
       "    <text dy=\"1.25em\" style=\"font-size: 0.8em; letter-spacing: 1px\">\n",
       "        <textPath xlink:href=\"#arrow-b8874a0ec3ad43beb211503911dee947-0-7\" class=\"displacy-label\" startOffset=\"50%\" side=\"left\" fill=\"currentColor\" text-anchor=\"middle\">svp</textPath>\n",
       "    </text>\n",
       "    <path class=\"displacy-arrowhead\" d=\"M810.0,241.5 L818.0,229.5 802.0,229.5\" fill=\"currentColor\"/>\n",
       "</g>\n",
       "</svg></span>"
      ],
      "text/plain": [
       "<IPython.core.display.HTML object>"
      ]
     },
     "metadata": {},
     "output_type": "display_data"
    }
   ],
   "source": [
    "sentence=nlp('Liegt bei ihnen eine vom Arzt diagnostizierte Demenz vor')\n",
    "displacy.render(sentence, style='dep', jupyter=True, options={'distance':95})"
   ]
  },
  {
   "cell_type": "code",
   "execution_count": 26,
   "metadata": {},
   "outputs": [
    {
     "data": {
      "text/plain": [
       "[897, 771, 899, 900, 776]"
      ]
     },
     "execution_count": 26,
     "metadata": {},
     "output_type": "execute_result"
    }
   ],
   "source": [
    "#check examples strings without noun \n",
    "docs_with_noun= df[df['pos']=='NOUN']['doc_id'].unique()\n",
    "list_of_all=df['doc_id'].unique()\n",
    "docs_without_noun=list(set(list_of_all)-set(docs_with_noun))\n",
    "docs_without_noun[0:5]"
   ]
  },
  {
   "cell_type": "code",
   "execution_count": 29,
   "metadata": {},
   "outputs": [
    {
     "data": {
      "text/plain": [
       "array(['Ferritin', 'Flußsignal der Arteria femoralis communis links',\n",
       "       'GFR', 'GFR (CKD-EPI)', 'Flußsignal der Arteria poplitea rechts'],\n",
       "      dtype=object)"
      ]
     },
     "execution_count": 29,
     "metadata": {},
     "output_type": "execute_result"
    }
   ],
   "source": [
    "HCHS_Langname[docs_without_noun[0:5]]"
   ]
  },
  {
   "cell_type": "code",
   "execution_count": 30,
   "metadata": {},
   "outputs": [
    {
     "data": {
      "text/plain": [
       "'Wo sind wir hier?'"
      ]
     },
     "execution_count": 30,
     "metadata": {},
     "output_type": "execute_result"
    }
   ],
   "source": [
    "#don't know what is it\n",
    "HCHS_Langname[608]"
   ]
  },
  {
   "cell_type": "code",
   "execution_count": 32,
   "metadata": {},
   "outputs": [
    {
     "data": {
      "text/html": [
       "<span class=\"tex2jax_ignore\"><svg xmlns=\"http://www.w3.org/2000/svg\" xmlns:xlink=\"http://www.w3.org/1999/xlink\" xml:lang=\"de\" id=\"09cd6010bbc04f758237e45242e0f5e7-0\" class=\"displacy\" width=\"145\" height=\"137.0\" direction=\"ltr\" style=\"max-width: none; height: 137.0px; color: #000000; background: #ffffff; font-family: Arial; direction: ltr\">\n",
       "<text class=\"displacy-token\" fill=\"currentColor\" text-anchor=\"middle\" y=\"47.0\">\n",
       "    <tspan class=\"displacy-word\" fill=\"currentColor\" x=\"50\">Ferritin</tspan>\n",
       "    <tspan class=\"displacy-tag\" dy=\"2em\" fill=\"currentColor\" x=\"50\">PROPN</tspan>\n",
       "</text>\n",
       "</svg></span>"
      ],
      "text/plain": [
       "<IPython.core.display.HTML object>"
      ]
     },
     "metadata": {},
     "output_type": "display_data"
    },
    {
     "data": {
      "text/html": [
       "<span class=\"tex2jax_ignore\"><svg xmlns=\"http://www.w3.org/2000/svg\" xmlns:xlink=\"http://www.w3.org/1999/xlink\" xml:lang=\"de\" id=\"af1cb4535a474f84a528b0acbb0be938-0\" class=\"displacy\" width=\"620\" height=\"279.5\" direction=\"ltr\" style=\"max-width: none; height: 279.5px; color: #000000; background: #ffffff; font-family: Arial; direction: ltr\">\n",
       "<text class=\"displacy-token\" fill=\"currentColor\" text-anchor=\"middle\" y=\"189.5\">\n",
       "    <tspan class=\"displacy-word\" fill=\"currentColor\" x=\"50\">Flußsignal</tspan>\n",
       "    <tspan class=\"displacy-tag\" dy=\"2em\" fill=\"currentColor\" x=\"50\">ADV</tspan>\n",
       "</text>\n",
       "\n",
       "<text class=\"displacy-token\" fill=\"currentColor\" text-anchor=\"middle\" y=\"189.5\">\n",
       "    <tspan class=\"displacy-word\" fill=\"currentColor\" x=\"145\">der</tspan>\n",
       "    <tspan class=\"displacy-tag\" dy=\"2em\" fill=\"currentColor\" x=\"145\">DET</tspan>\n",
       "</text>\n",
       "\n",
       "<text class=\"displacy-token\" fill=\"currentColor\" text-anchor=\"middle\" y=\"189.5\">\n",
       "    <tspan class=\"displacy-word\" fill=\"currentColor\" x=\"240\">Arteria</tspan>\n",
       "    <tspan class=\"displacy-tag\" dy=\"2em\" fill=\"currentColor\" x=\"240\">X</tspan>\n",
       "</text>\n",
       "\n",
       "<text class=\"displacy-token\" fill=\"currentColor\" text-anchor=\"middle\" y=\"189.5\">\n",
       "    <tspan class=\"displacy-word\" fill=\"currentColor\" x=\"335\">femoralis</tspan>\n",
       "    <tspan class=\"displacy-tag\" dy=\"2em\" fill=\"currentColor\" x=\"335\">X</tspan>\n",
       "</text>\n",
       "\n",
       "<text class=\"displacy-token\" fill=\"currentColor\" text-anchor=\"middle\" y=\"189.5\">\n",
       "    <tspan class=\"displacy-word\" fill=\"currentColor\" x=\"430\">communis</tspan>\n",
       "    <tspan class=\"displacy-tag\" dy=\"2em\" fill=\"currentColor\" x=\"430\">X</tspan>\n",
       "</text>\n",
       "\n",
       "<text class=\"displacy-token\" fill=\"currentColor\" text-anchor=\"middle\" y=\"189.5\">\n",
       "    <tspan class=\"displacy-word\" fill=\"currentColor\" x=\"525\">links</tspan>\n",
       "    <tspan class=\"displacy-tag\" dy=\"2em\" fill=\"currentColor\" x=\"525\">ADV</tspan>\n",
       "</text>\n",
       "\n",
       "<g class=\"displacy-arrow\">\n",
       "    <path class=\"displacy-arc\" id=\"arrow-af1cb4535a474f84a528b0acbb0be938-0-0\" stroke-width=\"2px\" d=\"M165,144.5 C165,97.0 230.0,97.0 230.0,144.5\" fill=\"none\" stroke=\"currentColor\"/>\n",
       "    <text dy=\"1.25em\" style=\"font-size: 0.8em; letter-spacing: 1px\">\n",
       "        <textPath xlink:href=\"#arrow-af1cb4535a474f84a528b0acbb0be938-0-0\" class=\"displacy-label\" startOffset=\"50%\" side=\"left\" fill=\"currentColor\" text-anchor=\"middle\">nk</textPath>\n",
       "    </text>\n",
       "    <path class=\"displacy-arrowhead\" d=\"M165,146.5 L157,134.5 173,134.5\" fill=\"currentColor\"/>\n",
       "</g>\n",
       "\n",
       "<g class=\"displacy-arrow\">\n",
       "    <path class=\"displacy-arc\" id=\"arrow-af1cb4535a474f84a528b0acbb0be938-0-1\" stroke-width=\"2px\" d=\"M70,144.5 C70,49.5 235.0,49.5 235.0,144.5\" fill=\"none\" stroke=\"currentColor\"/>\n",
       "    <text dy=\"1.25em\" style=\"font-size: 0.8em; letter-spacing: 1px\">\n",
       "        <textPath xlink:href=\"#arrow-af1cb4535a474f84a528b0acbb0be938-0-1\" class=\"displacy-label\" startOffset=\"50%\" side=\"left\" fill=\"currentColor\" text-anchor=\"middle\">mo</textPath>\n",
       "    </text>\n",
       "    <path class=\"displacy-arrowhead\" d=\"M235.0,146.5 L243.0,134.5 227.0,134.5\" fill=\"currentColor\"/>\n",
       "</g>\n",
       "\n",
       "<g class=\"displacy-arrow\">\n",
       "    <path class=\"displacy-arc\" id=\"arrow-af1cb4535a474f84a528b0acbb0be938-0-2\" stroke-width=\"2px\" d=\"M260,144.5 C260,97.0 325.0,97.0 325.0,144.5\" fill=\"none\" stroke=\"currentColor\"/>\n",
       "    <text dy=\"1.25em\" style=\"font-size: 0.8em; letter-spacing: 1px\">\n",
       "        <textPath xlink:href=\"#arrow-af1cb4535a474f84a528b0acbb0be938-0-2\" class=\"displacy-label\" startOffset=\"50%\" side=\"left\" fill=\"currentColor\" text-anchor=\"middle\">uc</textPath>\n",
       "    </text>\n",
       "    <path class=\"displacy-arrowhead\" d=\"M325.0,146.5 L333.0,134.5 317.0,134.5\" fill=\"currentColor\"/>\n",
       "</g>\n",
       "\n",
       "<g class=\"displacy-arrow\">\n",
       "    <path class=\"displacy-arc\" id=\"arrow-af1cb4535a474f84a528b0acbb0be938-0-3\" stroke-width=\"2px\" d=\"M355,144.5 C355,97.0 420.0,97.0 420.0,144.5\" fill=\"none\" stroke=\"currentColor\"/>\n",
       "    <text dy=\"1.25em\" style=\"font-size: 0.8em; letter-spacing: 1px\">\n",
       "        <textPath xlink:href=\"#arrow-af1cb4535a474f84a528b0acbb0be938-0-3\" class=\"displacy-label\" startOffset=\"50%\" side=\"left\" fill=\"currentColor\" text-anchor=\"middle\">uc</textPath>\n",
       "    </text>\n",
       "    <path class=\"displacy-arrowhead\" d=\"M420.0,146.5 L428.0,134.5 412.0,134.5\" fill=\"currentColor\"/>\n",
       "</g>\n",
       "\n",
       "<g class=\"displacy-arrow\">\n",
       "    <path class=\"displacy-arc\" id=\"arrow-af1cb4535a474f84a528b0acbb0be938-0-4\" stroke-width=\"2px\" d=\"M70,144.5 C70,2.0 525.0,2.0 525.0,144.5\" fill=\"none\" stroke=\"currentColor\"/>\n",
       "    <text dy=\"1.25em\" style=\"font-size: 0.8em; letter-spacing: 1px\">\n",
       "        <textPath xlink:href=\"#arrow-af1cb4535a474f84a528b0acbb0be938-0-4\" class=\"displacy-label\" startOffset=\"50%\" side=\"left\" fill=\"currentColor\" text-anchor=\"middle\">mo</textPath>\n",
       "    </text>\n",
       "    <path class=\"displacy-arrowhead\" d=\"M525.0,146.5 L533.0,134.5 517.0,134.5\" fill=\"currentColor\"/>\n",
       "</g>\n",
       "</svg></span>"
      ],
      "text/plain": [
       "<IPython.core.display.HTML object>"
      ]
     },
     "metadata": {},
     "output_type": "display_data"
    },
    {
     "data": {
      "text/html": [
       "<span class=\"tex2jax_ignore\"><svg xmlns=\"http://www.w3.org/2000/svg\" xmlns:xlink=\"http://www.w3.org/1999/xlink\" xml:lang=\"de\" id=\"041df4e71fb24917ba8dfb14513b352f-0\" class=\"displacy\" width=\"145\" height=\"137.0\" direction=\"ltr\" style=\"max-width: none; height: 137.0px; color: #000000; background: #ffffff; font-family: Arial; direction: ltr\">\n",
       "<text class=\"displacy-token\" fill=\"currentColor\" text-anchor=\"middle\" y=\"47.0\">\n",
       "    <tspan class=\"displacy-word\" fill=\"currentColor\" x=\"50\">GFR</tspan>\n",
       "    <tspan class=\"displacy-tag\" dy=\"2em\" fill=\"currentColor\" x=\"50\">PROPN</tspan>\n",
       "</text>\n",
       "</svg></span>"
      ],
      "text/plain": [
       "<IPython.core.display.HTML object>"
      ]
     },
     "metadata": {},
     "output_type": "display_data"
    },
    {
     "data": {
      "text/html": [
       "<span class=\"tex2jax_ignore\"><svg xmlns=\"http://www.w3.org/2000/svg\" xmlns:xlink=\"http://www.w3.org/1999/xlink\" xml:lang=\"de\" id=\"c59d7842868f434f9d54eca3ee74dbe1-0\" class=\"displacy\" width=\"240\" height=\"184.5\" direction=\"ltr\" style=\"max-width: none; height: 184.5px; color: #000000; background: #ffffff; font-family: Arial; direction: ltr\">\n",
       "<text class=\"displacy-token\" fill=\"currentColor\" text-anchor=\"middle\" y=\"94.5\">\n",
       "    <tspan class=\"displacy-word\" fill=\"currentColor\" x=\"50\">GFR (</tspan>\n",
       "    <tspan class=\"displacy-tag\" dy=\"2em\" fill=\"currentColor\" x=\"50\">PROPN</tspan>\n",
       "</text>\n",
       "\n",
       "<text class=\"displacy-token\" fill=\"currentColor\" text-anchor=\"middle\" y=\"94.5\">\n",
       "    <tspan class=\"displacy-word\" fill=\"currentColor\" x=\"145\">CKD-EPI)</tspan>\n",
       "    <tspan class=\"displacy-tag\" dy=\"2em\" fill=\"currentColor\" x=\"145\">PROPN</tspan>\n",
       "</text>\n",
       "\n",
       "<g class=\"displacy-arrow\">\n",
       "    <path class=\"displacy-arc\" id=\"arrow-c59d7842868f434f9d54eca3ee74dbe1-0-0\" stroke-width=\"2px\" d=\"M70,49.5 C70,2.0 145.0,2.0 145.0,49.5\" fill=\"none\" stroke=\"currentColor\"/>\n",
       "    <text dy=\"1.25em\" style=\"font-size: 0.8em; letter-spacing: 1px\">\n",
       "        <textPath xlink:href=\"#arrow-c59d7842868f434f9d54eca3ee74dbe1-0-0\" class=\"displacy-label\" startOffset=\"50%\" side=\"left\" fill=\"currentColor\" text-anchor=\"middle\">par</textPath>\n",
       "    </text>\n",
       "    <path class=\"displacy-arrowhead\" d=\"M145.0,51.5 L153.0,39.5 137.0,39.5\" fill=\"currentColor\"/>\n",
       "</g>\n",
       "</svg></span>"
      ],
      "text/plain": [
       "<IPython.core.display.HTML object>"
      ]
     },
     "metadata": {},
     "output_type": "display_data"
    },
    {
     "data": {
      "text/html": [
       "<span class=\"tex2jax_ignore\"><svg xmlns=\"http://www.w3.org/2000/svg\" xmlns:xlink=\"http://www.w3.org/1999/xlink\" xml:lang=\"de\" id=\"5c80cc9d1ccf47d2b01b484a0c6a45fe-0\" class=\"displacy\" width=\"525\" height=\"327.0\" direction=\"ltr\" style=\"max-width: none; height: 327.0px; color: #000000; background: #ffffff; font-family: Arial; direction: ltr\">\n",
       "<text class=\"displacy-token\" fill=\"currentColor\" text-anchor=\"middle\" y=\"237.0\">\n",
       "    <tspan class=\"displacy-word\" fill=\"currentColor\" x=\"50\">Flußsignal</tspan>\n",
       "    <tspan class=\"displacy-tag\" dy=\"2em\" fill=\"currentColor\" x=\"50\">ADV</tspan>\n",
       "</text>\n",
       "\n",
       "<text class=\"displacy-token\" fill=\"currentColor\" text-anchor=\"middle\" y=\"237.0\">\n",
       "    <tspan class=\"displacy-word\" fill=\"currentColor\" x=\"145\">der</tspan>\n",
       "    <tspan class=\"displacy-tag\" dy=\"2em\" fill=\"currentColor\" x=\"145\">DET</tspan>\n",
       "</text>\n",
       "\n",
       "<text class=\"displacy-token\" fill=\"currentColor\" text-anchor=\"middle\" y=\"237.0\">\n",
       "    <tspan class=\"displacy-word\" fill=\"currentColor\" x=\"240\">Arteria</tspan>\n",
       "    <tspan class=\"displacy-tag\" dy=\"2em\" fill=\"currentColor\" x=\"240\">NOUN</tspan>\n",
       "</text>\n",
       "\n",
       "<text class=\"displacy-token\" fill=\"currentColor\" text-anchor=\"middle\" y=\"237.0\">\n",
       "    <tspan class=\"displacy-word\" fill=\"currentColor\" x=\"335\">poplitea</tspan>\n",
       "    <tspan class=\"displacy-tag\" dy=\"2em\" fill=\"currentColor\" x=\"335\">VERB</tspan>\n",
       "</text>\n",
       "\n",
       "<text class=\"displacy-token\" fill=\"currentColor\" text-anchor=\"middle\" y=\"237.0\">\n",
       "    <tspan class=\"displacy-word\" fill=\"currentColor\" x=\"430\">rechts</tspan>\n",
       "    <tspan class=\"displacy-tag\" dy=\"2em\" fill=\"currentColor\" x=\"430\">ADV</tspan>\n",
       "</text>\n",
       "\n",
       "<g class=\"displacy-arrow\">\n",
       "    <path class=\"displacy-arc\" id=\"arrow-5c80cc9d1ccf47d2b01b484a0c6a45fe-0-0\" stroke-width=\"2px\" d=\"M165,192.0 C165,144.5 225.0,144.5 225.0,192.0\" fill=\"none\" stroke=\"currentColor\"/>\n",
       "    <text dy=\"1.25em\" style=\"font-size: 0.8em; letter-spacing: 1px\">\n",
       "        <textPath xlink:href=\"#arrow-5c80cc9d1ccf47d2b01b484a0c6a45fe-0-0\" class=\"displacy-label\" startOffset=\"50%\" side=\"left\" fill=\"currentColor\" text-anchor=\"middle\">nk</textPath>\n",
       "    </text>\n",
       "    <path class=\"displacy-arrowhead\" d=\"M165,194.0 L157,182.0 173,182.0\" fill=\"currentColor\"/>\n",
       "</g>\n",
       "\n",
       "<g class=\"displacy-arrow\">\n",
       "    <path class=\"displacy-arc\" id=\"arrow-5c80cc9d1ccf47d2b01b484a0c6a45fe-0-1\" stroke-width=\"2px\" d=\"M70,192.0 C70,97.0 230.0,97.0 230.0,192.0\" fill=\"none\" stroke=\"currentColor\"/>\n",
       "    <text dy=\"1.25em\" style=\"font-size: 0.8em; letter-spacing: 1px\">\n",
       "        <textPath xlink:href=\"#arrow-5c80cc9d1ccf47d2b01b484a0c6a45fe-0-1\" class=\"displacy-label\" startOffset=\"50%\" side=\"left\" fill=\"currentColor\" text-anchor=\"middle\">ag</textPath>\n",
       "    </text>\n",
       "    <path class=\"displacy-arrowhead\" d=\"M230.0,194.0 L238.0,182.0 222.0,182.0\" fill=\"currentColor\"/>\n",
       "</g>\n",
       "\n",
       "<g class=\"displacy-arrow\">\n",
       "    <path class=\"displacy-arc\" id=\"arrow-5c80cc9d1ccf47d2b01b484a0c6a45fe-0-2\" stroke-width=\"2px\" d=\"M70,192.0 C70,49.5 330.0,49.5 330.0,192.0\" fill=\"none\" stroke=\"currentColor\"/>\n",
       "    <text dy=\"1.25em\" style=\"font-size: 0.8em; letter-spacing: 1px\">\n",
       "        <textPath xlink:href=\"#arrow-5c80cc9d1ccf47d2b01b484a0c6a45fe-0-2\" class=\"displacy-label\" startOffset=\"50%\" side=\"left\" fill=\"currentColor\" text-anchor=\"middle\">mo</textPath>\n",
       "    </text>\n",
       "    <path class=\"displacy-arrowhead\" d=\"M330.0,194.0 L338.0,182.0 322.0,182.0\" fill=\"currentColor\"/>\n",
       "</g>\n",
       "\n",
       "<g class=\"displacy-arrow\">\n",
       "    <path class=\"displacy-arc\" id=\"arrow-5c80cc9d1ccf47d2b01b484a0c6a45fe-0-3\" stroke-width=\"2px\" d=\"M70,192.0 C70,2.0 430.0,2.0 430.0,192.0\" fill=\"none\" stroke=\"currentColor\"/>\n",
       "    <text dy=\"1.25em\" style=\"font-size: 0.8em; letter-spacing: 1px\">\n",
       "        <textPath xlink:href=\"#arrow-5c80cc9d1ccf47d2b01b484a0c6a45fe-0-3\" class=\"displacy-label\" startOffset=\"50%\" side=\"left\" fill=\"currentColor\" text-anchor=\"middle\">mo</textPath>\n",
       "    </text>\n",
       "    <path class=\"displacy-arrowhead\" d=\"M430.0,194.0 L438.0,182.0 422.0,182.0\" fill=\"currentColor\"/>\n",
       "</g>\n",
       "</svg></span>"
      ],
      "text/plain": [
       "<IPython.core.display.HTML object>"
      ]
     },
     "metadata": {},
     "output_type": "display_data"
    }
   ],
   "source": [
    "for i in HCHS_Langname[docs_without_noun[0:5]]:\n",
    "    sentence=nlp(i)\n",
    "    displacy.render(sentence, style='dep', jupyter=True, options={'distance':95})"
   ]
  },
  {
   "cell_type": "markdown",
   "metadata": {},
   "source": [
    "### Try pattern"
   ]
  },
  {
   "cell_type": "code",
   "execution_count": 33,
   "metadata": {},
   "outputs": [],
   "source": [
    "from spacy.matcher import Matcher\n",
    "from spacy.tokens import Span"
   ]
  },
  {
   "cell_type": "code",
   "execution_count": 35,
   "metadata": {},
   "outputs": [],
   "source": [
    "#examples for manual checking and mapping with SNOMED\n",
    "test=['Liegt bei Ihnen eine vom Arzt diagnostizierte Demenz vor?',\n",
    "       'Liegt bei Ihnen ein vom Arzt diagnostizierter Diabetes vor?',\n",
    "       'Wann war die letzte Injektion?',\n",
    "       'Hatten Sie bereits einen vom Arzt diagnostizierten Herzinfarkt?',\n",
    "       'Ist bei Ihnen eine vom Arzt diagnostizierte Herzinsuffizienz bekannt?',\n",
    "       'Ist bei Ihnen ein vom Arzt diagnostizierter Hypertonus bekannt?',\n",
    "       'Ist bei Ihnen eine vom Arzt diagnostizierte KHK bekannt?',\n",
    "       'Rauchen Sie?']"
   ]
  },
  {
   "cell_type": "code",
   "execution_count": 36,
   "metadata": {},
   "outputs": [],
   "source": [
    "matcher=Matcher(nlp.vocab)"
   ]
  },
  {
   "cell_type": "code",
   "execution_count": 37,
   "metadata": {},
   "outputs": [],
   "source": [
    "pattern=[[{'POS':'NOUN', 'LOWER': {'NOT_IN': ['arzt']}}], [{'POS':'PROPN'}]]"
   ]
  },
  {
   "cell_type": "code",
   "execution_count": 38,
   "metadata": {},
   "outputs": [],
   "source": [
    "matcher.add('Matching', pattern)"
   ]
  },
  {
   "cell_type": "code",
   "execution_count": 40,
   "metadata": {},
   "outputs": [
    {
     "name": "stdout",
     "output_type": "stream",
     "text": [
      "Liegt bei Ihnen eine vom Arzt diagnostizierte Demenz vor?\n",
      "6895354335150655416 Matching 7 8 Demenz\n",
      "Liegt bei Ihnen ein vom Arzt diagnostizierter Diabetes vor?\n",
      "6895354335150655416 Matching 7 8 Diabetes\n",
      "Wann war die letzte Injektion?\n",
      "6895354335150655416 Matching 4 5 Injektion\n",
      "Hatten Sie bereits einen vom Arzt diagnostizierten Herzinfarkt?\n",
      "6895354335150655416 Matching 7 8 Herzinfarkt\n",
      "Ist bei Ihnen eine vom Arzt diagnostizierte Herzinsuffizienz bekannt?\n",
      "6895354335150655416 Matching 7 8 Herzinsuffizienz\n",
      "Ist bei Ihnen ein vom Arzt diagnostizierter Hypertonus bekannt?\n",
      "6895354335150655416 Matching 7 8 Hypertonus\n",
      "Ist bei Ihnen eine vom Arzt diagnostizierte KHK bekannt?\n",
      "6895354335150655416 Matching 7 8 KHK\n",
      "Rauchen Sie?\n",
      "6895354335150655416 Matching 0 1 Rauchen\n"
     ]
    }
   ],
   "source": [
    "export=[]\n",
    "for i in test:\n",
    "    doc=nlp(i)\n",
    "    print(i)\n",
    "    matches = matcher(doc)\n",
    "\n",
    "    for match_id, start, end in matches:\n",
    "        string_id = nlp.vocab.strings[match_id]  # Get string representation\n",
    "        span = doc[start:end]  # The matched span\n",
    "        print(match_id, string_id, start, end, span.text)\n",
    "        export.append(span.text)"
   ]
  },
  {
   "cell_type": "code",
   "execution_count": 43,
   "metadata": {},
   "outputs": [],
   "source": [
    "list_tuples = list(zip(test, export)) \n",
    "df_export=pd.DataFrame(list_tuples, columns=['sentence', 'export'])"
   ]
  },
  {
   "cell_type": "code",
   "execution_count": 55,
   "metadata": {},
   "outputs": [],
   "source": [
    "translation=['dementia', 'diabetes', 'injection', 'heart attack', 'heart failure', 'hypertonus', 'coronary heart disease', 'smoking']\n",
    "snomed_match=[4182210, 'several options', 'several options', 'several options', 316139, 'several options', 'several options', 765451]\n",
    "\n",
    "\n",
    "df_export['translation']=translation\n",
    "df_export['snomed']=snomed_match"
   ]
  },
  {
   "cell_type": "code",
   "execution_count": 56,
   "metadata": {},
   "outputs": [
    {
     "data": {
      "text/html": [
       "<div>\n",
       "<style scoped>\n",
       "    .dataframe tbody tr th:only-of-type {\n",
       "        vertical-align: middle;\n",
       "    }\n",
       "\n",
       "    .dataframe tbody tr th {\n",
       "        vertical-align: top;\n",
       "    }\n",
       "\n",
       "    .dataframe thead th {\n",
       "        text-align: right;\n",
       "    }\n",
       "</style>\n",
       "<table border=\"1\" class=\"dataframe\">\n",
       "  <thead>\n",
       "    <tr style=\"text-align: right;\">\n",
       "      <th></th>\n",
       "      <th>sentence</th>\n",
       "      <th>export</th>\n",
       "      <th>translation</th>\n",
       "      <th>snomed</th>\n",
       "    </tr>\n",
       "  </thead>\n",
       "  <tbody>\n",
       "    <tr>\n",
       "      <th>0</th>\n",
       "      <td>Liegt bei Ihnen eine vom Arzt diagnostizierte ...</td>\n",
       "      <td>Demenz</td>\n",
       "      <td>dementia</td>\n",
       "      <td>4182210</td>\n",
       "    </tr>\n",
       "    <tr>\n",
       "      <th>1</th>\n",
       "      <td>Liegt bei Ihnen ein vom Arzt diagnostizierter ...</td>\n",
       "      <td>Diabetes</td>\n",
       "      <td>diabetes</td>\n",
       "      <td>several options</td>\n",
       "    </tr>\n",
       "    <tr>\n",
       "      <th>2</th>\n",
       "      <td>Wann war die letzte Injektion?</td>\n",
       "      <td>Injektion</td>\n",
       "      <td>injection</td>\n",
       "      <td>several options</td>\n",
       "    </tr>\n",
       "    <tr>\n",
       "      <th>3</th>\n",
       "      <td>Hatten Sie bereits einen vom Arzt diagnostizie...</td>\n",
       "      <td>Herzinfarkt</td>\n",
       "      <td>heart attack</td>\n",
       "      <td>several options</td>\n",
       "    </tr>\n",
       "    <tr>\n",
       "      <th>4</th>\n",
       "      <td>Ist bei Ihnen eine vom Arzt diagnostizierte He...</td>\n",
       "      <td>Herzinsuffizienz</td>\n",
       "      <td>heart failure</td>\n",
       "      <td>316139</td>\n",
       "    </tr>\n",
       "    <tr>\n",
       "      <th>5</th>\n",
       "      <td>Ist bei Ihnen ein vom Arzt diagnostizierter Hy...</td>\n",
       "      <td>Hypertonus</td>\n",
       "      <td>hypertonus</td>\n",
       "      <td>several options</td>\n",
       "    </tr>\n",
       "    <tr>\n",
       "      <th>6</th>\n",
       "      <td>Ist bei Ihnen eine vom Arzt diagnostizierte KH...</td>\n",
       "      <td>KHK</td>\n",
       "      <td>coronary heart disease</td>\n",
       "      <td>several options</td>\n",
       "    </tr>\n",
       "    <tr>\n",
       "      <th>7</th>\n",
       "      <td>Rauchen Sie?</td>\n",
       "      <td>Rauchen</td>\n",
       "      <td>smoking</td>\n",
       "      <td>765451</td>\n",
       "    </tr>\n",
       "  </tbody>\n",
       "</table>\n",
       "</div>"
      ],
      "text/plain": [
       "                                            sentence            export  \\\n",
       "0  Liegt bei Ihnen eine vom Arzt diagnostizierte ...            Demenz   \n",
       "1  Liegt bei Ihnen ein vom Arzt diagnostizierter ...          Diabetes   \n",
       "2                     Wann war die letzte Injektion?         Injektion   \n",
       "3  Hatten Sie bereits einen vom Arzt diagnostizie...       Herzinfarkt   \n",
       "4  Ist bei Ihnen eine vom Arzt diagnostizierte He...  Herzinsuffizienz   \n",
       "5  Ist bei Ihnen ein vom Arzt diagnostizierter Hy...        Hypertonus   \n",
       "6  Ist bei Ihnen eine vom Arzt diagnostizierte KH...               KHK   \n",
       "7                                       Rauchen Sie?           Rauchen   \n",
       "\n",
       "              translation           snomed  \n",
       "0                dementia          4182210  \n",
       "1                diabetes  several options  \n",
       "2               injection  several options  \n",
       "3            heart attack  several options  \n",
       "4           heart failure           316139  \n",
       "5              hypertonus  several options  \n",
       "6  coronary heart disease  several options  \n",
       "7                 smoking           765451  "
      ]
     },
     "execution_count": 56,
     "metadata": {},
     "output_type": "execute_result"
    }
   ],
   "source": [
    "df_export"
   ]
  },
  {
   "cell_type": "markdown",
   "metadata": {},
   "source": [
    "#### Try pattern for 100 sentences"
   ]
  },
  {
   "cell_type": "code",
   "execution_count": 65,
   "metadata": {},
   "outputs": [],
   "source": [
    "export={}\n",
    "export['sentence']=[]\n",
    "export['export']=[]\n",
    "for i in HCHS_Langname[0:100]:\n",
    "    doc=nlp(i)\n",
    "    export['sentence'].append(i)\n",
    "    matches = matcher(doc)\n",
    "    words=[]\n",
    "\n",
    "    for match_id, start, end in matches:\n",
    "        string_id = nlp.vocab.strings[match_id]  # Get string representation\n",
    "        span = doc[start:end]  # The matched span\n",
    "        if span.text is not None:\n",
    "            #print(match_id, string_id, start, end, span.text)\n",
    "            words.append(span.text)\n",
    "    export['export'].append(words)\n",
    "        #else:\n",
    "        #    export.append('no')"
   ]
  },
  {
   "cell_type": "code",
   "execution_count": 66,
   "metadata": {},
   "outputs": [],
   "source": [
    "df_export_full=pd.DataFrame(export, columns=['sentence', 'export'])"
   ]
  },
  {
   "cell_type": "code",
   "execution_count": 71,
   "metadata": {},
   "outputs": [],
   "source": [
    "df_export_full.to_csv('export_full.csv', sep=';')"
   ]
  },
  {
   "cell_type": "code",
   "execution_count": 72,
   "metadata": {},
   "outputs": [
    {
     "data": {
      "text/html": [
       "<div>\n",
       "<style scoped>\n",
       "    .dataframe tbody tr th:only-of-type {\n",
       "        vertical-align: middle;\n",
       "    }\n",
       "\n",
       "    .dataframe tbody tr th {\n",
       "        vertical-align: top;\n",
       "    }\n",
       "\n",
       "    .dataframe thead th {\n",
       "        text-align: right;\n",
       "    }\n",
       "</style>\n",
       "<table border=\"1\" class=\"dataframe\">\n",
       "  <thead>\n",
       "    <tr style=\"text-align: right;\">\n",
       "      <th></th>\n",
       "      <th>sentence</th>\n",
       "      <th>export</th>\n",
       "    </tr>\n",
       "  </thead>\n",
       "  <tbody>\n",
       "    <tr>\n",
       "      <th>0</th>\n",
       "      <td>Liegt bei Ihnen eine vom Arzt diagnostizierte ...</td>\n",
       "      <td>[Demenz]</td>\n",
       "    </tr>\n",
       "    <tr>\n",
       "      <th>1</th>\n",
       "      <td>Liegt bei Ihnen ein vom Arzt diagnostizierter ...</td>\n",
       "      <td>[Diabetes]</td>\n",
       "    </tr>\n",
       "    <tr>\n",
       "      <th>2</th>\n",
       "      <td>Wann war die letzte Injektion?</td>\n",
       "      <td>[Injektion]</td>\n",
       "    </tr>\n",
       "    <tr>\n",
       "      <th>3</th>\n",
       "      <td>Hatten Sie bereits einen vom Arzt diagnostizie...</td>\n",
       "      <td>[Herzinfarkt]</td>\n",
       "    </tr>\n",
       "    <tr>\n",
       "      <th>4</th>\n",
       "      <td>Ist bei Ihnen eine vom Arzt diagnostizierte He...</td>\n",
       "      <td>[Herzinsuffizienz]</td>\n",
       "    </tr>\n",
       "    <tr>\n",
       "      <th>...</th>\n",
       "      <td>...</td>\n",
       "      <td>...</td>\n",
       "    </tr>\n",
       "    <tr>\n",
       "      <th>95</th>\n",
       "      <td>Verruca vulgaris/plantaris (Füße/Dornwarzen)</td>\n",
       "      <td>[Verruca, vulgaris, Füße, Dornwarzen]</td>\n",
       "    </tr>\n",
       "    <tr>\n",
       "      <th>96</th>\n",
       "      <td>Andere (z.B. Windpocken |  Gürtelrose)</td>\n",
       "      <td>[Windpocken, Gürtelrose]</td>\n",
       "    </tr>\n",
       "    <tr>\n",
       "      <th>97</th>\n",
       "      <td>V.a. Pilzerkrankungen der Haut</td>\n",
       "      <td>[Pilzerkrankungen, Haut]</td>\n",
       "    </tr>\n",
       "    <tr>\n",
       "      <th>98</th>\n",
       "      <td>Onychomykose (Nagelpilz)</td>\n",
       "      <td>[Onychomykose, Nagelpilz]</td>\n",
       "    </tr>\n",
       "    <tr>\n",
       "      <th>99</th>\n",
       "      <td>Pityriasis versicolor (Kleienpilzflechte)</td>\n",
       "      <td>[Pityriasis, versicolor, Kleienpilzflechte]</td>\n",
       "    </tr>\n",
       "  </tbody>\n",
       "</table>\n",
       "<p>100 rows × 2 columns</p>\n",
       "</div>"
      ],
      "text/plain": [
       "                                             sentence  \\\n",
       "0   Liegt bei Ihnen eine vom Arzt diagnostizierte ...   \n",
       "1   Liegt bei Ihnen ein vom Arzt diagnostizierter ...   \n",
       "2                      Wann war die letzte Injektion?   \n",
       "3   Hatten Sie bereits einen vom Arzt diagnostizie...   \n",
       "4   Ist bei Ihnen eine vom Arzt diagnostizierte He...   \n",
       "..                                                ...   \n",
       "95       Verruca vulgaris/plantaris (Füße/Dornwarzen)   \n",
       "96             Andere (z.B. Windpocken |  Gürtelrose)   \n",
       "97                     V.a. Pilzerkrankungen der Haut   \n",
       "98                           Onychomykose (Nagelpilz)   \n",
       "99          Pityriasis versicolor (Kleienpilzflechte)   \n",
       "\n",
       "                                         export  \n",
       "0                                      [Demenz]  \n",
       "1                                    [Diabetes]  \n",
       "2                                   [Injektion]  \n",
       "3                                 [Herzinfarkt]  \n",
       "4                            [Herzinsuffizienz]  \n",
       "..                                          ...  \n",
       "95        [Verruca, vulgaris, Füße, Dornwarzen]  \n",
       "96                     [Windpocken, Gürtelrose]  \n",
       "97                     [Pilzerkrankungen, Haut]  \n",
       "98                    [Onychomykose, Nagelpilz]  \n",
       "99  [Pityriasis, versicolor, Kleienpilzflechte]  \n",
       "\n",
       "[100 rows x 2 columns]"
      ]
     },
     "execution_count": 72,
     "metadata": {},
     "output_type": "execute_result"
    }
   ],
   "source": [
    "df_export_full"
   ]
  },
  {
   "cell_type": "code",
   "execution_count": null,
   "metadata": {},
   "outputs": [],
   "source": []
  }
 ],
 "metadata": {
  "interpreter": {
   "hash": "949777d72b0d2535278d3dc13498b2535136f6dfe0678499012e853ee9abcab1"
  },
  "kernelspec": {
   "display_name": "Python 3.10.2 64-bit",
   "language": "python",
   "name": "python3"
  },
  "language_info": {
   "codemirror_mode": {
    "name": "ipython",
    "version": 3
   },
   "file_extension": ".py",
   "mimetype": "text/x-python",
   "name": "python",
   "nbconvert_exporter": "python",
   "pygments_lexer": "ipython3",
   "version": "3.10.2"
  },
  "orig_nbformat": 4
 },
 "nbformat": 4,
 "nbformat_minor": 2
}
