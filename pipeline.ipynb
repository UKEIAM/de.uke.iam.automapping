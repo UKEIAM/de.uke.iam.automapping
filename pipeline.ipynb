{
 "cells": [
  {
   "cell_type": "code",
   "execution_count": 1,
   "metadata": {},
   "outputs": [
    {
     "name": "stderr",
     "output_type": "stream",
     "text": [
      "/opt/conda/lib/python3.8/site-packages/tqdm/auto.py:22: TqdmWarning: IProgress not found. Please update jupyter and ipywidgets. See https://ipywidgets.readthedocs.io/en/stable/user_install.html\n",
      "  from .autonotebook import tqdm as notebook_tqdm\n"
     ]
    }
   ],
   "source": [
    "import sys\n",
    "sys.path.append('/workspaces/de.uke.iam.automapping/src/automapping/')\n",
    "import pandas as pd\n",
    "\n",
    "\n",
    "#data preparation\n",
    "from loader import ExcelLoader\n",
    "from translator import HuggingFace\n",
    "from language import Language\n",
    "from preprocessor import EntityExtractor\n",
    "from preprocessor import Abbreviations\n",
    "\n",
    "#concepts\n",
    "from concept import Concept\n",
    "\n",
    "#mapping\n",
    "from mapper import TfIdf\n",
    "from detections import Predictions\n"
   ]
  },
  {
   "attachments": {},
   "cell_type": "markdown",
   "metadata": {},
   "source": [
    "## Data Preporation"
   ]
  },
  {
   "attachments": {},
   "cell_type": "markdown",
   "metadata": {},
   "source": [
    "We will work with German medical-related phrases and therefore data-preporation steps will include:\n",
    "1. Loading the data from Excel file\n",
    "2. Replace German Medical abbreviations \n",
    "3. Translation with Hugging Face model \n",
    "4. NLP preprocessing: lemmatisation, lowercasing, punctuation and stop words removal"
   ]
  },
  {
   "attachments": {},
   "cell_type": "markdown",
   "metadata": {},
   "source": [
    "#### Loading the data from Excel file"
   ]
  },
  {
   "cell_type": "code",
   "execution_count": 2,
   "metadata": {},
   "outputs": [],
   "source": [
    "data_file = \"/workspaces/de.uke.iam.automapping/data_example/example_data.xlsx\"\n",
    "identifiers, variables =ExcelLoader(data_file, 'Kurzname', 'Langname', Language.GERMAN)()"
   ]
  },
  {
   "cell_type": "code",
   "execution_count": 3,
   "metadata": {},
   "outputs": [
    {
     "data": {
      "text/plain": [
       "0    AMA_934\n",
       "1    VAE_495\n",
       "2    NDJ_956\n",
       "3    DJD_333\n",
       "Name: Kurzname, dtype: object"
      ]
     },
     "execution_count": 3,
     "metadata": {},
     "output_type": "execute_result"
    }
   ],
   "source": [
    "identifiers"
   ]
  },
  {
   "cell_type": "code",
   "execution_count": 4,
   "metadata": {},
   "outputs": [
    {
     "data": {
      "text/plain": [
       "0                           Kongenitale Herzerkrankung\n",
       "1    Wurde Kontrastmittel für das Kardio MRT verwen...\n",
       "2                     Wird ein mobiles EKG ausgegeben?\n",
       "3    Ist bei Ihnen eine vom Arzt diagnostizierte KH...\n",
       "Name: Langname, dtype: object"
      ]
     },
     "execution_count": 4,
     "metadata": {},
     "output_type": "execute_result"
    }
   ],
   "source": [
    "variables"
   ]
  },
  {
   "attachments": {},
   "cell_type": "markdown",
   "metadata": {},
   "source": [
    "#### Replace German Medical abbreviations \n",
    "In this implementation, we used a table with abbreviations and their descriptions from [Medizinische_Abkürzungen](https://www.bionity.com/de/lexikon/Medizinische_Abk%C3%BCrzungen.html) to replace them. \n"
   ]
  },
  {
   "cell_type": "code",
   "execution_count": 5,
   "metadata": {},
   "outputs": [],
   "source": [
    "#Load abbreviations with desciption from Excel file\n",
    "abbreviation_file = \"/workspaces/de.uke.iam.automapping/data_example/german_abbreviation.xlsx\"\n",
    "abbreviation = Abbreviations.load_abbreviations(abbreviation_file, 'Abbreviation', 'Description')"
   ]
  },
  {
   "attachments": {},
   "cell_type": "markdown",
   "metadata": {},
   "source": [
    "#### Translation with Hugging Face model "
   ]
  },
  {
   "cell_type": "code",
   "execution_count": 6,
   "metadata": {},
   "outputs": [],
   "source": [
    "#Preparing translation model\n",
    "model_translator=HuggingFace(Language.GERMAN, Language.ENGLISH)"
   ]
  },
  {
   "cell_type": "code",
   "execution_count": 7,
   "metadata": {},
   "outputs": [],
   "source": [
    "translated_phrases=model_translator.translate(variables, abbreviation)"
   ]
  },
  {
   "cell_type": "code",
   "execution_count": 8,
   "metadata": {},
   "outputs": [
    {
     "data": {
      "text/plain": [
       "['Congenital heart disease',\n",
       " 'Was contrast agent used for cardio magnetic resonance imaging?',\n",
       " 'Is a mobile electrocardiogram issued?',\n",
       " 'Are you aware of a coronary heart disease diagnosed by your doctor?']"
      ]
     },
     "execution_count": 8,
     "metadata": {},
     "output_type": "execute_result"
    }
   ],
   "source": [
    "#first five translated phrases\n",
    "translated_phrases[:5]"
   ]
  },
  {
   "attachments": {},
   "cell_type": "markdown",
   "metadata": {},
   "source": [
    "#### NLP preprocessing: lemmatisation, lowercasing, punctuation and stop words removal"
   ]
  },
  {
   "cell_type": "code",
   "execution_count": 9,
   "metadata": {},
   "outputs": [],
   "source": [
    "#Prepatring entity extraction model (lemmatisation, stop words removal, etc)\n",
    "model_entity=EntityExtractor()"
   ]
  },
  {
   "cell_type": "code",
   "execution_count": 10,
   "metadata": {},
   "outputs": [],
   "source": [
    "prep_data=model_entity(translated_phrases)"
   ]
  },
  {
   "cell_type": "code",
   "execution_count": 11,
   "metadata": {},
   "outputs": [],
   "source": [
    "list_of_prep_data = list(prep_data)"
   ]
  },
  {
   "cell_type": "code",
   "execution_count": 12,
   "metadata": {},
   "outputs": [
    {
     "data": {
      "text/plain": [
       "['congenital heart disease',\n",
       " 'contrast agent cardio magnetic resonance imaging',\n",
       " 'mobile electrocardiogram issue',\n",
       " 'aware coronary heart disease diagnose']"
      ]
     },
     "execution_count": 12,
     "metadata": {},
     "output_type": "execute_result"
    }
   ],
   "source": [
    "list_of_prep_data[:5]"
   ]
  },
  {
   "attachments": {},
   "cell_type": "markdown",
   "metadata": {},
   "source": [
    "## Concepts preporation \n",
    "\n",
    "Files were downloaded from [Athena](https://athena.ohdsi.org/search-terms/start) website "
   ]
  },
  {
   "cell_type": "code",
   "execution_count": 14,
   "metadata": {},
   "outputs": [
    {
     "data": {
      "text/html": [
       "<div>\n",
       "<style scoped>\n",
       "    .dataframe tbody tr th:only-of-type {\n",
       "        vertical-align: middle;\n",
       "    }\n",
       "\n",
       "    .dataframe tbody tr th {\n",
       "        vertical-align: top;\n",
       "    }\n",
       "\n",
       "    .dataframe thead th {\n",
       "        text-align: right;\n",
       "    }\n",
       "</style>\n",
       "<table border=\"1\" class=\"dataframe\">\n",
       "  <thead>\n",
       "    <tr style=\"text-align: right;\">\n",
       "      <th></th>\n",
       "      <th>concept_id</th>\n",
       "      <th>concept_name</th>\n",
       "      <th>domain_id</th>\n",
       "      <th>vocabulary_id</th>\n",
       "      <th>concept_class_id</th>\n",
       "      <th>standard_concept</th>\n",
       "      <th>concept_code</th>\n",
       "      <th>valid_start_date</th>\n",
       "      <th>valid_end_date</th>\n",
       "      <th>invalid_reason</th>\n",
       "    </tr>\n",
       "  </thead>\n",
       "  <tbody>\n",
       "    <tr>\n",
       "      <th>0</th>\n",
       "      <td>1146945</td>\n",
       "      <td>concept.concept_id</td>\n",
       "      <td>Metadata</td>\n",
       "      <td>CDM</td>\n",
       "      <td>Field</td>\n",
       "      <td>S</td>\n",
       "      <td>CDM1</td>\n",
       "      <td>20141111</td>\n",
       "      <td>20991231</td>\n",
       "      <td>NaN</td>\n",
       "    </tr>\n",
       "    <tr>\n",
       "      <th>1</th>\n",
       "      <td>1146954</td>\n",
       "      <td>concept.invalid_reason</td>\n",
       "      <td>Metadata</td>\n",
       "      <td>CDM</td>\n",
       "      <td>Field</td>\n",
       "      <td>S</td>\n",
       "      <td>CDM10</td>\n",
       "      <td>20141111</td>\n",
       "      <td>20991231</td>\n",
       "      <td>NaN</td>\n",
       "    </tr>\n",
       "    <tr>\n",
       "      <th>2</th>\n",
       "      <td>1147044</td>\n",
       "      <td>observation_period.observation_period_id</td>\n",
       "      <td>Metadata</td>\n",
       "      <td>CDM</td>\n",
       "      <td>Field</td>\n",
       "      <td>S</td>\n",
       "      <td>CDM100</td>\n",
       "      <td>20141111</td>\n",
       "      <td>20991231</td>\n",
       "      <td>NaN</td>\n",
       "    </tr>\n",
       "    <tr>\n",
       "      <th>3</th>\n",
       "      <td>756315</td>\n",
       "      <td>metadata.metadata_type_concept_id</td>\n",
       "      <td>Metadata</td>\n",
       "      <td>CDM</td>\n",
       "      <td>Field</td>\n",
       "      <td>S</td>\n",
       "      <td>CDM1000</td>\n",
       "      <td>20210925</td>\n",
       "      <td>20991231</td>\n",
       "      <td>NaN</td>\n",
       "    </tr>\n",
       "    <tr>\n",
       "      <th>4</th>\n",
       "      <td>756316</td>\n",
       "      <td>metadata.name</td>\n",
       "      <td>Metadata</td>\n",
       "      <td>CDM</td>\n",
       "      <td>Field</td>\n",
       "      <td>S</td>\n",
       "      <td>CDM1001</td>\n",
       "      <td>20210925</td>\n",
       "      <td>20991231</td>\n",
       "      <td>NaN</td>\n",
       "    </tr>\n",
       "  </tbody>\n",
       "</table>\n",
       "</div>"
      ],
      "text/plain": [
       "   concept_id                              concept_name domain_id  \\\n",
       "0     1146945                        concept.concept_id  Metadata   \n",
       "1     1146954                    concept.invalid_reason  Metadata   \n",
       "2     1147044  observation_period.observation_period_id  Metadata   \n",
       "3      756315         metadata.metadata_type_concept_id  Metadata   \n",
       "4      756316                             metadata.name  Metadata   \n",
       "\n",
       "  vocabulary_id concept_class_id standard_concept concept_code  \\\n",
       "0           CDM            Field                S         CDM1   \n",
       "1           CDM            Field                S        CDM10   \n",
       "2           CDM            Field                S       CDM100   \n",
       "3           CDM            Field                S      CDM1000   \n",
       "4           CDM            Field                S      CDM1001   \n",
       "\n",
       "   valid_start_date  valid_end_date invalid_reason  \n",
       "0          20141111        20991231            NaN  \n",
       "1          20141111        20991231            NaN  \n",
       "2          20141111        20991231            NaN  \n",
       "3          20210925        20991231            NaN  \n",
       "4          20210925        20991231            NaN  "
      ]
     },
     "execution_count": 14,
     "metadata": {},
     "output_type": "execute_result"
    }
   ],
   "source": [
    "concept_file = \"/workspaces/de.uke.iam.automapping/src/automapping/CONCEPT.csv\"\n",
    "concepts = pd.read_csv(concept_file, on_bad_lines=\"skip\", delimiter=\"\\t\", low_memory=False)\n",
    "concepts.head()"
   ]
  },
  {
   "cell_type": "code",
   "execution_count": 15,
   "metadata": {},
   "outputs": [
    {
     "data": {
      "text/html": [
       "<div>\n",
       "<style scoped>\n",
       "    .dataframe tbody tr th:only-of-type {\n",
       "        vertical-align: middle;\n",
       "    }\n",
       "\n",
       "    .dataframe tbody tr th {\n",
       "        vertical-align: top;\n",
       "    }\n",
       "\n",
       "    .dataframe thead th {\n",
       "        text-align: right;\n",
       "    }\n",
       "</style>\n",
       "<table border=\"1\" class=\"dataframe\">\n",
       "  <thead>\n",
       "    <tr style=\"text-align: right;\">\n",
       "      <th></th>\n",
       "      <th>concept_id</th>\n",
       "      <th>concept_synonym_name</th>\n",
       "      <th>language_concept_id</th>\n",
       "    </tr>\n",
       "  </thead>\n",
       "  <tbody>\n",
       "    <tr>\n",
       "      <th>0</th>\n",
       "      <td>36674183</td>\n",
       "      <td>Goal Attainment Scaling-Light score</td>\n",
       "      <td>4180186</td>\n",
       "    </tr>\n",
       "    <tr>\n",
       "      <th>1</th>\n",
       "      <td>36674183</td>\n",
       "      <td>Goal Attainment Scaling-Light score (observabl...</td>\n",
       "      <td>4180186</td>\n",
       "    </tr>\n",
       "    <tr>\n",
       "      <th>2</th>\n",
       "      <td>36674184</td>\n",
       "      <td>Assessment using Goal Attainment Scaling-Light</td>\n",
       "      <td>4180186</td>\n",
       "    </tr>\n",
       "    <tr>\n",
       "      <th>3</th>\n",
       "      <td>36674184</td>\n",
       "      <td>Assessment using Goal Attainment Scaling-Light...</td>\n",
       "      <td>4180186</td>\n",
       "    </tr>\n",
       "    <tr>\n",
       "      <th>4</th>\n",
       "      <td>36674185</td>\n",
       "      <td>Burn of eye proper (disorder)</td>\n",
       "      <td>4180186</td>\n",
       "    </tr>\n",
       "  </tbody>\n",
       "</table>\n",
       "</div>"
      ],
      "text/plain": [
       "   concept_id                               concept_synonym_name  \\\n",
       "0    36674183                Goal Attainment Scaling-Light score   \n",
       "1    36674183  Goal Attainment Scaling-Light score (observabl...   \n",
       "2    36674184     Assessment using Goal Attainment Scaling-Light   \n",
       "3    36674184  Assessment using Goal Attainment Scaling-Light...   \n",
       "4    36674185                      Burn of eye proper (disorder)   \n",
       "\n",
       "   language_concept_id  \n",
       "0              4180186  \n",
       "1              4180186  \n",
       "2              4180186  \n",
       "3              4180186  \n",
       "4              4180186  "
      ]
     },
     "execution_count": 15,
     "metadata": {},
     "output_type": "execute_result"
    }
   ],
   "source": [
    "synonym_file = \"/workspaces/de.uke.iam.automapping/src/automapping/CONCEPT_SYNONYM.csv\"\n",
    "synonyms = pd.read_csv(synonym_file, on_bad_lines=\"skip\", delimiter=\"\\t\", low_memory=False)\n",
    "synonyms.head()"
   ]
  },
  {
   "cell_type": "code",
   "execution_count": 16,
   "metadata": {},
   "outputs": [
    {
     "data": {
      "text/html": [
       "<div>\n",
       "<style scoped>\n",
       "    .dataframe tbody tr th:only-of-type {\n",
       "        vertical-align: middle;\n",
       "    }\n",
       "\n",
       "    .dataframe tbody tr th {\n",
       "        vertical-align: top;\n",
       "    }\n",
       "\n",
       "    .dataframe thead th {\n",
       "        text-align: right;\n",
       "    }\n",
       "</style>\n",
       "<table border=\"1\" class=\"dataframe\">\n",
       "  <thead>\n",
       "    <tr style=\"text-align: right;\">\n",
       "      <th></th>\n",
       "      <th>vocabulary_id</th>\n",
       "      <th>vocabulary_name</th>\n",
       "      <th>vocabulary_reference</th>\n",
       "      <th>vocabulary_version</th>\n",
       "      <th>vocabulary_concept_id</th>\n",
       "    </tr>\n",
       "  </thead>\n",
       "  <tbody>\n",
       "    <tr>\n",
       "      <th>0</th>\n",
       "      <td>None</td>\n",
       "      <td>OMOP Standardized Vocabularies</td>\n",
       "      <td>OMOP generated</td>\n",
       "      <td>v5.0 04-FEB-22</td>\n",
       "      <td>44819096</td>\n",
       "    </tr>\n",
       "    <tr>\n",
       "      <th>1</th>\n",
       "      <td>Visit Type</td>\n",
       "      <td>OMOP Visit Type</td>\n",
       "      <td>OMOP generated</td>\n",
       "      <td>NaN</td>\n",
       "      <td>44819150</td>\n",
       "    </tr>\n",
       "    <tr>\n",
       "      <th>2</th>\n",
       "      <td>OSM</td>\n",
       "      <td>OpenStreetMap</td>\n",
       "      <td>https://www.openstreetmap.org/copyright/en, ht...</td>\n",
       "      <td>OSM Release 2019-02-21</td>\n",
       "      <td>32541</td>\n",
       "    </tr>\n",
       "    <tr>\n",
       "      <th>3</th>\n",
       "      <td>Type Concept</td>\n",
       "      <td>OMOP Type Concept</td>\n",
       "      <td>OMOP generated</td>\n",
       "      <td>Type Concept 20210212</td>\n",
       "      <td>32808</td>\n",
       "    </tr>\n",
       "    <tr>\n",
       "      <th>4</th>\n",
       "      <td>Note Type</td>\n",
       "      <td>OMOP Note Type</td>\n",
       "      <td>OMOP generated</td>\n",
       "      <td>NaN</td>\n",
       "      <td>44819146</td>\n",
       "    </tr>\n",
       "  </tbody>\n",
       "</table>\n",
       "</div>"
      ],
      "text/plain": [
       "  vocabulary_id                 vocabulary_name  \\\n",
       "0          None  OMOP Standardized Vocabularies   \n",
       "1    Visit Type                 OMOP Visit Type   \n",
       "2           OSM                   OpenStreetMap   \n",
       "3  Type Concept               OMOP Type Concept   \n",
       "4     Note Type                  OMOP Note Type   \n",
       "\n",
       "                                vocabulary_reference      vocabulary_version  \\\n",
       "0                                     OMOP generated          v5.0 04-FEB-22   \n",
       "1                                     OMOP generated                     NaN   \n",
       "2  https://www.openstreetmap.org/copyright/en, ht...  OSM Release 2019-02-21   \n",
       "3                                     OMOP generated   Type Concept 20210212   \n",
       "4                                     OMOP generated                     NaN   \n",
       "\n",
       "   vocabulary_concept_id  \n",
       "0               44819096  \n",
       "1               44819150  \n",
       "2                  32541  \n",
       "3                  32808  \n",
       "4               44819146  "
      ]
     },
     "execution_count": 16,
     "metadata": {},
     "output_type": "execute_result"
    }
   ],
   "source": [
    "vocabulary_file = \"/workspaces/de.uke.iam.automapping/src/automapping/VOCABULARY.csv\"\n",
    "vocabulary = pd.read_csv(vocabulary_file, on_bad_lines=\"skip\", delimiter=\"\\t\", low_memory=False)\n",
    "vocabulary.head()"
   ]
  },
  {
   "cell_type": "code",
   "execution_count": 17,
   "metadata": {},
   "outputs": [
    {
     "name": "stderr",
     "output_type": "stream",
     "text": [
      "/workspaces/de.uke.iam.automapping/src/automapping/concept.py:33: SettingWithCopyWarning: \n",
      "A value is trying to be set on a copy of a slice from a DataFrame.\n",
      "Try using .loc[row_indexer,col_indexer] = value instead\n",
      "\n",
      "See the caveats in the documentation: https://pandas.pydata.org/pandas-docs/stable/user_guide/indexing.html#returning-a-view-versus-a-copy\n",
      "  concepts[\"concept_name\"] = (\n"
     ]
    }
   ],
   "source": [
    "concepts=Concept.concatenate_concept_with_their_synonyms(concepts, synonyms, vocabulary, 'SNOMED')"
   ]
  },
  {
   "attachments": {},
   "cell_type": "markdown",
   "metadata": {},
   "source": [
    "### Mapping"
   ]
  },
  {
   "cell_type": "code",
   "execution_count": 18,
   "metadata": {},
   "outputs": [],
   "source": [
    "model_map=TfIdf(concepts)"
   ]
  },
  {
   "cell_type": "code",
   "execution_count": 19,
   "metadata": {},
   "outputs": [],
   "source": [
    "mapping=model_map(list_of_prep_data, list(identifiers))"
   ]
  },
  {
   "cell_type": "code",
   "execution_count": 20,
   "metadata": {},
   "outputs": [],
   "source": [
    "df=Predictions.to_df(mapping, 5)"
   ]
  },
  {
   "cell_type": "code",
   "execution_count": 21,
   "metadata": {},
   "outputs": [
    {
     "data": {
      "text/html": [
       "<div>\n",
       "<style scoped>\n",
       "    .dataframe tbody tr th:only-of-type {\n",
       "        vertical-align: middle;\n",
       "    }\n",
       "\n",
       "    .dataframe tbody tr th {\n",
       "        vertical-align: top;\n",
       "    }\n",
       "\n",
       "    .dataframe thead th {\n",
       "        text-align: right;\n",
       "    }\n",
       "</style>\n",
       "<table border=\"1\" class=\"dataframe\">\n",
       "  <thead>\n",
       "    <tr style=\"text-align: right;\">\n",
       "      <th></th>\n",
       "      <th>SourceID</th>\n",
       "      <th>SourceName</th>\n",
       "      <th>targetConceptName</th>\n",
       "      <th>targetConceptID</th>\n",
       "      <th>targetConceptCode</th>\n",
       "      <th>targetDomainID</th>\n",
       "      <th>targetVocabularyVersion</th>\n",
       "      <th>MatchScore</th>\n",
       "    </tr>\n",
       "  </thead>\n",
       "  <tbody>\n",
       "    <tr>\n",
       "      <th>0</th>\n",
       "      <td>AMA_934</td>\n",
       "      <td>congenital heart disease</td>\n",
       "      <td>congenital heart disease</td>\n",
       "      <td>312723</td>\n",
       "      <td>13213009</td>\n",
       "      <td>Condition</td>\n",
       "      <td>2020-07-31 SNOMED CT International Edition; 20...</td>\n",
       "      <td>1.000000</td>\n",
       "    </tr>\n",
       "    <tr>\n",
       "      <th>1</th>\n",
       "      <td>AMA_934</td>\n",
       "      <td>congenital heart disease</td>\n",
       "      <td>congenital heart disease service</td>\n",
       "      <td>44811433</td>\n",
       "      <td>893341000000106</td>\n",
       "      <td>Observation</td>\n",
       "      <td>2020-07-31 SNOMED CT International Edition; 20...</td>\n",
       "      <td>0.851862</td>\n",
       "    </tr>\n",
       "    <tr>\n",
       "      <th>2</th>\n",
       "      <td>AMA_934</td>\n",
       "      <td>congenital heart disease</td>\n",
       "      <td>heart disease</td>\n",
       "      <td>321588</td>\n",
       "      <td>56265001</td>\n",
       "      <td>Condition</td>\n",
       "      <td>2020-07-31 SNOMED CT International Edition; 20...</td>\n",
       "      <td>0.831279</td>\n",
       "    </tr>\n",
       "    <tr>\n",
       "      <th>3</th>\n",
       "      <td>AMA_934</td>\n",
       "      <td>congenital heart disease</td>\n",
       "      <td>congenital heart disease in pregnancy</td>\n",
       "      <td>4129018</td>\n",
       "      <td>237227006</td>\n",
       "      <td>Condition</td>\n",
       "      <td>2020-07-31 SNOMED CT International Edition; 20...</td>\n",
       "      <td>0.779252</td>\n",
       "    </tr>\n",
       "    <tr>\n",
       "      <th>4</th>\n",
       "      <td>AMA_934</td>\n",
       "      <td>congenital heart disease</td>\n",
       "      <td>congenital disease</td>\n",
       "      <td>440508</td>\n",
       "      <td>66091009</td>\n",
       "      <td>Condition</td>\n",
       "      <td>2020-07-31 SNOMED CT International Edition; 20...</td>\n",
       "      <td>0.774614</td>\n",
       "    </tr>\n",
       "  </tbody>\n",
       "</table>\n",
       "</div>"
      ],
      "text/plain": [
       "  SourceID                SourceName                      targetConceptName  \\\n",
       "0  AMA_934  congenital heart disease               congenital heart disease   \n",
       "1  AMA_934  congenital heart disease       congenital heart disease service   \n",
       "2  AMA_934  congenital heart disease                          heart disease   \n",
       "3  AMA_934  congenital heart disease  congenital heart disease in pregnancy   \n",
       "4  AMA_934  congenital heart disease                     congenital disease   \n",
       "\n",
       "   targetConceptID targetConceptCode targetDomainID  \\\n",
       "0           312723          13213009      Condition   \n",
       "1         44811433   893341000000106    Observation   \n",
       "2           321588          56265001      Condition   \n",
       "3          4129018         237227006      Condition   \n",
       "4           440508          66091009      Condition   \n",
       "\n",
       "                             targetVocabularyVersion  MatchScore  \n",
       "0  2020-07-31 SNOMED CT International Edition; 20...    1.000000  \n",
       "1  2020-07-31 SNOMED CT International Edition; 20...    0.851862  \n",
       "2  2020-07-31 SNOMED CT International Edition; 20...    0.831279  \n",
       "3  2020-07-31 SNOMED CT International Edition; 20...    0.779252  \n",
       "4  2020-07-31 SNOMED CT International Edition; 20...    0.774614  "
      ]
     },
     "execution_count": 21,
     "metadata": {},
     "output_type": "execute_result"
    }
   ],
   "source": [
    "df.head()"
   ]
  },
  {
   "cell_type": "code",
   "execution_count": 22,
   "metadata": {},
   "outputs": [],
   "source": [
    "df.to_csv('/workspaces/de.uke.iam.automapping/data_example/mapping.csv', index=False)"
   ]
  }
 ],
 "metadata": {
  "kernelspec": {
   "display_name": "base",
   "language": "python",
   "name": "python3"
  },
  "language_info": {
   "codemirror_mode": {
    "name": "ipython",
    "version": 3
   },
   "file_extension": ".py",
   "mimetype": "text/x-python",
   "name": "python",
   "nbconvert_exporter": "python",
   "pygments_lexer": "ipython3",
   "version": "3.8.13"
  },
  "orig_nbformat": 4
 },
 "nbformat": 4,
 "nbformat_minor": 2
}
